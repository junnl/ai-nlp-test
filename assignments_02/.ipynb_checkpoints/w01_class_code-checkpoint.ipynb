{
 "cells": [
  {
   "cell_type": "code",
   "execution_count": 1,
   "metadata": {
    "collapsed": true
   },
   "outputs": [],
   "source": [
    "coordination_source = \"\"\"\n",
    "{name:'兰州', geoCoord:[103.73, 36.03]},\n",
    "{name:'嘉峪关', geoCoord:[98.17, 39.47]},\n",
    "{name:'西宁', geoCoord:[101.74, 36.56]},\n",
    "{name:'成都', geoCoord:[104.06, 30.67]},\n",
    "{name:'石家庄', geoCoord:[114.48, 38.03]},\n",
    "{name:'拉萨', geoCoord:[102.73, 25.04]},\n",
    "{name:'贵阳', geoCoord:[106.71, 26.57]},\n",
    "{name:'武汉', geoCoord:[114.31, 30.52]},\n",
    "{name:'郑州', geoCoord:[113.65, 34.76]},\n",
    "{name:'济南', geoCoord:[117, 36.65]},\n",
    "{name:'南京', geoCoord:[118.78, 32.04]},\n",
    "{name:'合肥', geoCoord:[117.27, 31.86]},\n",
    "{name:'杭州', geoCoord:[120.19, 30.26]},\n",
    "{name:'南昌', geoCoord:[115.89, 28.68]},\n",
    "{name:'福州', geoCoord:[119.3, 26.08]},\n",
    "{name:'广州', geoCoord:[113.23, 23.16]},\n",
    "{name:'长沙', geoCoord:[113, 28.21]},\n",
    "//{name:'海口', geoCoord:[110.35, 20.02]},\n",
    "{name:'沈阳', geoCoord:[123.38, 41.8]},\n",
    "{name:'长春', geoCoord:[125.35, 43.88]},\n",
    "{name:'哈尔滨', geoCoord:[126.63, 45.75]},\n",
    "{name:'太原', geoCoord:[112.53, 37.87]},\n",
    "{name:'西安', geoCoord:[108.95, 34.27]},\n",
    "//{name:'台湾', geoCoord:[121.30, 25.03]},\n",
    "{name:'北京', geoCoord:[116.46, 39.92]},\n",
    "{name:'上海', geoCoord:[121.48, 31.22]},\n",
    "{name:'重庆', geoCoord:[106.54, 29.59]},\n",
    "{name:'天津', geoCoord:[117.2, 39.13]},\n",
    "{name:'呼和浩特', geoCoord:[111.65, 40.82]},\n",
    "{name:'南宁', geoCoord:[108.33, 22.84]},\n",
    "//{name:'西藏', geoCoord:[91.11, 29.97]},\n",
    "{name:'银川', geoCoord:[106.27, 38.47]},\n",
    "{name:'乌鲁木齐', geoCoord:[87.68, 43.77]},\n",
    "{name:'香港', geoCoord:[114.17, 22.28]},\n",
    "{name:'澳门', geoCoord:[113.54, 22.19]}\n",
    "\"\"\""
   ]
  },
  {
   "cell_type": "code",
   "execution_count": 2,
   "metadata": {
    "collapsed": true
   },
   "outputs": [],
   "source": [
    "import re"
   ]
  },
  {
   "cell_type": "code",
   "execution_count": 3,
   "metadata": {
    "collapsed": true
   },
   "outputs": [],
   "source": [
    "pattern = re.compile(r\"name:'(.*?)',\\s+geoCoord:\\[(.*?),\\s(.*?)\\]\")"
   ]
  },
  {
   "cell_type": "code",
   "execution_count": 4,
   "metadata": {
    "collapsed": true
   },
   "outputs": [],
   "source": [
    "city_location = {}\n",
    "for line in coordination_source.split('\\n'):\n",
    "    city_info = pattern.findall(line)\n",
    "    if not city_info: continue\n",
    "    \n",
    "    # following: we find the city info\n",
    "    \n",
    "    city, long, lat = city_info[0]\n",
    "    \n",
    "    long, lat = float(long), float(lat)\n",
    "    \n",
    "    city_location[city] = (long, lat)"
   ]
  },
  {
   "cell_type": "code",
   "execution_count": 5,
   "metadata": {},
   "outputs": [
    {
     "data": {
      "text/plain": [
       "{'上海': (121.48, 31.22),\n",
       " '乌鲁木齐': (87.68, 43.77),\n",
       " '兰州': (103.73, 36.03),\n",
       " '北京': (116.46, 39.92),\n",
       " '南京': (118.78, 32.04),\n",
       " '南宁': (108.33, 22.84),\n",
       " '南昌': (115.89, 28.68),\n",
       " '台湾': (121.3, 25.03),\n",
       " '合肥': (117.27, 31.86),\n",
       " '呼和浩特': (111.65, 40.82),\n",
       " '哈尔滨': (126.63, 45.75),\n",
       " '嘉峪关': (98.17, 39.47),\n",
       " '天津': (117.2, 39.13),\n",
       " '太原': (112.53, 37.87),\n",
       " '广州': (113.23, 23.16),\n",
       " '成都': (104.06, 30.67),\n",
       " '拉萨': (102.73, 25.04),\n",
       " '杭州': (120.19, 30.26),\n",
       " '武汉': (114.31, 30.52),\n",
       " '沈阳': (123.38, 41.8),\n",
       " '济南': (117.0, 36.65),\n",
       " '海口': (110.35, 20.02),\n",
       " '澳门': (113.54, 22.19),\n",
       " '石家庄': (114.48, 38.03),\n",
       " '福州': (119.3, 26.08),\n",
       " '西宁': (101.74, 36.56),\n",
       " '西安': (108.95, 34.27),\n",
       " '西藏': (91.11, 29.97),\n",
       " '贵阳': (106.71, 26.57),\n",
       " '郑州': (113.65, 34.76),\n",
       " '重庆': (106.54, 29.59),\n",
       " '银川': (106.27, 38.47),\n",
       " '长春': (125.35, 43.88),\n",
       " '长沙': (113.0, 28.21),\n",
       " '香港': (114.17, 22.28)}"
      ]
     },
     "execution_count": 5,
     "metadata": {},
     "output_type": "execute_result"
    }
   ],
   "source": [
    "city_location"
   ]
  },
  {
   "cell_type": "code",
   "execution_count": 6,
   "metadata": {
    "collapsed": true
   },
   "outputs": [],
   "source": [
    "import math \n",
    "def geo_distance(origin, destination):\n",
    "    \n",
    "    lat1, lon1 = origin\n",
    "    lat2, lon2 = destination\n",
    "    radius = 6371  # km\n",
    "\n",
    "    dlat = math.radians(lat2 - lat1)\n",
    "    dlon = math.radians(lon2 - lon1)\n",
    "    a = (math.sin(dlat / 2) * math.sin(dlat / 2) +\n",
    "         math.cos(math.radians(lat1)) * math.cos(math.radians(lat2)) *\n",
    "         math.sin(dlon / 2) * math.sin(dlon / 2))\n",
    "    c = 2 * math.atan2(math.sqrt(a), math.sqrt(1 - a))\n",
    "    d = radius * c\n",
    "\n",
    "    return d"
   ]
  },
  {
   "cell_type": "code",
   "execution_count": 7,
   "metadata": {
    "collapsed": true
   },
   "outputs": [],
   "source": [
    "def get_geo_distance(city1, city2):\n",
    "    return geo_distance(city_location[city1], city_location[city2])"
   ]
  },
  {
   "cell_type": "code",
   "execution_count": 8,
   "metadata": {},
   "outputs": [
    {
     "data": {
      "text/plain": [
       "868.6681437311302"
      ]
     },
     "execution_count": 8,
     "metadata": {},
     "output_type": "execute_result"
    }
   ],
   "source": [
    "get_geo_distance('北京', '西安')"
   ]
  },
  {
   "cell_type": "code",
   "execution_count": 11,
   "metadata": {},
   "outputs": [],
   "source": [
    "import networkx as nx\n",
    "city_graph = nx.Graph()\n",
    "city_graph.add_nodes_from(list(city_location.keys()))"
   ]
  },
  {
   "cell_type": "code",
   "execution_count": 15,
   "metadata": {
    "collapsed": true
   },
   "outputs": [],
   "source": [
    "%matplotlib inline\n",
    "import matplotlib"
   ]
  },
  {
   "cell_type": "code",
   "execution_count": 16,
   "metadata": {
    "collapsed": true
   },
   "outputs": [],
   "source": [
    "import matplotlib.pyplot as plt"
   ]
  },
  {
   "cell_type": "code",
   "execution_count": 17,
   "metadata": {},
   "outputs": [],
   "source": [
    "matplotlib.rcParams['font.family'] = 'Arial Unicode MS'\n",
    "matplotlib.rcParams['font.serif'] = 'Arial Unicode MS'\n",
    "matplotlib.rcParams['font.sans-serif'] = 'Arial Unicode MS'\n",
    "matplotlib.rcParams['axes.unicode_minus'] = False\n"
   ]
  },
  {
   "cell_type": "code",
   "execution_count": 21,
   "metadata": {},
   "outputs": [
    {
     "name": "stderr",
     "output_type": "stream",
     "text": [
      "/Users/junl/anaconda/lib/python3.6/site-packages/networkx/drawing/nx_pylab.py:126: MatplotlibDeprecationWarning: pyplot.hold is deprecated.\n",
      "    Future behavior will be consistent with the long-time default:\n",
      "    plot commands add elements without first clearing the\n",
      "    Axes and/or Figure.\n",
      "  b = plt.ishold()\n",
      "/Users/junl/anaconda/lib/python3.6/site-packages/networkx/drawing/nx_pylab.py:138: MatplotlibDeprecationWarning: pyplot.hold is deprecated.\n",
      "    Future behavior will be consistent with the long-time default:\n",
      "    plot commands add elements without first clearing the\n",
      "    Axes and/or Figure.\n",
      "  plt.hold(b)\n",
      "/Users/junl/anaconda/lib/python3.6/site-packages/matplotlib/__init__.py:917: UserWarning: axes.hold is deprecated. Please remove it from your matplotlibrc and/or style files.\n",
      "  warnings.warn(self.msg_depr_set % key)\n",
      "/Users/junl/anaconda/lib/python3.6/site-packages/matplotlib/rcsetup.py:152: UserWarning: axes.hold is deprecated, will be removed in 3.0\n",
      "  warnings.warn(\"axes.hold is deprecated, will be removed in 3.0\")\n"
     ]
    },
    {
     "data": {
      "image/png": "[encoded data removed]",
      "text/plain": [
       "<matplotlib.figure.Figure at 0x11380e6d8>"
      ]
     },
     "metadata": {},
     "output_type": "display_data"
    }
   ],
   "source": [
    "nx.draw(city_graph, city_location, with_labels=True, node_size=20)"
   ]
  },
  {
   "cell_type": "code",
   "execution_count": 23,
   "metadata": {},
   "outputs": [],
   "source": [
    "from collections import defaultdict\n",
    "city_connection = defaultdict(list)\n",
    "threshold = 300\n",
    "for c1 in city_location:\n",
    "    for c2 in city_location:\n",
    "        if c1 == c2: continue\n",
    "        \n",
    "        distance = get_geo_distance(c1, c2)\n",
    "        \n",
    "        if distance < threshold:\n",
    "            city_connection[c1].append(c2)\n",
    "            city_connection[c2].append(c1)"
   ]
  },
  {
   "cell_type": "code",
   "execution_count": 24,
   "metadata": {},
   "outputs": [
    {
     "data": {
      "text/plain": [
       "defaultdict(list,\n",
       "            {'上海': ['杭州', '杭州'],\n",
       "             '兰州': ['西宁', '成都', '银川', '西宁', '成都', '银川'],\n",
       "             '北京': ['石家庄', '济南', '石家庄', '济南', '天津', '天津'],\n",
       "             '南京': ['合肥', '杭州', '合肥', '杭州'],\n",
       "             '南宁': ['贵阳', '海口', '贵阳', '海口'],\n",
       "             '南昌': ['武汉', '合肥', '武汉', '合肥'],\n",
       "             '台湾': ['福州', '福州'],\n",
       "             '合肥': ['济南', '南京', '济南', '南京', '南昌', '南昌'],\n",
       "             '呼和浩特': ['太原', '太原'],\n",
       "             '哈尔滨': ['长春', '长春'],\n",
       "             '天津': ['济南', '北京', '济南', '北京'],\n",
       "             '太原': ['石家庄', '郑州', '石家庄', '郑州', '呼和浩特', '呼和浩特'],\n",
       "             '广州': ['长沙', '香港', '澳门', '长沙', '香港', '澳门'],\n",
       "             '成都': ['兰州', '西宁', '兰州', '西宁', '拉萨', '重庆', '拉萨', '重庆'],\n",
       "             '拉萨': ['西宁', '成都', '西宁', '成都'],\n",
       "             '杭州': ['南京', '南京', '福州', '上海', '福州', '上海'],\n",
       "             '武汉': ['郑州', '南昌', '长沙', '郑州', '南昌', '长沙'],\n",
       "             '沈阳': ['长春', '长春'],\n",
       "             '济南': ['石家庄', '石家庄', '合肥', '北京', '天津', '合肥', '北京', '天津'],\n",
       "             '海口': ['南宁', '南宁'],\n",
       "             '澳门': ['广州', '长沙', '香港', '广州', '长沙', '香港'],\n",
       "             '石家庄': ['郑州', '济南', '太原', '北京', '郑州', '济南', '太原', '北京'],\n",
       "             '福州': ['杭州', '杭州', '台湾', '台湾'],\n",
       "             '西宁': ['兰州', '兰州', '成都', '拉萨', '成都', '拉萨'],\n",
       "             '贵阳': ['重庆', '南宁', '重庆', '南宁'],\n",
       "             '郑州': ['石家庄', '武汉', '石家庄', '武汉', '长沙', '太原', '长沙', '太原'],\n",
       "             '重庆': ['成都', '贵阳', '成都', '贵阳', '银川', '银川'],\n",
       "             '银川': ['兰州', '重庆', '兰州', '重庆'],\n",
       "             '长春': ['沈阳', '沈阳', '哈尔滨', '哈尔滨'],\n",
       "             '长沙': ['武汉',\n",
       "              '郑州',\n",
       "              '广州',\n",
       "              '武汉',\n",
       "              '郑州',\n",
       "              '广州',\n",
       "              '香港',\n",
       "              '澳门',\n",
       "              '香港',\n",
       "              '澳门'],\n",
       "             '香港': ['广州', '长沙', '广州', '长沙', '澳门', '澳门']})"
      ]
     },
     "execution_count": 24,
     "metadata": {},
     "output_type": "execute_result"
    }
   ],
   "source": [
    "city_connection"
   ]
  },
  {
   "cell_type": "code",
   "execution_count": 25,
   "metadata": {
    "collapsed": true
   },
   "outputs": [],
   "source": [
    "city_with_road = nx.Graph(city_connection)"
   ]
  },
  {
   "cell_type": "code",
   "execution_count": 26,
   "metadata": {},
   "outputs": [
    {
     "name": "stderr",
     "output_type": "stream",
     "text": [
      "/Users/junl/anaconda/lib/python3.6/site-packages/networkx/drawing/nx_pylab.py:126: MatplotlibDeprecationWarning: pyplot.hold is deprecated.\n",
      "    Future behavior will be consistent with the long-time default:\n",
      "    plot commands add elements without first clearing the\n",
      "    Axes and/or Figure.\n",
      "  b = plt.ishold()\n",
      "/Users/junl/anaconda/lib/python3.6/site-packages/networkx/drawing/nx_pylab.py:138: MatplotlibDeprecationWarning: pyplot.hold is deprecated.\n",
      "    Future behavior will be consistent with the long-time default:\n",
      "    plot commands add elements without first clearing the\n",
      "    Axes and/or Figure.\n",
      "  plt.hold(b)\n",
      "/Users/junl/anaconda/lib/python3.6/site-packages/matplotlib/__init__.py:917: UserWarning: axes.hold is deprecated. Please remove it from your matplotlibrc and/or style files.\n",
      "  warnings.warn(self.msg_depr_set % key)\n",
      "/Users/junl/anaconda/lib/python3.6/site-packages/matplotlib/rcsetup.py:152: UserWarning: axes.hold is deprecated, will be removed in 3.0\n",
      "  warnings.warn(\"axes.hold is deprecated, will be removed in 3.0\")\n"
     ]
    },
    {
     "data": {
      "image/png": "[encoded data removed]",
      "text/plain": [
       "<matplotlib.figure.Figure at 0x1136e9588>"
      ]
     },
     "metadata": {},
     "output_type": "display_data"
    }
   ],
   "source": [
    "nx.draw(city_with_road, city_location, with_labels=True, node_size=30)"
   ]
  },
  {
   "cell_type": "code",
   "execution_count": 27,
   "metadata": {
    "collapsed": true
   },
   "outputs": [],
   "source": [
    "simple_connection_info = defaultdict(list)"
   ]
  },
  {
   "cell_type": "code",
   "execution_count": 29,
   "metadata": {
    "collapsed": true
   },
   "outputs": [],
   "source": [
    "simple_connection_info_src = {\n",
    "    '北京': ['太原', '沈阳'],\n",
    "    '太原': ['北京', '西安', '郑州'],\n",
    "    '兰州': ['西安'],\n",
    "    '郑州': ['太原'],\n",
    "    '西安': ['兰州', '长沙'],\n",
    "    '长沙': ['福州', '南宁'],\n",
    "    '沈阳': ['北京']\n",
    "}"
   ]
  },
  {
   "cell_type": "code",
   "execution_count": 30,
   "metadata": {},
   "outputs": [],
   "source": [
    "simple_connection_info.update(simple_connection_info_src)"
   ]
  },
  {
   "cell_type": "code",
   "execution_count": 31,
   "metadata": {
    "collapsed": true
   },
   "outputs": [],
   "source": [
    "def bfs(graph, start):\n",
    "    \"\"\"\n",
    "    breath first search\n",
    "    \"\"\"\n",
    "    visited = [start]\n",
    "    \n",
    "    seen = set()\n",
    "    \n",
    "    while visited:\n",
    "        froninter = visited.pop() #\n",
    "        \n",
    "        if froninter in seen: continue\n",
    "        \n",
    "        for successor in graph[froninter]:\n",
    "            if successor in seen: continue\n",
    "            print(successor)\n",
    "            \n",
    "            #visited = visited + [successor] \n",
    "            visited = [successor] + visited \n",
    "            \n",
    "            # 顺序决定深度还是广度，后来pop的\n",
    "    \n",
    "        d.add(froninter)\n",
    "    \n",
    "    return seen"
   ]
  },
  {
   "cell_type": "code",
   "execution_count": 36,
   "metadata": {},
   "outputs": [
    {
     "name": "stdout",
     "output_type": "stream",
     "text": [
      "2\n",
      "3\n",
      "4\n",
      "5\n",
      "6\n",
      "7\n",
      "8\n"
     ]
    },
    {
     "data": {
      "text/plain": [
       "{1, 2, 3, 4, 5, 6, 7, 8}"
      ]
     },
     "execution_count": 36,
     "metadata": {},
     "output_type": "execute_result"
    }
   ],
   "source": [
    "number_grpah = defaultdict(list)\n",
    "\n",
    "number_grpah.update({\n",
    "    1: [2, 3],\n",
    "    2: [1, 4], \n",
    "    3: [1, 5],\n",
    "    4: [2, 6], \n",
    "    5: [3, 7],\n",
    "    7: [5, 8]\n",
    "})\n",
    "bfs(number_grpah, 1)"
   ]
  },
  {
   "cell_type": "code",
   "execution_count": 33,
   "metadata": {},
   "outputs": [
    {
     "data": {
      "text/plain": [
       "['兰州', '长沙']"
      ]
     },
     "execution_count": 33,
     "metadata": {},
     "output_type": "execute_result"
    }
   ],
   "source": [
    "simple_connection_info['西安']"
   ]
  },
  {
   "cell_type": "code",
   "execution_count": 34,
   "metadata": {},
   "outputs": [
    {
     "name": "stderr",
     "output_type": "stream",
     "text": [
      "/Users/junl/anaconda/lib/python3.6/site-packages/networkx/drawing/nx_pylab.py:126: MatplotlibDeprecationWarning: pyplot.hold is deprecated.\n",
      "    Future behavior will be consistent with the long-time default:\n",
      "    plot commands add elements without first clearing the\n",
      "    Axes and/or Figure.\n",
      "  b = plt.ishold()\n",
      "/Users/junl/anaconda/lib/python3.6/site-packages/networkx/drawing/nx_pylab.py:138: MatplotlibDeprecationWarning: pyplot.hold is deprecated.\n",
      "    Future behavior will be consistent with the long-time default:\n",
      "    plot commands add elements without first clearing the\n",
      "    Axes and/or Figure.\n",
      "  plt.hold(b)\n",
      "/Users/junl/anaconda/lib/python3.6/site-packages/matplotlib/__init__.py:917: UserWarning: axes.hold is deprecated. Please remove it from your matplotlibrc and/or style files.\n",
      "  warnings.warn(self.msg_depr_set % key)\n",
      "/Users/junl/anaconda/lib/python3.6/site-packages/matplotlib/rcsetup.py:152: UserWarning: axes.hold is deprecated, will be removed in 3.0\n",
      "  warnings.warn(\"axes.hold is deprecated, will be removed in 3.0\")\n"
     ]
    },
    {
     "data": {
      "image/png": "[encoded data removed]",
      "text/plain": [
       "<matplotlib.figure.Figure at 0x10feec080>"
      ]
     },
     "metadata": {},
     "output_type": "display_data"
    }
   ],
   "source": [
    "nx.draw(nx.Graph(simple_connection_info), city_location, with_labels=True, node_size=10)"
   ]
  },
  {
   "cell_type": "code",
   "execution_count": 39,
   "metadata": {
    "collapsed": true
   },
   "outputs": [],
   "source": [
    "def search(start, destination, connection_grpah, sort_candidate):\n",
    "    pathes = [[start]]\n",
    "    visitied = set()\n",
    "    \n",
    "    while pathes:\n",
    "        path = pathes.pop(0)\n",
    "        froninter = path[-1]\n",
    "        \n",
    "        if froninter in visitied: continue\n",
    "            \n",
    "        successors = connection_grpah[froninter]\n",
    "        for city in successors:\n",
    "            if city in path: continue\n",
    "            new_path = path + [city]\n",
    "            pathes.append(new_path)\n",
    "            if city == destination: return new_path\n",
    "        \n",
    "        visitied.add(froninter)\n",
    "        \n",
    "        pathes = sort_candidate(pathes)        \n",
    "            \n",
    "        "
   ]
  },
  {
   "cell_type": "code",
   "execution_count": 40,
   "metadata": {
    "collapsed": true
   },
   "outputs": [],
   "source": [
    "def transfer_stations_first(pathes): \n",
    "    return sorted(pathes, key=len)"
   ]
  },
  {
   "cell_type": "code",
   "execution_count": 41,
   "metadata": {
    "collapsed": true
   },
   "outputs": [],
   "source": [
    "def transfer_as_much_possible(pathes):\n",
    "    return sorted(pathes, key=len, reverse=True)"
   ]
  },
  {
   "cell_type": "code",
   "execution_count": 42,
   "metadata": {
    "collapsed": true
   },
   "outputs": [],
   "source": [
    "def shortest_path_first(pathes):\n",
    "    \n",
    "    if len(pathes) <= 1: return pathes\n",
    "    \n",
    "    def get_path_distnace(path):\n",
    "        distance = 0\n",
    "        for station in path[:-1]:\n",
    "            distance += get_geo_distance(station, path[-1])\n",
    "            \n",
    "        return distance\n",
    "\n",
    "    return sorted(pathes, key=get_path_distnace)"
   ]
  },
  {
   "cell_type": "code",
   "execution_count": 43,
   "metadata": {},
   "outputs": [
    {
     "data": {
      "text/plain": [
       "['兰州', '西安', '长沙', '福州']"
      ]
     },
     "execution_count": 43,
     "metadata": {},
     "output_type": "execute_result"
    }
   ],
   "source": [
    "search('兰州', '福州', simple_connection_info, sort_candidate=shortest_path_first)"
   ]
  },
  {
   "cell_type": "code",
   "execution_count": 45,
   "metadata": {},
   "outputs": [
    {
     "data": {
      "text/plain": [
       "['北京', '济南', '合肥', '南京']"
      ]
     },
     "execution_count": 45,
     "metadata": {},
     "output_type": "execute_result"
    }
   ],
   "source": [
    "search('北京', '南京', city_connection, transfer_stations_first)"
   ]
  },
  {
   "cell_type": "code",
   "execution_count": 46,
   "metadata": {},
   "outputs": [
    {
     "data": {
      "text/plain": [
       "['北京', '石家庄', '郑州', '武汉', '南昌', '合肥', '南京']"
      ]
     },
     "execution_count": 46,
     "metadata": {},
     "output_type": "execute_result"
    }
   ],
   "source": [
    "search('北京', '南京', city_connection, transfer_as_much_possible)"
   ]
  },
  {
   "cell_type": "code",
   "execution_count": 47,
   "metadata": {},
   "outputs": [
    {
     "data": {
      "text/plain": [
       "['北京', '济南', '合肥', '南京']"
      ]
     },
     "execution_count": 47,
     "metadata": {},
     "output_type": "execute_result"
    }
   ],
   "source": [
    "search('北京', '南京', city_connection, shortest_path_first)"
   ]
  },
  {
   "cell_type": "markdown",
   "metadata": {},
   "source": [
    "# Machine Learning"
   ]
  },
  {
   "cell_type": "code",
   "execution_count": 48,
   "metadata": {
    "collapsed": true
   },
   "outputs": [],
   "source": [
    "from sklearn.datasets import load_boston\n",
    "data = load_boston()\n",
    "X, Y = data['data'], data['target']"
   ]
  },
  {
   "cell_type": "code",
   "execution_count": 49,
   "metadata": {},
   "outputs": [
    {
     "data": {
      "text/plain": [
       "array([  2.73100000e-02,   0.00000000e+00,   7.07000000e+00,\n",
       "         0.00000000e+00,   4.69000000e-01,   6.42100000e+00,\n",
       "         7.89000000e+01,   4.96710000e+00,   2.00000000e+00,\n",
       "         2.42000000e+02,   1.78000000e+01,   3.96900000e+02,\n",
       "         9.14000000e+00])"
      ]
     },
     "execution_count": 49,
     "metadata": {},
     "output_type": "execute_result"
    }
   ],
   "source": [
    "X[1]"
   ]
  },
  {
   "cell_type": "code",
   "execution_count": 50,
   "metadata": {},
   "outputs": [
    {
     "data": {
      "text/plain": [
       "21.600000000000001"
      ]
     },
     "execution_count": 50,
     "metadata": {},
     "output_type": "execute_result"
    }
   ],
   "source": [
    "Y[1]"
   ]
  },
  {
   "cell_type": "code",
   "execution_count": 53,
   "metadata": {
    "collapsed": true
   },
   "outputs": [],
   "source": [
    "def draw_rm_and_price():\n",
    "    plt.scatter(X[:, 5], Y)"
   ]
  },
  {
   "cell_type": "code",
   "execution_count": 54,
   "metadata": {},
   "outputs": [
    {
     "data": {
      "image/png": "[encoded data removed]",
      "text/plain": [
       "<matplotlib.figure.Figure at 0x1143fa208>"
      ]
     },
     "metadata": {},
     "output_type": "display_data"
    }
   ],
   "source": [
    "draw_rm_and_price()"
   ]
  },
  {
   "cell_type": "code",
   "execution_count": 55,
   "metadata": {
    "collapsed": true
   },
   "outputs": [],
   "source": [
    "def price(rm, k, b):\n",
    "    \"\"\"f(x) = k * x + b\"\"\"\n",
    "    return k * rm + b"
   ]
  },
  {
   "cell_type": "code",
   "execution_count": 56,
   "metadata": {
    "collapsed": true
   },
   "outputs": [],
   "source": [
    "import random"
   ]
  },
  {
   "cell_type": "code",
   "execution_count": 59,
   "metadata": {},
   "outputs": [
    {
     "data": {
      "text/plain": [
       "<matplotlib.collections.PathCollection at 0x11322d7b8>"
      ]
     },
     "execution_count": 59,
     "metadata": {},
     "output_type": "execute_result"
    },
    {
     "data": {
      "image/png": "[encoded data removed]",
      "text/plain": [
       "<matplotlib.figure.Figure at 0x1143fa160>"
      ]
     },
     "metadata": {},
     "output_type": "display_data"
    }
   ],
   "source": [
    "X_rm = X[:, 5]\n",
    "k = random.randint(-100, 100)\n",
    "b = random.randint(-100, 100)\n",
    "price_by_random_k_and_b = [price(r, k, b) for r in X_rm]\n",
    "\n",
    "draw_rm_and_price()\n",
    "plt.scatter(X_rm, price_by_random_k_and_b)"
   ]
  },
  {
   "cell_type": "code",
   "execution_count": 60,
   "metadata": {
    "collapsed": true
   },
   "outputs": [],
   "source": [
    "def loss(y, y_hat): # to evaluate the performance \n",
    "    return sum((y_i - y_hat_i)**2 for y_i, y_hat_i in zip(list(y), list(y_hat))) / len(list(y))"
   ]
  },
  {
   "cell_type": "code",
   "execution_count": 62,
   "metadata": {},
   "outputs": [
    {
     "name": "stdout",
     "output_type": "stream",
     "text": [
      "When time is : 0, get best_k: -73.58414891947334 best_b: -50.703835800842015, and the loss is: 290371.7798182535\n",
      "When time is : 1, get best_k: 17.68369483227967 best_b: 47.61965395982162, and the loss is: 18636.427835148617\n",
      "When time is : 3, get best_k: -14.551292834258447 best_b: -14.4089759420158, and the loss is: 16803.59092390012\n",
      "When time is : 14, get best_k: -11.795113996978344 best_b: 0.22481549186900907, and the loss is: 9558.65384402096\n",
      "When time is : 28, get best_k: 13.396928861826126 best_b: 6.004153912171262, and the loss is: 4631.3960541336655\n",
      "When time is : 31, get best_k: 3.310896822697032 best_b: -55.615906364371085, and the loss is: 3348.1076495094253\n",
      "When time is : 39, get best_k: 5.753709036523745 best_b: 19.3018883913942, and the loss is: 1133.4462009601152\n",
      "When time is : 44, get best_k: 18.435819812832463 best_b: -78.60582413307597, and the loss is: 303.3122626900556\n",
      "When time is : 53, get best_k: 16.269470551212677 best_b: -87.99391627570535, and the loss is: 137.45347735699042\n",
      "When time is : 246, get best_k: 15.308600798162402 best_b: -72.60492683556821, and the loss is: 63.72696268159666\n",
      "When time is : 316, get best_k: 4.371352899067588 best_b: -4.827514147840532, and the loss is: 54.63964855360456\n",
      "When time is : 456, get best_k: 7.849435878352267 best_b: -29.921061095476958, and the loss is: 54.12701785670868\n",
      "When time is : 1401, get best_k: 9.920109686349846 best_b: -39.2397829566681, and the loss is: 44.2570367585083\n"
     ]
    }
   ],
   "source": [
    "trying_times = 2000\n",
    "\n",
    "min_loss = float('inf')\n",
    "best_k, best_b = None, None\n",
    "\n",
    "for i in range(trying_times):\n",
    "    k = random.random() * 200 - 100\n",
    "    b = random.random() * 200 - 100\n",
    "    price_by_random_k_and_b = [price(r, k, b) for r in X_rm]\n",
    "\n",
    "    current_loss = loss(Y, price_by_random_k_and_b)\n",
    "    \n",
    "    if current_loss < min_loss:\n",
    "        min_loss = current_loss\n",
    "        best_k, best_b = k, b\n",
    "        print('When time is : {}, get best_k: {} best_b: {}, and the loss is: {}'.format(i, best_k, best_b, min_loss))"
   ]
  },
  {
   "cell_type": "code",
   "execution_count": 67,
   "metadata": {},
   "outputs": [
    {
     "data": {
      "text/plain": [
       "<matplotlib.collections.PathCollection at 0x11396f860>"
      ]
     },
     "execution_count": 67,
     "metadata": {},
     "output_type": "execute_result"
    },
    {
     "data": {
      "image/png": "[encoded data removed]",
      "text/plain": [
       "<matplotlib.figure.Figure at 0x10fee4898>"
      ]
     },
     "metadata": {},
     "output_type": "display_data"
    }
   ],
   "source": [
    "X_rm = X[:, 5]\n",
    "k = 10\n",
    "b = -39\n",
    "price_by_random_k_and_b = [price(r, k, b) for r in X_rm]\n",
    "\n",
    "draw_rm_and_price()\n",
    "plt.scatter(X_rm, price_by_random_k_and_b)"
   ]
  },
  {
   "cell_type": "code",
   "execution_count": 65,
   "metadata": {},
   "outputs": [
    {
     "name": "stdout",
     "output_type": "stream",
     "text": [
      "When time is : 0, get best_k: -69.99076602624197 best_b: 68.52305647256026, and the loss is: 158264.1472798498\n",
      "When time is : 2, get best_k: -69.89076602624198 best_b: 68.42305647256026, and the loss is: 157840.33948146584\n",
      "When time is : 3, get best_k: -69.79076602624198 best_b: 68.32305647256027, and the loss is: 157417.1000841982\n",
      "When time is : 4, get best_k: -69.69076602624199 best_b: 68.22305647256027, and the loss is: 156994.4290880469\n",
      "When time is : 5, get best_k: -69.590766026242 best_b: 68.12305647256028, and the loss is: 156572.32649301228\n",
      "When time is : 6, get best_k: -69.490766026242 best_b: 68.02305647256028, and the loss is: 156150.7922990943\n",
      "When time is : 7, get best_k: -69.390766026242 best_b: 67.92305647256029, and the loss is: 155729.8265062927\n",
      "When time is : 8, get best_k: -69.29076602624201 best_b: 67.8230564725603, and the loss is: 155309.42911460745\n",
      "When time is : 9, get best_k: -69.19076602624202 best_b: 67.7230564725603, and the loss is: 154889.60012403864\n",
      "When time is : 10, get best_k: -69.09076602624202 best_b: 67.62305647256031, and the loss is: 154470.33953458647\n",
      "When time is : 11, get best_k: -68.99076602624203 best_b: 67.52305647256031, and the loss is: 154051.6473462507\n",
      "When time is : 12, get best_k: -68.89076602624203 best_b: 67.42305647256032, and the loss is: 153633.52355903148\n",
      "When time is : 13, get best_k: -68.79076602624204 best_b: 67.32305647256032, and the loss is: 153215.96817292873\n",
      "When time is : 14, get best_k: -68.69076602624204 best_b: 67.22305647256033, and the loss is: 152798.98118794253\n",
      "When time is : 15, get best_k: -68.59076602624205 best_b: 67.12305647256034, and the loss is: 152382.56260407277\n",
      "When time is : 16, get best_k: -68.49076602624206 best_b: 67.02305647256034, and the loss is: 151966.71242131907\n",
      "When time is : 17, get best_k: -68.39076602624206 best_b: 66.92305647256035, and the loss is: 151551.4306396824\n",
      "When time is : 18, get best_k: -68.29076602624207 best_b: 66.82305647256035, and the loss is: 151136.71725916187\n",
      "When time is : 19, get best_k: -68.19076602624207 best_b: 66.72305647256036, and the loss is: 150722.57227975826\n",
      "When time is : 20, get best_k: -68.09076602624208 best_b: 66.62305647256036, and the loss is: 150308.9957014707\n",
      "When time is : 21, get best_k: -67.99076602624208 best_b: 66.52305647256037, and the loss is: 149895.98752429962\n",
      "When time is : 22, get best_k: -67.89076602624209 best_b: 66.42305647256038, and the loss is: 149483.54774824512\n",
      "When time is : 23, get best_k: -67.7907660262421 best_b: 66.32305647256038, and the loss is: 149071.6763733074\n",
      "When time is : 24, get best_k: -67.6907660262421 best_b: 66.22305647256039, and the loss is: 148660.37339948575\n",
      "When time is : 25, get best_k: -67.59076602624211 best_b: 66.12305647256039, and the loss is: 148249.63882678098\n",
      "When time is : 26, get best_k: -67.49076602624211 best_b: 66.0230564725604, and the loss is: 147839.47265519237\n",
      "When time is : 27, get best_k: -67.39076602624212 best_b: 65.9230564725604, and the loss is: 147429.87488472028\n",
      "When time is : 28, get best_k: -67.29076602624212 best_b: 65.82305647256041, and the loss is: 147020.8455153648\n",
      "When time is : 29, get best_k: -67.19076602624213 best_b: 65.72305647256042, and the loss is: 146612.38454712575\n",
      "When time is : 30, get best_k: -67.09076602624214 best_b: 65.62305647256042, and the loss is: 146204.49198000316\n",
      "When time is : 31, get best_k: -66.99076602624214 best_b: 65.52305647256043, and the loss is: 145797.16781399708\n",
      "When time is : 32, get best_k: -66.89076602624215 best_b: 65.42305647256043, and the loss is: 145390.41204910743\n",
      "When time is : 33, get best_k: -66.79076602624215 best_b: 65.32305647256044, and the loss is: 144984.22468533434\n",
      "When time is : 34, get best_k: -66.69076602624216 best_b: 65.22305647256044, and the loss is: 144578.60572267757\n",
      "When time is : 35, get best_k: -66.59076602624216 best_b: 65.12305647256045, and the loss is: 144173.5551611374\n",
      "When time is : 36, get best_k: -66.49076602624217 best_b: 65.02305647256046, and the loss is: 143769.07300071383\n",
      "When time is : 37, get best_k: -66.39076602624218 best_b: 64.92305647256046, and the loss is: 143365.15924140663\n",
      "When time is : 38, get best_k: -66.29076602624218 best_b: 64.82305647256047, and the loss is: 142961.81388321583\n",
      "When time is : 39, get best_k: -66.19076602624219 best_b: 64.72305647256047, and the loss is: 142559.03692614168\n",
      "When time is : 40, get best_k: -66.09076602624219 best_b: 64.62305647256048, and the loss is: 142156.82837018388\n",
      "When time is : 41, get best_k: -65.9907660262422 best_b: 64.52305647256048, and the loss is: 141755.1882153425\n",
      "When time is : 42, get best_k: -65.8907660262422 best_b: 64.42305647256049, and the loss is: 141354.11646161784\n",
      "When time is : 43, get best_k: -65.79076602624221 best_b: 64.3230564725605, and the loss is: 140953.6131090095\n",
      "When time is : 44, get best_k: -65.69076602624222 best_b: 64.2230564725605, and the loss is: 140553.6781575176\n",
      "When time is : 45, get best_k: -65.59076602624222 best_b: 64.1230564725605, and the loss is: 140154.3116071423\n",
      "When time is : 46, get best_k: -65.49076602624223 best_b: 64.02305647256051, and the loss is: 139755.5134578834\n",
      "When time is : 47, get best_k: -65.39076602624223 best_b: 63.92305647256051, and the loss is: 139357.28370974105\n",
      "When time is : 48, get best_k: -65.29076602624224 best_b: 63.82305647256051, and the loss is: 138959.6223627151\n",
      "When time is : 49, get best_k: -65.19076602624224 best_b: 63.72305647256051, and the loss is: 138562.52941680563\n",
      "When time is : 50, get best_k: -65.09076602624225 best_b: 63.623056472560506, and the loss is: 138166.0048720128\n",
      "When time is : 51, get best_k: -64.99076602624226 best_b: 63.523056472560505, and the loss is: 137770.04872833632\n",
      "When time is : 52, get best_k: -64.89076602624226 best_b: 63.4230564725605, and the loss is: 137374.6609857764\n",
      "When time is : 53, get best_k: -64.79076602624227 best_b: 63.3230564725605, and the loss is: 136979.84164433274\n",
      "When time is : 54, get best_k: -64.69076602624227 best_b: 63.2230564725605, and the loss is: 136585.59070400582\n",
      "When time is : 55, get best_k: -64.59076602624228 best_b: 63.1230564725605, and the loss is: 136191.90816479534\n",
      "When time is : 56, get best_k: -64.49076602624228 best_b: 63.0230564725605, and the loss is: 135798.7940267012\n",
      "When time is : 57, get best_k: -64.39076602624229 best_b: 62.923056472560496, and the loss is: 135406.24828972374\n",
      "When time is : 58, get best_k: -64.2907660262423 best_b: 62.823056472560495, and the loss is: 135014.27095386258\n",
      "When time is : 59, get best_k: -64.1907660262423 best_b: 62.72305647256049, and the loss is: 134622.862019118\n",
      "When time is : 60, get best_k: -64.0907660262423 best_b: 62.62305647256049, and the loss is: 134232.02148548997\n",
      "When time is : 61, get best_k: -63.990766026242305 best_b: 62.52305647256049, and the loss is: 133841.7493529783\n",
      "When time is : 62, get best_k: -63.890766026242304 best_b: 62.42305647256049, and the loss is: 133452.045621583\n",
      "When time is : 63, get best_k: -63.7907660262423 best_b: 62.32305647256049, and the loss is: 133062.91029130435\n",
      "When time is : 64, get best_k: -63.6907660262423 best_b: 62.223056472560486, and the loss is: 132674.3433621422\n",
      "When time is : 65, get best_k: -63.5907660262423 best_b: 62.123056472560485, and the loss is: 132286.34483409632\n",
      "When time is : 66, get best_k: -63.4907660262423 best_b: 62.023056472560484, and the loss is: 131898.91470716707\n",
      "When time is : 67, get best_k: -63.3907660262423 best_b: 61.92305647256048, and the loss is: 131512.0529813544\n",
      "When time is : 68, get best_k: -63.290766026242295 best_b: 61.82305647256048, and the loss is: 131125.75965665805\n",
      "When time is : 69, get best_k: -63.190766026242294 best_b: 61.72305647256048, and the loss is: 130740.03473307818\n",
      "When time is : 70, get best_k: -63.09076602624229 best_b: 61.62305647256048, and the loss is: 130354.87821061493\n",
      "When time is : 71, get best_k: -62.99076602624229 best_b: 61.52305647256048, and the loss is: 129970.29008926806\n",
      "When time is : 72, get best_k: -62.89076602624229 best_b: 61.423056472560475, and the loss is: 129586.27036903796\n",
      "When time is : 73, get best_k: -62.79076602624229 best_b: 61.323056472560474, and the loss is: 129202.81904992375\n",
      "When time is : 74, get best_k: -62.69076602624229 best_b: 61.22305647256047, and the loss is: 128819.93613192659\n",
      "When time is : 75, get best_k: -62.590766026242285 best_b: 61.12305647256047, and the loss is: 128437.62161504559\n",
      "When time is : 76, get best_k: -62.490766026242284 best_b: 61.02305647256047, and the loss is: 128055.87549928106\n",
      "When time is : 77, get best_k: -62.39076602624228 best_b: 60.92305647256047, and the loss is: 127674.69778463327\n",
      "When time is : 78, get best_k: -62.29076602624228 best_b: 60.82305647256047, and the loss is: 127294.08847110176\n",
      "When time is : 79, get best_k: -62.19076602624228 best_b: 60.723056472560465, and the loss is: 126914.04755868677\n",
      "When time is : 80, get best_k: -62.09076602624228 best_b: 60.623056472560464, and the loss is: 126534.57504738835\n",
      "When time is : 81, get best_k: -61.99076602624228 best_b: 60.52305647256046, and the loss is: 126155.6709372063\n",
      "When time is : 82, get best_k: -61.890766026242275 best_b: 60.42305647256046, and the loss is: 125777.33522814058\n",
      "When time is : 83, get best_k: -61.790766026242274 best_b: 60.32305647256046, and the loss is: 125399.56792019164\n",
      "When time is : 84, get best_k: -61.69076602624227 best_b: 60.22305647256046, and the loss is: 125022.36901335903\n",
      "When time is : 85, get best_k: -61.59076602624227 best_b: 60.12305647256046, and the loss is: 124645.7385076429\n",
      "When time is : 86, get best_k: -61.49076602624227 best_b: 60.023056472560455, and the loss is: 124269.67640304337\n",
      "When time is : 87, get best_k: -61.39076602624227 best_b: 59.923056472560454, and the loss is: 123894.18269956001\n",
      "When time is : 88, get best_k: -61.29076602624227 best_b: 59.82305647256045, and the loss is: 123519.2573971937\n",
      "When time is : 89, get best_k: -61.190766026242265 best_b: 59.72305647256045, and the loss is: 123144.90049594358\n",
      "When time is : 90, get best_k: -61.090766026242264 best_b: 59.62305647256045, and the loss is: 122771.11199580962\n",
      "When time is : 91, get best_k: -60.99076602624226 best_b: 59.52305647256045, and the loss is: 122397.89189679253\n",
      "When time is : 92, get best_k: -60.89076602624226 best_b: 59.42305647256045, and the loss is: 122025.24019889173\n",
      "When time is : 93, get best_k: -60.79076602624226 best_b: 59.323056472560445, and the loss is: 121653.15690210751\n",
      "When time is : 94, get best_k: -60.69076602624226 best_b: 59.223056472560444, and the loss is: 121281.64200643974\n",
      "When time is : 95, get best_k: -60.59076602624226 best_b: 59.12305647256044, and the loss is: 120910.69551188855\n",
      "When time is : 96, get best_k: -60.490766026242255 best_b: 59.02305647256044, and the loss is: 120540.31741845378\n",
      "When time is : 97, get best_k: -60.390766026242254 best_b: 58.92305647256044, and the loss is: 120170.50772613545\n",
      "When time is : 98, get best_k: -60.29076602624225 best_b: 58.82305647256044, and the loss is: 119801.26643493355\n",
      "When time is : 99, get best_k: -60.19076602624225 best_b: 58.72305647256044, and the loss is: 119432.5935448483\n",
      "When time is : 100, get best_k: -60.09076602624225 best_b: 58.623056472560435, and the loss is: 119064.48905587938\n",
      "When time is : 101, get best_k: -59.99076602624225 best_b: 58.523056472560434, and the loss is: 118696.95296802699\n",
      "When time is : 102, get best_k: -59.89076602624225 best_b: 58.42305647256043, and the loss is: 118329.985281291\n",
      "When time is : 103, get best_k: -59.790766026242245 best_b: 58.32305647256043, and the loss is: 117963.58599567159\n",
      "When time is : 104, get best_k: -59.690766026242244 best_b: 58.22305647256043, and the loss is: 117597.75511116872\n",
      "When time is : 105, get best_k: -59.59076602624224 best_b: 58.12305647256043, and the loss is: 117232.49262778234\n",
      "When time is : 106, get best_k: -59.49076602624224 best_b: 58.02305647256043, and the loss is: 116867.79854551231\n",
      "When time is : 107, get best_k: -59.39076602624224 best_b: 57.923056472560425, and the loss is: 116503.67286435899\n",
      "When time is : 108, get best_k: -59.29076602624224 best_b: 57.823056472560424, and the loss is: 116140.11558432186\n",
      "When time is : 109, get best_k: -59.19076602624224 best_b: 57.72305647256042, and the loss is: 115777.12670540139\n",
      "When time is : 110, get best_k: -59.090766026242235 best_b: 57.62305647256042, and the loss is: 115414.70622759743\n",
      "When time is : 111, get best_k: -58.990766026242234 best_b: 57.52305647256042, and the loss is: 115052.85415090984\n",
      "When time is : 112, get best_k: -58.89076602624223 best_b: 57.42305647256042, and the loss is: 114691.57047533867\n",
      "When time is : 113, get best_k: -58.79076602624223 best_b: 57.32305647256042, and the loss is: 114330.85520088415\n",
      "When time is : 114, get best_k: -58.69076602624223 best_b: 57.223056472560415, and the loss is: 113970.70832754602\n",
      "When time is : 115, get best_k: -58.59076602624223 best_b: 57.123056472560414, and the loss is: 113611.12985532435\n",
      "When time is : 116, get best_k: -58.49076602624223 best_b: 57.02305647256041, and the loss is: 113252.11978421916\n",
      "When time is : 117, get best_k: -58.390766026242225 best_b: 56.92305647256041, and the loss is: 112893.6781142306\n",
      "When time is : 118, get best_k: -58.290766026242224 best_b: 56.82305647256041, and the loss is: 112535.8048453584\n",
      "When time is : 119, get best_k: -58.19076602624222 best_b: 56.72305647256041, and the loss is: 112178.4999776027\n",
      "When time is : 120, get best_k: -58.09076602624222 best_b: 56.62305647256041, and the loss is: 111821.76351096344\n",
      "When time is : 121, get best_k: -57.99076602624222 best_b: 56.523056472560405, and the loss is: 111465.5954454407\n",
      "When time is : 122, get best_k: -57.89076602624222 best_b: 56.423056472560404, and the loss is: 111109.99578103443\n",
      "When time is : 123, get best_k: -57.79076602624222 best_b: 56.3230564725604, and the loss is: 110754.96451774481\n",
      "When time is : 124, get best_k: -57.690766026242216 best_b: 56.2230564725604, and the loss is: 110400.50165557151\n",
      "When time is : 125, get best_k: -57.590766026242214 best_b: 56.1230564725604, and the loss is: 110046.60719451463\n",
      "When time is : 126, get best_k: -57.49076602624221 best_b: 56.0230564725604, and the loss is: 109693.28113457437\n",
      "When time is : 127, get best_k: -57.39076602624221 best_b: 55.9230564725604, and the loss is: 109340.52347575048\n",
      "When time is : 128, get best_k: -57.29076602624221 best_b: 55.823056472560395, and the loss is: 108988.33421804312\n",
      "When time is : 129, get best_k: -57.19076602624221 best_b: 55.723056472560394, and the loss is: 108636.71336145229\n",
      "When time is : 130, get best_k: -57.09076602624221 best_b: 55.62305647256039, and the loss is: 108285.66090597787\n",
      "When time is : 131, get best_k: -56.990766026242206 best_b: 55.52305647256039, and the loss is: 107935.17685162\n",
      "When time is : 132, get best_k: -56.890766026242204 best_b: 55.42305647256039, and the loss is: 107585.2611983785\n",
      "When time is : 133, get best_k: -56.7907660262422 best_b: 55.32305647256039, and the loss is: 107235.91394625358\n",
      "When time is : 134, get best_k: -56.6907660262422 best_b: 55.22305647256039, and the loss is: 106887.13509524513\n",
      "When time is : 135, get best_k: -56.5907660262422 best_b: 55.123056472560386, and the loss is: 106538.92464535317\n",
      "When time is : 136, get best_k: -56.4907660262422 best_b: 55.023056472560384, and the loss is: 106191.2825965776\n",
      "When time is : 137, get best_k: -56.3907660262422 best_b: 54.92305647256038, and the loss is: 105844.20894891855\n",
      "When time is : 138, get best_k: -56.290766026242196 best_b: 54.82305647256038, and the loss is: 105497.70370237614\n",
      "When time is : 139, get best_k: -56.190766026242194 best_b: 54.72305647256038, and the loss is: 105151.76685695008\n",
      "When time is : 140, get best_k: -56.09076602624219 best_b: 54.62305647256038, and the loss is: 104806.39841264045\n",
      "When time is : 141, get best_k: -55.99076602624219 best_b: 54.52305647256038, and the loss is: 104461.59836944743\n",
      "When time is : 142, get best_k: -55.89076602624219 best_b: 54.423056472560376, and the loss is: 104117.36672737077\n",
      "When time is : 143, get best_k: -55.79076602624219 best_b: 54.323056472560374, and the loss is: 103773.70348641076\n",
      "When time is : 144, get best_k: -55.69076602624219 best_b: 54.22305647256037, and the loss is: 103430.60864656705\n",
      "When time is : 145, get best_k: -55.590766026242186 best_b: 54.12305647256037, and the loss is: 103088.08220783975\n",
      "When time is : 146, get best_k: -55.490766026242184 best_b: 54.02305647256037, and the loss is: 102746.12417022912\n",
      "When time is : 147, get best_k: -55.39076602624218 best_b: 53.92305647256037, and the loss is: 102404.73453373501\n",
      "When time is : 148, get best_k: -55.29076602624218 best_b: 53.82305647256037, and the loss is: 102063.91329835725\n",
      "When time is : 149, get best_k: -55.19076602624218 best_b: 53.723056472560366, and the loss is: 101723.66046409615\n",
      "When time is : 150, get best_k: -55.09076602624218 best_b: 53.623056472560364, and the loss is: 101383.97603095132\n",
      "When time is : 151, get best_k: -54.99076602624218 best_b: 53.52305647256036, and the loss is: 101044.85999892303\n",
      "When time is : 152, get best_k: -54.890766026242176 best_b: 53.42305647256036, and the loss is: 100706.31236801123\n",
      "When time is : 153, get best_k: -54.790766026242174 best_b: 53.32305647256036, and the loss is: 100368.3331382159\n",
      "When time is : 154, get best_k: -54.69076602624217 best_b: 53.22305647256036, and the loss is: 100030.92230953727\n",
      "When time is : 155, get best_k: -54.59076602624217 best_b: 53.12305647256036, and the loss is: 99694.07988197482\n",
      "When time is : 156, get best_k: -54.49076602624217 best_b: 53.023056472560356, and the loss is: 99357.80585552905\n",
      "When time is : 157, get best_k: -54.39076602624217 best_b: 52.923056472560354, and the loss is: 99022.10023019955\n",
      "When time is : 158, get best_k: -54.29076602624217 best_b: 52.82305647256035, and the loss is: 98686.96300598662\n",
      "When time is : 159, get best_k: -54.190766026242166 best_b: 52.72305647256035, and the loss is: 98352.39418289029\n",
      "When time is : 160, get best_k: -54.090766026242164 best_b: 52.62305647256035, and the loss is: 98018.39376091032\n",
      "When time is : 161, get best_k: -53.99076602624216 best_b: 52.52305647256035, and the loss is: 97684.961740047\n",
      "When time is : 162, get best_k: -53.89076602624216 best_b: 52.42305647256035, and the loss is: 97352.09812029994\n",
      "When time is : 163, get best_k: -53.79076602624216 best_b: 52.323056472560346, and the loss is: 97019.8029016694\n",
      "When time is : 164, get best_k: -53.69076602624216 best_b: 52.223056472560344, and the loss is: 96688.07608415552\n",
      "When time is : 165, get best_k: -53.59076602624216 best_b: 52.12305647256034, and the loss is: 96356.91766775791\n",
      "When time is : 166, get best_k: -53.490766026242156 best_b: 52.02305647256034, and the loss is: 96026.32765247696\n",
      "When time is : 167, get best_k: -53.390766026242154 best_b: 51.92305647256034, and the loss is: 95696.30603831237\n",
      "When time is : 168, get best_k: -53.29076602624215 best_b: 51.82305647256034, and the loss is: 95366.85282526439\n",
      "When time is : 169, get best_k: -53.19076602624215 best_b: 51.72305647256034, and the loss is: 95037.96801333273\n",
      "When time is : 170, get best_k: -53.09076602624215 best_b: 51.623056472560336, and the loss is: 94709.65160251773\n",
      "When time is : 171, get best_k: -52.99076602624215 best_b: 51.523056472560334, and the loss is: 94381.9035928191\n",
      "When time is : 172, get best_k: -52.89076602624215 best_b: 51.42305647256033, and the loss is: 94054.72398423684\n",
      "When time is : 173, get best_k: -52.790766026242146 best_b: 51.32305647256033, and the loss is: 93728.11277677129\n",
      "When time is : 174, get best_k: -52.690766026242144 best_b: 51.22305647256033, and the loss is: 93402.06997042208\n",
      "When time is : 175, get best_k: -52.59076602624214 best_b: 51.12305647256033, and the loss is: 93076.59556518942\n",
      "When time is : 176, get best_k: -52.49076602624214 best_b: 51.02305647256033, and the loss is: 92751.68956107323\n",
      "When time is : 177, get best_k: -52.39076602624214 best_b: 50.923056472560326, and the loss is: 92427.35195807343\n",
      "When time is : 178, get best_k: -52.29076602624214 best_b: 50.823056472560324, and the loss is: 92103.5827561902\n",
      "When time is : 179, get best_k: -52.19076602624214 best_b: 50.72305647256032, and the loss is: 91780.38195542332\n",
      "When time is : 180, get best_k: -52.090766026242136 best_b: 50.62305647256032, and the loss is: 91457.74955577307\n",
      "When time is : 181, get best_k: -51.990766026242135 best_b: 50.52305647256032, and the loss is: 91135.6855572394\n",
      "When time is : 182, get best_k: -51.89076602624213 best_b: 50.42305647256032, and the loss is: 90814.18995982203\n",
      "When time is : 183, get best_k: -51.79076602624213 best_b: 50.32305647256032, and the loss is: 90493.26276352131\n",
      "When time is : 184, get best_k: -51.69076602624213 best_b: 50.223056472560316, and the loss is: 90172.90396833693\n",
      "When time is : 185, get best_k: -51.59076602624213 best_b: 50.123056472560314, and the loss is: 89853.11357426901\n",
      "When time is : 186, get best_k: -51.49076602624213 best_b: 50.02305647256031, and the loss is: 89533.89158131757\n",
      "When time is : 187, get best_k: -51.390766026242126 best_b: 49.92305647256031, and the loss is: 89215.23798948272\n",
      "When time is : 188, get best_k: -51.290766026242125 best_b: 49.82305647256031, and the loss is: 88897.15279876417\n",
      "When time is : 189, get best_k: -51.19076602624212 best_b: 49.72305647256031, and the loss is: 88579.63600916228\n",
      "When time is : 190, get best_k: -51.09076602624212 best_b: 49.62305647256031, and the loss is: 88262.68762067685\n",
      "When time is : 191, get best_k: -50.99076602624212 best_b: 49.523056472560306, and the loss is: 87946.30763330794\n",
      "When time is : 192, get best_k: -50.89076602624212 best_b: 49.423056472560305, and the loss is: 87630.49604705552\n",
      "When time is : 193, get best_k: -50.79076602624212 best_b: 49.3230564725603, and the loss is: 87315.25286191943\n",
      "When time is : 194, get best_k: -50.690766026242116 best_b: 49.2230564725603, and the loss is: 87000.57807789982\n",
      "When time is : 195, get best_k: -50.590766026242115 best_b: 49.1230564725603, and the loss is: 86686.47169499686\n",
      "When time is : 196, get best_k: -50.49076602624211 best_b: 49.0230564725603, and the loss is: 86372.93371321015\n",
      "When time is : 197, get best_k: -50.39076602624211 best_b: 48.9230564725603, and the loss is: 86059.96413254022\n",
      "When time is : 198, get best_k: -50.29076602624211 best_b: 48.823056472560296, and the loss is: 85747.56295298647\n",
      "When time is : 199, get best_k: -50.19076602624211 best_b: 48.723056472560295, and the loss is: 85435.73017454949\n",
      "When time is : 200, get best_k: -50.09076602624211 best_b: 48.62305647256029, and the loss is: 85124.46579722883\n",
      "When time is : 201, get best_k: -49.990766026242106 best_b: 48.52305647256029, and the loss is: 84813.76982102456\n",
      "When time is : 202, get best_k: -49.890766026242105 best_b: 48.42305647256029, and the loss is: 84503.64224593698\n",
      "When time is : 203, get best_k: -49.7907660262421 best_b: 48.32305647256029, and the loss is: 84194.08307196571\n",
      "When time is : 204, get best_k: -49.6907660262421 best_b: 48.22305647256029, and the loss is: 83885.09229911114\n",
      "When time is : 205, get best_k: -49.5907660262421 best_b: 48.123056472560286, and the loss is: 83576.66992737287\n",
      "When time is : 206, get best_k: -49.4907660262421 best_b: 48.023056472560285, and the loss is: 83268.81595675112\n",
      "When time is : 207, get best_k: -49.3907660262421 best_b: 47.92305647256028, and the loss is: 82961.53038724564\n",
      "When time is : 208, get best_k: -49.290766026242096 best_b: 47.82305647256028, and the loss is: 82654.8132188571\n",
      "When time is : 209, get best_k: -49.190766026242095 best_b: 47.72305647256028, and the loss is: 82348.66445158482\n",
      "When time is : 210, get best_k: -49.09076602624209 best_b: 47.62305647256028, and the loss is: 82043.08408542901\n",
      "When time is : 211, get best_k: -48.99076602624209 best_b: 47.52305647256028, and the loss is: 81738.07212038961\n",
      "When time is : 212, get best_k: -48.89076602624209 best_b: 47.423056472560276, and the loss is: 81433.62855646672\n",
      "When time is : 213, get best_k: -48.79076602624209 best_b: 47.323056472560275, and the loss is: 81129.75339366042\n",
      "When time is : 214, get best_k: -48.69076602624209 best_b: 47.22305647256027, and the loss is: 80826.44663197054\n",
      "When time is : 215, get best_k: -48.590766026242086 best_b: 47.12305647256027, and the loss is: 80523.70827139709\n",
      "When time is : 216, get best_k: -48.490766026242085 best_b: 47.02305647256027, and the loss is: 80221.53831194018\n",
      "When time is : 217, get best_k: -48.39076602624208 best_b: 46.92305647256027, and the loss is: 79919.93675359982\n",
      "When time is : 218, get best_k: -48.29076602624208 best_b: 46.82305647256027, and the loss is: 79618.90359637584\n",
      "When time is : 219, get best_k: -48.19076602624208 best_b: 46.723056472560266, and the loss is: 79318.43884026837\n",
      "When time is : 220, get best_k: -48.09076602624208 best_b: 46.623056472560265, and the loss is: 79018.5424852773\n",
      "When time is : 221, get best_k: -47.99076602624208 best_b: 46.52305647256026, and the loss is: 78719.21453140285\n",
      "When time is : 222, get best_k: -47.890766026242076 best_b: 46.42305647256026, and the loss is: 78420.45497864469\n",
      "When time is : 223, get best_k: -47.790766026242075 best_b: 46.32305647256026, and the loss is: 78122.26382700326\n",
      "When time is : 224, get best_k: -47.69076602624207 best_b: 46.22305647256026, and the loss is: 77824.64107647823\n",
      "When time is : 225, get best_k: -47.59076602624207 best_b: 46.12305647256026, and the loss is: 77527.5867270696\n",
      "When time is : 226, get best_k: -47.49076602624207 best_b: 46.023056472560256, and the loss is: 77231.10077877752\n",
      "When time is : 227, get best_k: -47.39076602624207 best_b: 45.923056472560255, and the loss is: 76935.18323160197\n",
      "When time is : 228, get best_k: -47.29076602624207 best_b: 45.82305647256025, and the loss is: 76639.8340855428\n",
      "When time is : 229, get best_k: -47.190766026242066 best_b: 45.72305647256025, and the loss is: 76345.05334060008\n",
      "When time is : 230, get best_k: -47.090766026242065 best_b: 45.62305647256025, and the loss is: 76050.84099677393\n",
      "When time is : 231, get best_k: -46.99076602624206 best_b: 45.52305647256025, and the loss is: 75757.19705406424\n",
      "When time is : 232, get best_k: -46.89076602624206 best_b: 45.42305647256025, and the loss is: 75464.12151247106\n",
      "When time is : 233, get best_k: -46.79076602624206 best_b: 45.323056472560246, and the loss is: 75171.6143719945\n",
      "When time is : 234, get best_k: -46.69076602624206 best_b: 45.223056472560245, and the loss is: 74879.67563263417\n",
      "When time is : 235, get best_k: -46.59076602624206 best_b: 45.12305647256024, and the loss is: 74588.3052943904\n",
      "When time is : 236, get best_k: -46.490766026242056 best_b: 45.02305647256024, and the loss is: 74297.5033572631\n",
      "When time is : 237, get best_k: -46.390766026242055 best_b: 44.92305647256024, and the loss is: 74007.26982125228\n",
      "When time is : 238, get best_k: -46.29076602624205 best_b: 44.82305647256024, and the loss is: 73717.60468635795\n",
      "When time is : 239, get best_k: -46.19076602624205 best_b: 44.72305647256024, and the loss is: 73428.50795258005\n",
      "When time is : 240, get best_k: -46.09076602624205 best_b: 44.623056472560236, and the loss is: 73139.97961991883\n",
      "When time is : 241, get best_k: -45.99076602624205 best_b: 44.523056472560235, and the loss is: 72852.01968837394\n",
      "When time is : 242, get best_k: -45.89076602624205 best_b: 44.42305647256023, and the loss is: 72564.62815794555\n",
      "When time is : 243, get best_k: -45.790766026242046 best_b: 44.32305647256023, and the loss is: 72277.80502863358\n",
      "When time is : 244, get best_k: -45.690766026242045 best_b: 44.22305647256023, and the loss is: 71991.55030043825\n",
      "When time is : 245, get best_k: -45.59076602624204 best_b: 44.12305647256023, and the loss is: 71705.86397335929\n",
      "When time is : 246, get best_k: -45.49076602624204 best_b: 44.02305647256023, and the loss is: 71420.74604739687\n",
      "When time is : 247, get best_k: -45.39076602624204 best_b: 43.923056472560226, and the loss is: 71136.19652255079\n",
      "When time is : 248, get best_k: -45.29076602624204 best_b: 43.823056472560225, and the loss is: 70852.21539882134\n",
      "When time is : 249, get best_k: -45.19076602624204 best_b: 43.72305647256022, and the loss is: 70568.80267620838\n",
      "When time is : 250, get best_k: -45.090766026242036 best_b: 43.62305647256022, and the loss is: 70285.9583547119\n",
      "When time is : 251, get best_k: -44.990766026242035 best_b: 43.52305647256022, and the loss is: 70003.68243433179\n",
      "When time is : 252, get best_k: -44.890766026242034 best_b: 43.42305647256022, and the loss is: 69721.97491506828\n",
      "When time is : 253, get best_k: -44.79076602624203 best_b: 43.32305647256022, and the loss is: 69440.83579692121\n",
      "When time is : 254, get best_k: -44.69076602624203 best_b: 43.223056472560216, and the loss is: 69160.26507989054\n",
      "When time is : 255, get best_k: -44.59076602624203 best_b: 43.123056472560215, and the loss is: 68880.26276397645\n",
      "When time is : 256, get best_k: -44.49076602624203 best_b: 43.023056472560214, and the loss is: 68600.8288491789\n",
      "When time is : 257, get best_k: -44.39076602624203 best_b: 42.92305647256021, and the loss is: 68321.96333549761\n",
      "When time is : 258, get best_k: -44.290766026242025 best_b: 42.82305647256021, and the loss is: 68043.66622293307\n",
      "When time is : 259, get best_k: -44.190766026242024 best_b: 42.72305647256021, and the loss is: 67765.93751148492\n",
      "When time is : 260, get best_k: -44.09076602624202 best_b: 42.62305647256021, and the loss is: 67488.7772011532\n",
      "When time is : 261, get best_k: -43.99076602624202 best_b: 42.52305647256021, and the loss is: 67212.18529193795\n",
      "When time is : 262, get best_k: -43.89076602624202 best_b: 42.423056472560205, and the loss is: 66936.16178383921\n",
      "When time is : 263, get best_k: -43.79076602624202 best_b: 42.323056472560204, and the loss is: 66660.7066768569\n",
      "When time is : 264, get best_k: -43.69076602624202 best_b: 42.2230564725602, and the loss is: 66385.81997099122\n",
      "When time is : 265, get best_k: -43.590766026242015 best_b: 42.1230564725602, and the loss is: 66111.50166624197\n",
      "When time is : 266, get best_k: -43.490766026242014 best_b: 42.0230564725602, and the loss is: 65837.75176260903\n",
      "When time is : 267, get best_k: -43.39076602624201 best_b: 41.9230564725602, and the loss is: 65564.57026009267\n",
      "When time is : 268, get best_k: -43.29076602624201 best_b: 41.8230564725602, and the loss is: 65291.957158692865\n"
     ]
    },
    {
     "name": "stdout",
     "output_type": "stream",
     "text": [
      "When time is : 269, get best_k: -43.19076602624201 best_b: 41.723056472560195, and the loss is: 65019.912458409504\n",
      "When time is : 270, get best_k: -43.09076602624201 best_b: 41.623056472560194, and the loss is: 64748.436159242636\n",
      "When time is : 271, get best_k: -42.99076602624201 best_b: 41.52305647256019, and the loss is: 64477.52826119228\n",
      "When time is : 272, get best_k: -42.890766026242005 best_b: 41.42305647256019, and the loss is: 64207.188764258324\n",
      "When time is : 273, get best_k: -42.790766026242004 best_b: 41.32305647256019, and the loss is: 63937.417668440896\n",
      "When time is : 274, get best_k: -42.690766026242 best_b: 41.22305647256019, and the loss is: 63668.21497373993\n",
      "When time is : 275, get best_k: -42.590766026242 best_b: 41.12305647256019, and the loss is: 63399.5806801555\n",
      "When time is : 276, get best_k: -42.490766026242 best_b: 41.023056472560185, and the loss is: 63131.51478768747\n",
      "When time is : 277, get best_k: -42.390766026242 best_b: 40.923056472560184, and the loss is: 62864.01729633601\n",
      "When time is : 278, get best_k: -42.290766026242 best_b: 40.82305647256018, and the loss is: 62597.08820610094\n",
      "When time is : 279, get best_k: -42.190766026241995 best_b: 40.72305647256018, and the loss is: 62330.727516982326\n",
      "When time is : 280, get best_k: -42.090766026241994 best_b: 40.62305647256018, and the loss is: 62064.93522898035\n",
      "When time is : 281, get best_k: -41.99076602624199 best_b: 40.52305647256018, and the loss is: 61799.711342094815\n",
      "When time is : 282, get best_k: -41.89076602624199 best_b: 40.42305647256018, and the loss is: 61535.05585632572\n",
      "When time is : 283, get best_k: -41.79076602624199 best_b: 40.323056472560175, and the loss is: 61270.96877167311\n",
      "When time is : 284, get best_k: -41.69076602624199 best_b: 40.223056472560174, and the loss is: 61007.45008813695\n",
      "When time is : 285, get best_k: -41.59076602624199 best_b: 40.12305647256017, and the loss is: 60744.499805717365\n",
      "When time is : 286, get best_k: -41.490766026241985 best_b: 40.02305647256017, and the loss is: 60482.11792441416\n",
      "When time is : 287, get best_k: -41.390766026241984 best_b: 39.92305647256017, and the loss is: 60220.30444422745\n",
      "When time is : 288, get best_k: -41.29076602624198 best_b: 39.82305647256017, and the loss is: 59959.05936515731\n",
      "When time is : 289, get best_k: -41.19076602624198 best_b: 39.72305647256017, and the loss is: 59698.38268720358\n",
      "When time is : 290, get best_k: -41.09076602624198 best_b: 39.623056472560165, and the loss is: 59438.274410366306\n",
      "When time is : 291, get best_k: -40.99076602624198 best_b: 39.523056472560164, and the loss is: 59178.73453464551\n",
      "When time is : 292, get best_k: -40.89076602624198 best_b: 39.42305647256016, and the loss is: 58919.763060041325\n",
      "When time is : 293, get best_k: -40.790766026241975 best_b: 39.32305647256016, and the loss is: 58661.35998655358\n",
      "When time is : 294, get best_k: -40.690766026241974 best_b: 39.22305647256016, and the loss is: 58403.52531418214\n",
      "When time is : 295, get best_k: -40.59076602624197 best_b: 39.12305647256016, and the loss is: 58146.259042927384\n",
      "When time is : 296, get best_k: -40.49076602624197 best_b: 39.02305647256016, and the loss is: 57889.56117278902\n",
      "When time is : 297, get best_k: -40.39076602624197 best_b: 38.923056472560155, and the loss is: 57633.4317037672\n",
      "When time is : 298, get best_k: -40.29076602624197 best_b: 38.823056472560154, and the loss is: 57377.87063586181\n",
      "When time is : 299, get best_k: -40.19076602624197 best_b: 38.72305647256015, and the loss is: 57122.87796907292\n",
      "When time is : 300, get best_k: -40.090766026241965 best_b: 38.62305647256015, and the loss is: 56868.45370340045\n",
      "When time is : 301, get best_k: -39.990766026241964 best_b: 38.52305647256015, and the loss is: 56614.597838844544\n",
      "When time is : 302, get best_k: -39.89076602624196 best_b: 38.42305647256015, and the loss is: 56361.310375405075\n",
      "When time is : 303, get best_k: -39.79076602624196 best_b: 38.32305647256015, and the loss is: 56108.59131308214\n",
      "When time is : 304, get best_k: -39.69076602624196 best_b: 38.223056472560145, and the loss is: 55856.4406518757\n",
      "When time is : 305, get best_k: -39.59076602624196 best_b: 38.123056472560144, and the loss is: 55604.85839178566\n",
      "When time is : 306, get best_k: -39.49076602624196 best_b: 38.02305647256014, and the loss is: 55353.84453281213\n",
      "When time is : 307, get best_k: -39.390766026241955 best_b: 37.92305647256014, and the loss is: 55103.399074955145\n",
      "When time is : 308, get best_k: -39.290766026241954 best_b: 37.82305647256014, and the loss is: 54853.522018214535\n",
      "When time is : 309, get best_k: -39.19076602624195 best_b: 37.72305647256014, and the loss is: 54604.21336259052\n",
      "When time is : 310, get best_k: -39.09076602624195 best_b: 37.62305647256014, and the loss is: 54355.473108082915\n",
      "When time is : 311, get best_k: -38.99076602624195 best_b: 37.523056472560135, and the loss is: 54107.301254691796\n",
      "When time is : 312, get best_k: -38.89076602624195 best_b: 37.423056472560134, and the loss is: 53859.697802417126\n",
      "When time is : 313, get best_k: -38.79076602624195 best_b: 37.32305647256013, and the loss is: 53612.662751259086\n",
      "When time is : 314, get best_k: -38.690766026241945 best_b: 37.22305647256013, and the loss is: 53366.19610121733\n",
      "When time is : 315, get best_k: -38.590766026241944 best_b: 37.12305647256013, and the loss is: 53120.29785229213\n",
      "When time is : 316, get best_k: -38.49076602624194 best_b: 37.02305647256013, and the loss is: 52874.96800448344\n",
      "When time is : 317, get best_k: -38.39076602624194 best_b: 36.92305647256013, and the loss is: 52630.20655779127\n",
      "When time is : 318, get best_k: -38.29076602624194 best_b: 36.823056472560125, and the loss is: 52386.01351221546\n",
      "When time is : 319, get best_k: -38.19076602624194 best_b: 36.723056472560124, and the loss is: 52142.38886775626\n",
      "When time is : 320, get best_k: -38.09076602624194 best_b: 36.62305647256012, and the loss is: 51899.332624413546\n",
      "When time is : 321, get best_k: -37.990766026241936 best_b: 36.52305647256012, and the loss is: 51656.84478218719\n",
      "When time is : 322, get best_k: -37.890766026241934 best_b: 36.42305647256012, and the loss is: 51414.92534107735\n",
      "When time is : 323, get best_k: -37.79076602624193 best_b: 36.32305647256012, and the loss is: 51173.574301084125\n",
      "When time is : 324, get best_k: -37.69076602624193 best_b: 36.22305647256012, and the loss is: 50932.791662207295\n",
      "When time is : 325, get best_k: -37.59076602624193 best_b: 36.123056472560116, and the loss is: 50692.57742444686\n",
      "When time is : 326, get best_k: -37.49076602624193 best_b: 36.023056472560114, and the loss is: 50452.93158780309\n",
      "When time is : 327, get best_k: -37.39076602624193 best_b: 35.92305647256011, and the loss is: 50213.85415227559\n",
      "When time is : 328, get best_k: -37.290766026241926 best_b: 35.82305647256011, and the loss is: 49975.345117864716\n",
      "When time is : 329, get best_k: -37.190766026241924 best_b: 35.72305647256011, and the loss is: 49737.40448457028\n",
      "When time is : 330, get best_k: -37.09076602624192 best_b: 35.62305647256011, and the loss is: 49500.032252392295\n",
      "When time is : 331, get best_k: -36.99076602624192 best_b: 35.52305647256011, and the loss is: 49263.22842133088\n",
      "When time is : 332, get best_k: -36.89076602624192 best_b: 35.423056472560106, and the loss is: 49026.992991385945\n",
      "When time is : 333, get best_k: -36.79076602624192 best_b: 35.323056472560104, and the loss is: 48791.325962557385\n",
      "When time is : 334, get best_k: -36.69076602624192 best_b: 35.2230564725601, and the loss is: 48556.227334845404\n",
      "When time is : 335, get best_k: -36.590766026241916 best_b: 35.1230564725601, and the loss is: 48321.69710824985\n",
      "When time is : 336, get best_k: -36.490766026241914 best_b: 35.0230564725601, and the loss is: 48087.73528277072\n",
      "When time is : 337, get best_k: -36.39076602624191 best_b: 34.9230564725601, and the loss is: 47854.341858408196\n",
      "When time is : 338, get best_k: -36.29076602624191 best_b: 34.8230564725601, and the loss is: 47621.516835162074\n",
      "When time is : 339, get best_k: -36.19076602624191 best_b: 34.723056472560096, and the loss is: 47389.26021303261\n",
      "When time is : 340, get best_k: -36.09076602624191 best_b: 34.623056472560094, and the loss is: 47157.57199201937\n",
      "When time is : 341, get best_k: -35.99076602624191 best_b: 34.52305647256009, and the loss is: 46926.45217212274\n",
      "When time is : 342, get best_k: -35.890766026241906 best_b: 34.42305647256009, and the loss is: 46695.90075334262\n",
      "When time is : 343, get best_k: -35.790766026241904 best_b: 34.32305647256009, and the loss is: 46465.91773567897\n",
      "When time is : 344, get best_k: -35.6907660262419 best_b: 34.22305647256009, and the loss is: 46236.503119131725\n",
      "When time is : 345, get best_k: -35.5907660262419 best_b: 34.12305647256009, and the loss is: 46007.65690370105\n",
      "When time is : 346, get best_k: -35.4907660262419 best_b: 34.023056472560086, and the loss is: 45779.37908938685\n",
      "When time is : 347, get best_k: -35.3907660262419 best_b: 33.923056472560084, and the loss is: 45551.669676189056\n",
      "When time is : 348, get best_k: -35.2907660262419 best_b: 33.82305647256008, and the loss is: 45324.52866410775\n",
      "When time is : 349, get best_k: -35.190766026241896 best_b: 33.72305647256008, and the loss is: 45097.95605314306\n",
      "When time is : 350, get best_k: -35.090766026241894 best_b: 33.62305647256008, and the loss is: 44871.95184329472\n",
      "When time is : 351, get best_k: -34.99076602624189 best_b: 33.52305647256008, and the loss is: 44646.516034562854\n",
      "When time is : 352, get best_k: -34.89076602624189 best_b: 33.42305647256008, and the loss is: 44421.648626947535\n",
      "When time is : 353, get best_k: -34.79076602624189 best_b: 33.323056472560076, and the loss is: 44197.34962044869\n",
      "When time is : 354, get best_k: -34.69076602624189 best_b: 33.223056472560074, and the loss is: 43973.61901506629\n",
      "When time is : 355, get best_k: -34.59076602624189 best_b: 33.12305647256007, and the loss is: 43750.45681080038\n",
      "When time is : 356, get best_k: -34.490766026241886 best_b: 33.02305647256007, and the loss is: 43527.86300765101\n",
      "When time is : 357, get best_k: -34.390766026241884 best_b: 32.92305647256007, and the loss is: 43305.83760561807\n",
      "When time is : 358, get best_k: -34.29076602624188 best_b: 32.82305647256007, and the loss is: 43084.380604701626\n",
      "When time is : 359, get best_k: -34.19076602624188 best_b: 32.72305647256007, and the loss is: 42863.492004901665\n",
      "When time is : 360, get best_k: -34.09076602624188 best_b: 32.623056472560066, and the loss is: 42643.171806218226\n",
      "When time is : 361, get best_k: -33.99076602624188 best_b: 32.523056472560064, and the loss is: 42423.42000865122\n",
      "When time is : 362, get best_k: -33.89076602624188 best_b: 32.42305647256006, and the loss is: 42204.23661220073\n",
      "When time is : 363, get best_k: -33.790766026241876 best_b: 32.32305647256006, and the loss is: 41985.62161686668\n",
      "When time is : 364, get best_k: -33.690766026241874 best_b: 32.22305647256006, and the loss is: 41767.57502264913\n",
      "When time is : 365, get best_k: -33.59076602624187 best_b: 32.12305647256006, and the loss is: 41550.09682954805\n",
      "When time is : 366, get best_k: -33.49076602624187 best_b: 32.02305647256006, and the loss is: 41333.18703756346\n",
      "When time is : 367, get best_k: -33.39076602624187 best_b: 31.923056472560056, and the loss is: 41116.845646695256\n",
      "When time is : 368, get best_k: -33.29076602624187 best_b: 31.823056472560054, and the loss is: 40901.072656943754\n",
      "When time is : 369, get best_k: -33.19076602624187 best_b: 31.723056472560053, and the loss is: 40685.868068308606\n",
      "When time is : 370, get best_k: -33.090766026241866 best_b: 31.62305647256005, and the loss is: 40471.23188078999\n",
      "When time is : 371, get best_k: -32.990766026241864 best_b: 31.52305647256005, and the loss is: 40257.16409438777\n",
      "When time is : 372, get best_k: -32.89076602624186 best_b: 31.42305647256005, and the loss is: 40043.66470910203\n",
      "When time is : 373, get best_k: -32.79076602624186 best_b: 31.323056472560047, and the loss is: 39830.733724932914\n",
      "When time is : 374, get best_k: -32.69076602624186 best_b: 31.223056472560046, and the loss is: 39618.371141880154\n",
      "When time is : 375, get best_k: -32.59076602624186 best_b: 31.123056472560044, and the loss is: 39406.576959943886\n",
      "When time is : 376, get best_k: -32.49076602624186 best_b: 31.023056472560043, and the loss is: 39195.35117912416\n",
      "When time is : 377, get best_k: -32.390766026241856 best_b: 30.92305647256004, and the loss is: 38984.69379942082\n",
      "When time is : 378, get best_k: -32.290766026241855 best_b: 30.82305647256004, and the loss is: 38774.604820834094\n",
      "When time is : 379, get best_k: -32.19076602624185 best_b: 30.72305647256004, and the loss is: 38565.08424336369\n",
      "When time is : 380, get best_k: -32.09076602624185 best_b: 30.623056472560037, and the loss is: 38356.13206700987\n",
      "When time is : 381, get best_k: -31.99076602624185 best_b: 30.523056472560036, and the loss is: 38147.748291772565\n",
      "When time is : 382, get best_k: -31.89076602624185 best_b: 30.423056472560035, and the loss is: 37939.93291765162\n",
      "When time is : 383, get best_k: -31.790766026241847 best_b: 30.323056472560033, and the loss is: 37732.68594464728\n",
      "When time is : 384, get best_k: -31.690766026241846 best_b: 30.22305647256003, and the loss is: 37526.00737275938\n",
      "When time is : 385, get best_k: -31.590766026241845 best_b: 30.12305647256003, and the loss is: 37319.89720198797\n",
      "When time is : 386, get best_k: -31.490766026241843 best_b: 30.02305647256003, and the loss is: 37114.355432333025\n",
      "When time is : 387, get best_k: -31.39076602624184 best_b: 29.923056472560027, and the loss is: 36909.382063794525\n",
      "When time is : 388, get best_k: -31.29076602624184 best_b: 29.823056472560026, and the loss is: 36704.97709637261\n",
      "When time is : 389, get best_k: -31.19076602624184 best_b: 29.723056472560025, and the loss is: 36501.14053006712\n",
      "When time is : 390, get best_k: -31.090766026241837 best_b: 29.623056472560023, and the loss is: 36297.872364878065\n",
      "When time is : 391, get best_k: -30.990766026241836 best_b: 29.52305647256002, and the loss is: 36095.17260080556\n",
      "When time is : 392, get best_k: -30.890766026241835 best_b: 29.42305647256002, and the loss is: 35893.04123784952\n",
      "When time is : 393, get best_k: -30.790766026241833 best_b: 29.32305647256002, and the loss is: 35691.478276009955\n",
      "When time is : 394, get best_k: -30.690766026241832 best_b: 29.223056472560017, and the loss is: 35490.48371528684\n",
      "When time is : 395, get best_k: -30.59076602624183 best_b: 29.123056472560016, and the loss is: 35290.05755568027\n",
      "When time is : 396, get best_k: -30.49076602624183 best_b: 29.023056472560015, and the loss is: 35090.199797190115\n",
      "When time is : 397, get best_k: -30.390766026241828 best_b: 28.923056472560013, and the loss is: 34890.910439816485\n",
      "When time is : 398, get best_k: -30.290766026241826 best_b: 28.823056472560012, and the loss is: 34692.189483559356\n",
      "When time is : 399, get best_k: -30.190766026241825 best_b: 28.72305647256001, and the loss is: 34494.036928418675\n",
      "When time is : 400, get best_k: -30.090766026241823 best_b: 28.62305647256001, and the loss is: 34296.45277439446\n",
      "When time is : 401, get best_k: -29.990766026241822 best_b: 28.523056472560008, and the loss is: 34099.43702148677\n",
      "When time is : 402, get best_k: -29.89076602624182 best_b: 28.423056472560006, and the loss is: 33902.98966969556\n",
      "When time is : 403, get best_k: -29.79076602624182 best_b: 28.323056472560005, and the loss is: 33707.1107190208\n",
      "When time is : 404, get best_k: -29.690766026241818 best_b: 28.223056472560003, and the loss is: 33511.80016946254\n",
      "When time is : 405, get best_k: -29.590766026241816 best_b: 28.123056472560002, and the loss is: 33317.058021020785\n",
      "When time is : 406, get best_k: -29.490766026241815 best_b: 28.02305647256, and the loss is: 33122.88427369546\n",
      "When time is : 407, get best_k: -29.390766026241813 best_b: 27.92305647256, and the loss is: 32929.278927486645\n",
      "When time is : 408, get best_k: -29.290766026241812 best_b: 27.823056472559998, and the loss is: 32736.24198239431\n",
      "When time is : 409, get best_k: -29.19076602624181 best_b: 27.723056472559996, and the loss is: 32543.773438418466\n",
      "When time is : 410, get best_k: -29.09076602624181 best_b: 27.623056472559995, and the loss is: 32351.8732955591\n",
      "When time is : 411, get best_k: -28.990766026241808 best_b: 27.523056472559993, and the loss is: 32160.54155381621\n",
      "When time is : 412, get best_k: -28.890766026241806 best_b: 27.423056472559992, and the loss is: 31969.7782131898\n",
      "When time is : 413, get best_k: -28.790766026241805 best_b: 27.32305647255999, and the loss is: 31779.583273679913\n",
      "When time is : 414, get best_k: -28.690766026241803 best_b: 27.22305647255999, and the loss is: 31589.956735286458\n",
      "When time is : 415, get best_k: -28.590766026241802 best_b: 27.123056472559988, and the loss is: 31400.898598009448\n",
      "When time is : 416, get best_k: -28.4907660262418 best_b: 27.023056472559986, and the loss is: 31212.40886184906\n",
      "When time is : 417, get best_k: -28.3907660262418 best_b: 26.923056472559985, and the loss is: 31024.487526805056\n",
      "When time is : 418, get best_k: -28.290766026241798 best_b: 26.823056472559983, and the loss is: 30837.134592877504\n",
      "When time is : 419, get best_k: -28.190766026241796 best_b: 26.723056472559982, and the loss is: 30650.350060066463\n",
      "When time is : 420, get best_k: -28.090766026241795 best_b: 26.62305647255998, and the loss is: 30464.133928371964\n",
      "When time is : 421, get best_k: -27.990766026241793 best_b: 26.52305647255998, and the loss is: 30278.486197793893\n",
      "When time is : 422, get best_k: -27.890766026241792 best_b: 26.423056472559978, and the loss is: 30093.40686833229\n",
      "When time is : 423, get best_k: -27.79076602624179 best_b: 26.323056472559976, and the loss is: 29908.8959399872\n",
      "When time is : 424, get best_k: -27.69076602624179 best_b: 26.223056472559975, and the loss is: 29724.953412758594\n",
      "When time is : 425, get best_k: -27.590766026241788 best_b: 26.123056472559973, and the loss is: 29541.579286646465\n",
      "When time is : 426, get best_k: -27.490766026241786 best_b: 26.023056472559972, and the loss is: 29358.773561650836\n",
      "When time is : 427, get best_k: -27.390766026241785 best_b: 25.92305647255997, and the loss is: 29176.536237771634\n",
      "When time is : 428, get best_k: -27.290766026241783 best_b: 25.82305647255997, and the loss is: 28994.867315008927\n",
      "When time is : 429, get best_k: -27.190766026241782 best_b: 25.723056472559968, and the loss is: 28813.766793362764\n",
      "When time is : 430, get best_k: -27.09076602624178 best_b: 25.623056472559966, and the loss is: 28633.23467283302\n",
      "When time is : 431, get best_k: -26.99076602624178 best_b: 25.523056472559965, and the loss is: 28453.27095341976\n",
      "When time is : 432, get best_k: -26.890766026241778 best_b: 25.423056472559963, and the loss is: 28273.87563512303\n",
      "When time is : 433, get best_k: -26.790766026241776 best_b: 25.323056472559962, and the loss is: 28095.04871794276\n",
      "When time is : 434, get best_k: -26.690766026241775 best_b: 25.22305647255996, and the loss is: 27916.79020187899\n",
      "When time is : 435, get best_k: -26.590766026241774 best_b: 25.12305647255996, and the loss is: 27739.100086931638\n",
      "When time is : 436, get best_k: -26.490766026241772 best_b: 25.023056472559958, and the loss is: 27561.97837310082\n",
      "When time is : 437, get best_k: -26.39076602624177 best_b: 24.923056472559956, and the loss is: 27385.425060386442\n",
      "When time is : 438, get best_k: -26.29076602624177 best_b: 24.823056472559955, and the loss is: 27209.440148788595\n",
      "When time is : 439, get best_k: -26.190766026241768 best_b: 24.723056472559954, and the loss is: 27034.02363830721\n",
      "When time is : 440, get best_k: -26.090766026241766 best_b: 24.623056472559952, and the loss is: 26859.175528942305\n",
      "When time is : 441, get best_k: -25.990766026241765 best_b: 24.52305647255995, and the loss is: 26684.89582069388\n",
      "When time is : 442, get best_k: -25.890766026241764 best_b: 24.42305647255995, and the loss is: 26511.184513561948\n",
      "When time is : 443, get best_k: -25.790766026241762 best_b: 24.323056472559948, and the loss is: 26338.04160754652\n",
      "When time is : 444, get best_k: -25.69076602624176 best_b: 24.223056472559946, and the loss is: 26165.467102647526\n",
      "When time is : 445, get best_k: -25.59076602624176 best_b: 24.123056472559945, and the loss is: 25993.46099886505\n",
      "When time is : 446, get best_k: -25.490766026241758 best_b: 24.023056472559944, and the loss is: 25822.02329619906\n",
      "When time is : 447, get best_k: -25.390766026241756 best_b: 23.923056472559942, and the loss is: 25651.153994649532\n",
      "When time is : 448, get best_k: -25.290766026241755 best_b: 23.82305647255994, and the loss is: 25480.853094216447\n",
      "When time is : 449, get best_k: -25.190766026241754 best_b: 23.72305647255994, and the loss is: 25311.12059489991\n",
      "When time is : 450, get best_k: -25.090766026241752 best_b: 23.623056472559938, and the loss is: 25141.956496699833\n",
      "When time is : 451, get best_k: -24.99076602624175 best_b: 23.523056472559936, and the loss is: 24973.36079961625\n",
      "When time is : 452, get best_k: -24.89076602624175 best_b: 23.423056472559935, and the loss is: 24805.33350364913\n",
      "When time is : 453, get best_k: -24.790766026241748 best_b: 23.323056472559934, and the loss is: 24637.874608798506\n",
      "When time is : 454, get best_k: -24.690766026241747 best_b: 23.223056472559932, and the loss is: 24470.984115064348\n",
      "When time is : 455, get best_k: -24.590766026241745 best_b: 23.12305647255993, and the loss is: 24304.66202244668\n",
      "When time is : 456, get best_k: -24.490766026241744 best_b: 23.02305647255993, and the loss is: 24138.90833094549\n",
      "When time is : 457, get best_k: -24.390766026241742 best_b: 22.923056472559928, and the loss is: 23973.723040560766\n",
      "When time is : 458, get best_k: -24.29076602624174 best_b: 22.823056472559927, and the loss is: 23809.10615129254\n",
      "When time is : 459, get best_k: -24.19076602624174 best_b: 22.723056472559925, and the loss is: 23645.05766314083\n",
      "When time is : 460, get best_k: -24.090766026241738 best_b: 22.623056472559924, and the loss is: 23481.577576105556\n",
      "When time is : 461, get best_k: -23.990766026241737 best_b: 22.523056472559922, and the loss is: 23318.6658901868\n",
      "When time is : 462, get best_k: -23.890766026241735 best_b: 22.42305647255992, and the loss is: 23156.322605384514\n",
      "When time is : 463, get best_k: -23.790766026241734 best_b: 22.32305647255992, and the loss is: 22994.54772169869\n",
      "When time is : 464, get best_k: -23.690766026241732 best_b: 22.223056472559918, and the loss is: 22833.34123912939\n",
      "When time is : 465, get best_k: -23.59076602624173 best_b: 22.123056472559917, and the loss is: 22672.703157676533\n",
      "When time is : 466, get best_k: -23.49076602624173 best_b: 22.023056472559915, and the loss is: 22512.63347734017\n",
      "When time is : 467, get best_k: -23.390766026241728 best_b: 21.923056472559914, and the loss is: 22353.132198120307\n",
      "When time is : 468, get best_k: -23.290766026241727 best_b: 21.823056472559912, and the loss is: 22194.199320016887\n",
      "When time is : 469, get best_k: -23.190766026241725 best_b: 21.72305647255991, and the loss is: 22035.83484302996\n",
      "When time is : 470, get best_k: -23.090766026241724 best_b: 21.62305647255991, and the loss is: 21878.03876715954\n",
      "When time is : 471, get best_k: -22.990766026241722 best_b: 21.523056472559908, and the loss is: 21720.811092405584\n",
      "When time is : 472, get best_k: -22.89076602624172 best_b: 21.423056472559907, and the loss is: 21564.15181876811\n",
      "When time is : 473, get best_k: -22.79076602624172 best_b: 21.323056472559905, and the loss is: 21408.060946247137\n",
      "When time is : 474, get best_k: -22.690766026241718 best_b: 21.223056472559904, and the loss is: 21252.538474842615\n",
      "When time is : 475, get best_k: -22.590766026241717 best_b: 21.123056472559902, and the loss is: 21097.584404554585\n",
      "When time is : 476, get best_k: -22.490766026241715 best_b: 21.0230564725599, and the loss is: 20943.19873538307\n",
      "When time is : 477, get best_k: -22.390766026241714 best_b: 20.9230564725599, and the loss is: 20789.381467328\n",
      "When time is : 478, get best_k: -22.290766026241712 best_b: 20.823056472559898, and the loss is: 20636.13260038943\n",
      "When time is : 479, get best_k: -22.19076602624171 best_b: 20.723056472559897, and the loss is: 20483.452134567327\n",
      "When time is : 480, get best_k: -22.09076602624171 best_b: 20.623056472559895, and the loss is: 20331.340069861733\n",
      "When time is : 481, get best_k: -21.990766026241708 best_b: 20.523056472559894, and the loss is: 20179.79640627259\n",
      "When time is : 482, get best_k: -21.890766026241707 best_b: 20.423056472559892, and the loss is: 20028.821143799963\n",
      "When time is : 483, get best_k: -21.790766026241705 best_b: 20.32305647255989, and the loss is: 19878.41428244379\n",
      "When time is : 484, get best_k: -21.690766026241704 best_b: 20.22305647255989, and the loss is: 19728.575822204108\n",
      "When time is : 485, get best_k: -21.590766026241702 best_b: 20.123056472559888, and the loss is: 19579.305763080905\n",
      "When time is : 486, get best_k: -21.4907660262417 best_b: 20.023056472559887, and the loss is: 19430.604105074173\n",
      "When time is : 487, get best_k: -21.3907660262417 best_b: 19.923056472559885, and the loss is: 19282.470848183948\n",
      "When time is : 488, get best_k: -21.2907660262417 best_b: 19.823056472559884, and the loss is: 19134.905992410182\n",
      "When time is : 489, get best_k: -21.190766026241697 best_b: 19.723056472559882, and the loss is: 18987.909537752916\n",
      "When time is : 490, get best_k: -21.090766026241695 best_b: 19.62305647255988, and the loss is: 18841.48148421215\n",
      "When time is : 491, get best_k: -20.990766026241694 best_b: 19.52305647255988, and the loss is: 18695.62183178781\n",
      "When time is : 492, get best_k: -20.890766026241693 best_b: 19.423056472559878, and the loss is: 18550.330580480007\n",
      "When time is : 493, get best_k: -20.79076602624169 best_b: 19.323056472559877, and the loss is: 18405.60773028863\n",
      "When time is : 494, get best_k: -20.69076602624169 best_b: 19.223056472559875, and the loss is: 18261.453281213762\n",
      "When time is : 495, get best_k: -20.59076602624169 best_b: 19.123056472559874, and the loss is: 18117.867233255416\n",
      "When time is : 496, get best_k: -20.490766026241687 best_b: 19.023056472559873, and the loss is: 17974.849586413522\n",
      "When time is : 497, get best_k: -20.390766026241685 best_b: 18.92305647255987, and the loss is: 17832.400340688117\n",
      "When time is : 498, get best_k: -20.290766026241684 best_b: 18.82305647255987, and the loss is: 17690.519496079192\n",
      "When time is : 499, get best_k: -20.190766026241683 best_b: 18.72305647255987, and the loss is: 17549.20705258672\n",
      "When time is : 500, get best_k: -20.09076602624168 best_b: 18.623056472559867, and the loss is: 17408.463010210748\n",
      "When time is : 501, get best_k: -19.99076602624168 best_b: 18.523056472559865, and the loss is: 17268.287368951293\n",
      "When time is : 502, get best_k: -19.89076602624168 best_b: 18.423056472559864, and the loss is: 17128.680128808293\n",
      "When time is : 503, get best_k: -19.790766026241677 best_b: 18.323056472559863, and the loss is: 16989.64128978177\n",
      "When time is : 504, get best_k: -19.690766026241675 best_b: 18.22305647255986, and the loss is: 16851.170851871706\n",
      "When time is : 505, get best_k: -19.590766026241674 best_b: 18.12305647255986, and the loss is: 16713.268815078165\n",
      "When time is : 506, get best_k: -19.490766026241673 best_b: 18.02305647255986, and the loss is: 16575.935179401098\n",
      "When time is : 507, get best_k: -19.39076602624167 best_b: 17.923056472559857, and the loss is: 16439.16994484049\n",
      "When time is : 508, get best_k: -19.29076602624167 best_b: 17.823056472559855, and the loss is: 16302.973111396386\n",
      "When time is : 509, get best_k: -19.19076602624167 best_b: 17.723056472559854, and the loss is: 16167.344679068765\n",
      "When time is : 510, get best_k: -19.090766026241667 best_b: 17.623056472559853, and the loss is: 16032.284647857612\n",
      "When time is : 511, get best_k: -18.990766026241666 best_b: 17.52305647255985, and the loss is: 15897.793017762957\n",
      "When time is : 512, get best_k: -18.890766026241664 best_b: 17.42305647255985, and the loss is: 15763.869788784768\n",
      "When time is : 513, get best_k: -18.790766026241663 best_b: 17.32305647255985, and the loss is: 15630.514960923083\n",
      "When time is : 514, get best_k: -18.69076602624166 best_b: 17.223056472559847, and the loss is: 15497.728534177859\n",
      "When time is : 515, get best_k: -18.59076602624166 best_b: 17.123056472559846, and the loss is: 15365.510508549114\n",
      "When time is : 516, get best_k: -18.49076602624166 best_b: 17.023056472559844, and the loss is: 15233.860884036876\n",
      "When time is : 517, get best_k: -18.390766026241657 best_b: 16.923056472559843, and the loss is: 15102.77966064109\n",
      "When time is : 518, get best_k: -18.290766026241656 best_b: 16.82305647255984, and the loss is: 14972.266838361822\n",
      "When time is : 519, get best_k: -18.190766026241654 best_b: 16.72305647255984, and the loss is: 14842.322417199024\n",
      "When time is : 520, get best_k: -18.090766026241653 best_b: 16.62305647255984, and the loss is: 14712.946397152682\n",
      "When time is : 521, get best_k: -17.99076602624165 best_b: 16.523056472559837, and the loss is: 14584.138778222852\n",
      "When time is : 522, get best_k: -17.89076602624165 best_b: 16.423056472559836, and the loss is: 14455.899560409496\n",
      "When time is : 523, get best_k: -17.79076602624165 best_b: 16.323056472559834, and the loss is: 14328.22874371262\n",
      "When time is : 524, get best_k: -17.690766026241647 best_b: 16.223056472559833, and the loss is: 14201.126328132224\n",
      "When time is : 525, get best_k: -17.590766026241646 best_b: 16.12305647255983, and the loss is: 14074.59231366833\n",
      "When time is : 526, get best_k: -17.490766026241644 best_b: 16.02305647255983, and the loss is: 13948.62670032089\n",
      "When time is : 527, get best_k: -17.390766026241643 best_b: 15.92305647255983, and the loss is: 13823.22948808994\n",
      "When time is : 528, get best_k: -17.29076602624164 best_b: 15.82305647255983, and the loss is: 13698.400676975469\n",
      "When time is : 529, get best_k: -17.19076602624164 best_b: 15.723056472559831, and the loss is: 13574.140266977489\n",
      "When time is : 530, get best_k: -17.09076602624164 best_b: 15.623056472559831, and the loss is: 13450.448258095985\n",
      "When time is : 531, get best_k: -16.990766026241637 best_b: 15.523056472559832, and the loss is: 13327.324650330986\n",
      "When time is : 532, get best_k: -16.890766026241636 best_b: 15.423056472559832, and the loss is: 13204.769443682439\n",
      "When time is : 533, get best_k: -16.790766026241634 best_b: 15.323056472559832, and the loss is: 13082.782638150378\n",
      "When time is : 534, get best_k: -16.690766026241633 best_b: 15.223056472559833, and the loss is: 12961.364233734816\n",
      "When time is : 535, get best_k: -16.59076602624163 best_b: 15.123056472559833, and the loss is: 12840.51423043571\n",
      "When time is : 536, get best_k: -16.49076602624163 best_b: 15.023056472559833, and the loss is: 12720.232628253118\n",
      "When time is : 537, get best_k: -16.39076602624163 best_b: 14.923056472559834, and the loss is: 12600.519427186977\n",
      "When time is : 538, get best_k: -16.290766026241627 best_b: 14.823056472559834, and the loss is: 12481.37462723735\n",
      "When time is : 539, get best_k: -16.190766026241626 best_b: 14.723056472559835, and the loss is: 12362.798228404186\n",
      "When time is : 540, get best_k: -16.090766026241624 best_b: 14.623056472559835, and the loss is: 12244.7902306875\n",
      "When time is : 541, get best_k: -15.990766026241625 best_b: 14.523056472559835, and the loss is: 12127.350634087321\n",
      "When time is : 542, get best_k: -15.890766026241625 best_b: 14.423056472559836, and the loss is: 12010.4794386036\n",
      "When time is : 543, get best_k: -15.790766026241625 best_b: 14.323056472559836, and the loss is: 11894.176644236388\n",
      "When time is : 544, get best_k: -15.690766026241626 best_b: 14.223056472559836, and the loss is: 11778.442250985623\n",
      "When time is : 545, get best_k: -15.590766026241626 best_b: 14.123056472559837, and the loss is: 11663.276258851361\n",
      "When time is : 546, get best_k: -15.490766026241626 best_b: 14.023056472559837, and the loss is: 11548.678667833572\n",
      "When time is : 547, get best_k: -15.390766026241627 best_b: 13.923056472559837, and the loss is: 11434.649477932293\n",
      "When time is : 548, get best_k: -15.290766026241627 best_b: 13.823056472559838, and the loss is: 11321.188689147457\n",
      "When time is : 549, get best_k: -15.190766026241628 best_b: 13.723056472559838, and the loss is: 11208.296301479144\n",
      "When time is : 550, get best_k: -15.090766026241628 best_b: 13.623056472559838, and the loss is: 11095.972314927274\n",
      "When time is : 551, get best_k: -14.990766026241628 best_b: 13.523056472559839, and the loss is: 10984.21672949191\n",
      "When time is : 552, get best_k: -14.890766026241629 best_b: 13.42305647255984, and the loss is: 10873.02954517301\n",
      "When time is : 553, get best_k: -14.790766026241629 best_b: 13.32305647255984, and the loss is: 10762.410761970605\n",
      "When time is : 554, get best_k: -14.69076602624163 best_b: 13.22305647255984, and the loss is: 10652.36037988469\n",
      "When time is : 555, get best_k: -14.59076602624163 best_b: 13.12305647255984, and the loss is: 10542.878398915242\n"
     ]
    },
    {
     "name": "stdout",
     "output_type": "stream",
     "text": [
      "When time is : 556, get best_k: -14.49076602624163 best_b: 13.02305647255984, and the loss is: 10433.964819062292\n",
      "When time is : 557, get best_k: -14.39076602624163 best_b: 12.923056472559841, and the loss is: 10325.619640325796\n",
      "When time is : 558, get best_k: -14.29076602624163 best_b: 12.823056472559841, and the loss is: 10217.842862705806\n",
      "When time is : 559, get best_k: -14.190766026241631 best_b: 12.723056472559842, and the loss is: 10110.634486202292\n",
      "When time is : 560, get best_k: -14.090766026241631 best_b: 12.623056472559842, and the loss is: 10003.994510815264\n",
      "When time is : 561, get best_k: -13.990766026241632 best_b: 12.523056472559842, and the loss is: 9897.922936544708\n",
      "When time is : 562, get best_k: -13.890766026241632 best_b: 12.423056472559843, and the loss is: 9792.41976339064\n",
      "When time is : 563, get best_k: -13.790766026241633 best_b: 12.323056472559843, and the loss is: 9687.484991353049\n",
      "When time is : 564, get best_k: -13.690766026241633 best_b: 12.223056472559843, and the loss is: 9583.118620431957\n",
      "When time is : 565, get best_k: -13.590766026241633 best_b: 12.123056472559844, and the loss is: 9479.32065062734\n",
      "When time is : 566, get best_k: -13.490766026241634 best_b: 12.023056472559844, and the loss is: 9376.091081939207\n",
      "When time is : 567, get best_k: -13.390766026241634 best_b: 11.923056472559844, and the loss is: 9273.429914367545\n",
      "When time is : 568, get best_k: -13.290766026241634 best_b: 11.823056472559845, and the loss is: 9171.337147912369\n",
      "When time is : 569, get best_k: -13.190766026241635 best_b: 11.723056472559845, and the loss is: 9069.812782573685\n",
      "When time is : 570, get best_k: -13.090766026241635 best_b: 11.623056472559846, and the loss is: 8968.856818351476\n",
      "When time is : 571, get best_k: -12.990766026241635 best_b: 11.523056472559846, and the loss is: 8868.469255245756\n",
      "When time is : 572, get best_k: -12.890766026241636 best_b: 11.423056472559846, and the loss is: 8768.650093256503\n",
      "When time is : 573, get best_k: -12.790766026241636 best_b: 11.323056472559847, and the loss is: 8669.399332383744\n",
      "When time is : 574, get best_k: -12.690766026241636 best_b: 11.223056472559847, and the loss is: 8570.71697262746\n",
      "When time is : 575, get best_k: -12.590766026241637 best_b: 11.123056472559847, and the loss is: 8472.603013987671\n",
      "When time is : 576, get best_k: -12.490766026241637 best_b: 11.023056472559848, and the loss is: 8375.057456464341\n",
      "When time is : 577, get best_k: -12.390766026241637 best_b: 10.923056472559848, and the loss is: 8278.080300057505\n",
      "When time is : 578, get best_k: -12.290766026241638 best_b: 10.823056472559848, and the loss is: 8181.6715447671595\n",
      "When time is : 579, get best_k: -12.190766026241638 best_b: 10.723056472559849, and the loss is: 8085.831190593288\n",
      "When time is : 580, get best_k: -12.090766026241639 best_b: 10.623056472559849, and the loss is: 7990.559237535899\n",
      "When time is : 581, get best_k: -11.990766026241639 best_b: 10.52305647255985, and the loss is: 7895.855685595004\n",
      "When time is : 582, get best_k: -11.89076602624164 best_b: 10.42305647255985, and the loss is: 7801.72053477057\n",
      "When time is : 583, get best_k: -11.79076602624164 best_b: 10.32305647255985, and the loss is: 7708.1537850626355\n",
      "When time is : 584, get best_k: -11.69076602624164 best_b: 10.22305647255985, and the loss is: 7615.1554364711765\n",
      "When time is : 585, get best_k: -11.59076602624164 best_b: 10.12305647255985, and the loss is: 7522.7254889961905\n",
      "When time is : 586, get best_k: -11.49076602624164 best_b: 10.023056472559851, and the loss is: 7430.863942637706\n",
      "When time is : 587, get best_k: -11.390766026241641 best_b: 9.923056472559852, and the loss is: 7339.5707973956905\n",
      "When time is : 588, get best_k: -11.290766026241641 best_b: 9.823056472559852, and the loss is: 7248.846053270162\n",
      "When time is : 589, get best_k: -11.190766026241642 best_b: 9.723056472559852, and the loss is: 7158.6897102611165\n",
      "When time is : 590, get best_k: -11.090766026241642 best_b: 9.623056472559853, and the loss is: 7069.101768368547\n",
      "When time is : 591, get best_k: -10.990766026241642 best_b: 9.523056472559853, and the loss is: 6980.08222759247\n",
      "When time is : 592, get best_k: -10.890766026241643 best_b: 9.423056472559853, and the loss is: 6891.631087932876\n",
      "When time is : 593, get best_k: -10.790766026241643 best_b: 9.323056472559854, and the loss is: 6803.748349389753\n",
      "When time is : 594, get best_k: -10.690766026241644 best_b: 9.223056472559854, and the loss is: 6716.434011963117\n",
      "When time is : 595, get best_k: -10.590766026241644 best_b: 9.123056472559854, and the loss is: 6629.688075652961\n",
      "When time is : 596, get best_k: -10.490766026241644 best_b: 9.023056472559855, and the loss is: 6543.510540459284\n",
      "When time is : 597, get best_k: -10.390766026241645 best_b: 8.923056472559855, and the loss is: 6457.90140638209\n",
      "When time is : 598, get best_k: -10.290766026241645 best_b: 8.823056472559855, and the loss is: 6372.860673421392\n",
      "When time is : 599, get best_k: -10.190766026241645 best_b: 8.723056472559856, and the loss is: 6288.388341577171\n",
      "When time is : 600, get best_k: -10.090766026241646 best_b: 8.623056472559856, and the loss is: 6204.484410849414\n",
      "When time is : 601, get best_k: -9.990766026241646 best_b: 8.523056472559857, and the loss is: 6121.1488812381585\n",
      "When time is : 602, get best_k: -9.890766026241646 best_b: 8.423056472559857, and the loss is: 6038.381752743382\n",
      "When time is : 603, get best_k: -9.790766026241647 best_b: 8.323056472559857, and the loss is: 5956.1830253650905\n",
      "When time is : 604, get best_k: -9.690766026241647 best_b: 8.223056472559858, and the loss is: 5874.552699103279\n",
      "When time is : 605, get best_k: -9.590766026241647 best_b: 8.123056472559858, and the loss is: 5793.490773957942\n",
      "When time is : 606, get best_k: -9.490766026241648 best_b: 8.023056472559858, and the loss is: 5712.997249929093\n",
      "When time is : 607, get best_k: -9.390766026241648 best_b: 7.923056472559859, and the loss is: 5633.07212701673\n",
      "When time is : 608, get best_k: -9.290766026241648 best_b: 7.823056472559859, and the loss is: 5553.71540522084\n",
      "When time is : 609, get best_k: -9.190766026241649 best_b: 7.723056472559859, and the loss is: 5474.927084541437\n",
      "When time is : 610, get best_k: -9.09076602624165 best_b: 7.62305647255986, and the loss is: 5396.707164978515\n",
      "When time is : 611, get best_k: -8.99076602624165 best_b: 7.52305647255986, and the loss is: 5319.055646532077\n",
      "When time is : 612, get best_k: -8.89076602624165 best_b: 7.4230564725598605, and the loss is: 5241.972529202113\n",
      "When time is : 613, get best_k: -8.79076602624165 best_b: 7.323056472559861, and the loss is: 5165.457812988638\n",
      "When time is : 614, get best_k: -8.69076602624165 best_b: 7.223056472559861, and the loss is: 5089.511497891657\n",
      "When time is : 615, get best_k: -8.590766026241651 best_b: 7.1230564725598615, and the loss is: 5014.133583911142\n",
      "When time is : 616, get best_k: -8.490766026241651 best_b: 7.023056472559862, and the loss is: 4939.324071047113\n",
      "When time is : 617, get best_k: -8.390766026241652 best_b: 6.923056472559862, and the loss is: 4865.082959299564\n",
      "When time is : 618, get best_k: -8.290766026241652 best_b: 6.823056472559863, and the loss is: 4791.41024866851\n",
      "When time is : 619, get best_k: -8.190766026241652 best_b: 6.723056472559863, and the loss is: 4718.305939153924\n",
      "When time is : 620, get best_k: -8.090766026241653 best_b: 6.623056472559863, and the loss is: 4645.770030755826\n",
      "When time is : 621, get best_k: -7.990766026241653 best_b: 6.523056472559864, and the loss is: 4573.802523474213\n",
      "When time is : 622, get best_k: -7.8907660262416535 best_b: 6.423056472559864, and the loss is: 4502.403417309074\n",
      "When time is : 623, get best_k: -7.790766026241654 best_b: 6.323056472559864, and the loss is: 4431.572712260424\n",
      "When time is : 624, get best_k: -7.690766026241654 best_b: 6.223056472559865, and the loss is: 4361.310408328255\n",
      "When time is : 625, get best_k: -7.5907660262416545 best_b: 6.123056472559865, and the loss is: 4291.6165055125675\n",
      "When time is : 626, get best_k: -7.490766026241655 best_b: 6.023056472559865, and the loss is: 4222.491003813362\n",
      "When time is : 627, get best_k: -7.390766026241655 best_b: 5.923056472559866, and the loss is: 4153.933903230636\n",
      "When time is : 628, get best_k: -7.290766026241656 best_b: 5.823056472559866, and the loss is: 4085.9452037643964\n",
      "When time is : 629, get best_k: -7.190766026241656 best_b: 5.7230564725598665, and the loss is: 4018.5249054146357\n",
      "When time is : 630, get best_k: -7.090766026241656 best_b: 5.623056472559867, and the loss is: 3951.6730081813616\n",
      "When time is : 631, get best_k: -6.990766026241657 best_b: 5.523056472559867, and the loss is: 3885.3895120645693\n",
      "When time is : 632, get best_k: -6.890766026241657 best_b: 5.423056472559868, and the loss is: 3819.674417064254\n",
      "When time is : 633, get best_k: -6.790766026241657 best_b: 5.323056472559868, and the loss is: 3754.5277231804243\n",
      "When time is : 634, get best_k: -6.690766026241658 best_b: 5.223056472559868, and the loss is: 3689.9494304130753\n",
      "When time is : 635, get best_k: -6.590766026241658 best_b: 5.123056472559869, and the loss is: 3625.939538762212\n",
      "When time is : 636, get best_k: -6.490766026241658 best_b: 5.023056472559869, and the loss is: 3562.49804822783\n",
      "When time is : 637, get best_k: -6.390766026241659 best_b: 4.923056472559869, and the loss is: 3499.624958809925\n",
      "When time is : 638, get best_k: -6.290766026241659 best_b: 4.82305647255987, and the loss is: 3437.320270508511\n",
      "When time is : 639, get best_k: -6.1907660262416595 best_b: 4.72305647255987, and the loss is: 3375.583983323569\n",
      "When time is : 640, get best_k: -6.09076602624166 best_b: 4.62305647255987, and the loss is: 3314.416097255114\n",
      "When time is : 641, get best_k: -5.99076602624166 best_b: 4.523056472559871, and the loss is: 3253.8166123031415\n",
      "When time is : 642, get best_k: -5.890766026241661 best_b: 4.423056472559871, and the loss is: 3193.785528467655\n",
      "When time is : 643, get best_k: -5.790766026241661 best_b: 4.3230564725598715, and the loss is: 3134.3228457486466\n",
      "When time is : 644, get best_k: -5.690766026241661 best_b: 4.223056472559872, and the loss is: 3075.4285641461224\n",
      "When time is : 645, get best_k: -5.590766026241662 best_b: 4.123056472559872, and the loss is: 3017.102683660074\n",
      "When time is : 646, get best_k: -5.490766026241662 best_b: 4.0230564725598725, and the loss is: 2959.345204290514\n",
      "When time is : 647, get best_k: -5.390766026241662 best_b: 3.9230564725598724, and the loss is: 2902.1561260374356\n",
      "When time is : 648, get best_k: -5.290766026241663 best_b: 3.8230564725598724, and the loss is: 2845.5354489008414\n",
      "When time is : 649, get best_k: -5.190766026241663 best_b: 3.7230564725598723, and the loss is: 2789.4831728807294\n",
      "When time is : 650, get best_k: -5.090766026241663 best_b: 3.623056472559872, and the loss is: 2733.9992979770927\n",
      "When time is : 651, get best_k: -4.990766026241664 best_b: 3.523056472559872, and the loss is: 2679.083824189942\n",
      "When time is : 652, get best_k: -4.890766026241664 best_b: 3.423056472559872, and the loss is: 2624.736751519274\n",
      "When time is : 653, get best_k: -4.7907660262416645 best_b: 3.323056472559872, and the loss is: 2570.9580799650894\n",
      "When time is : 654, get best_k: -4.690766026241665 best_b: 3.223056472559872, and the loss is: 2517.7478095273827\n",
      "When time is : 655, get best_k: -4.590766026241665 best_b: 3.1230564725598717, and the loss is: 2465.1059402061646\n",
      "When time is : 656, get best_k: -4.4907660262416655 best_b: 3.0230564725598716, and the loss is: 2413.032472001423\n",
      "When time is : 657, get best_k: -4.390766026241666 best_b: 2.9230564725598716, and the loss is: 2361.527404913168\n",
      "When time is : 658, get best_k: -4.290766026241666 best_b: 2.8230564725598715, and the loss is: 2310.590738941396\n",
      "When time is : 659, get best_k: -4.190766026241667 best_b: 2.7230564725598714, and the loss is: 2260.2224740861043\n",
      "When time is : 660, get best_k: -4.090766026241667 best_b: 2.6230564725598713, and the loss is: 2210.4226103472915\n",
      "When time is : 661, get best_k: -3.990766026241667 best_b: 2.523056472559871, and the loss is: 2161.191147724959\n",
      "When time is : 662, get best_k: -3.890766026241667 best_b: 2.423056472559871, and the loss is: 2112.528086219116\n",
      "When time is : 663, get best_k: -3.7907660262416667 best_b: 2.323056472559871, and the loss is: 2064.433425829751\n",
      "When time is : 664, get best_k: -3.6907660262416666 best_b: 2.223056472559871, and the loss is: 2016.9071665568708\n",
      "When time is : 665, get best_k: -3.5907660262416665 best_b: 2.123056472559871, and the loss is: 1969.949308400471\n",
      "When time is : 666, get best_k: -3.4907660262416664 best_b: 2.0230564725598708, and the loss is: 1923.5598513605526\n",
      "When time is : 667, get best_k: -3.3907660262416663 best_b: 1.9230564725598707, and the loss is: 1877.7387954371186\n",
      "When time is : 668, get best_k: -3.2907660262416663 best_b: 1.8230564725598706, and the loss is: 1832.4861406301643\n",
      "When time is : 669, get best_k: -3.190766026241666 best_b: 1.7230564725598705, and the loss is: 1787.8018869396954\n",
      "When time is : 670, get best_k: -3.090766026241666 best_b: 1.6230564725598704, and the loss is: 1743.6860343657042\n",
      "When time is : 671, get best_k: -2.990766026241666 best_b: 1.5230564725598703, and the loss is: 1700.1385829081985\n",
      "When time is : 672, get best_k: -2.890766026241666 best_b: 1.4230564725598702, and the loss is: 1657.1595325671774\n",
      "When time is : 673, get best_k: -2.790766026241666 best_b: 1.3230564725598701, and the loss is: 1614.748883342633\n",
      "When time is : 674, get best_k: -2.6907660262416657 best_b: 1.22305647255987, and the loss is: 1572.906635234575\n",
      "When time is : 675, get best_k: -2.5907660262416656 best_b: 1.12305647255987, and the loss is: 1531.632788242998\n",
      "When time is : 676, get best_k: -2.4907660262416655 best_b: 1.0230564725598699, and the loss is: 1490.9273423679017\n",
      "When time is : 677, get best_k: -2.3907660262416655 best_b: 0.9230564725598699, and the loss is: 1450.790297609289\n",
      "When time is : 678, get best_k: -2.2907660262416654 best_b: 0.8230564725598699, and the loss is: 1411.2216539671588\n",
      "When time is : 679, get best_k: -2.1907660262416653 best_b: 0.7230564725598699, and the loss is: 1372.2214114415065\n",
      "When time is : 680, get best_k: -2.090766026241665 best_b: 0.62305647255987, and the loss is: 1333.7895700323434\n",
      "When time is : 681, get best_k: -1.990766026241665 best_b: 0.52305647255987, and the loss is: 1295.9261297396588\n",
      "When time is : 682, get best_k: -1.890766026241665 best_b: 0.42305647255987, and the loss is: 1258.6310905634568\n",
      "When time is : 683, get best_k: -1.790766026241665 best_b: 0.32305647255987, and the loss is: 1221.9044525037375\n",
      "When time is : 684, get best_k: -1.6907660262416648 best_b: 0.22305647255987002, and the loss is: 1185.7462155605006\n",
      "When time is : 685, get best_k: -1.5907660262416647 best_b: 0.12305647255987001, and the loss is: 1150.1563797337456\n",
      "When time is : 686, get best_k: -1.4907660262416647 best_b: 0.023056472559870006, and the loss is: 1115.1349450234716\n",
      "When time is : 687, get best_k: -1.3907660262416646 best_b: -0.07694352744013, and the loss is: 1080.681911429681\n",
      "When time is : 688, get best_k: -1.2907660262416645 best_b: -0.17694352744013, and the loss is: 1046.7972789523724\n",
      "When time is : 689, get best_k: -1.1907660262416644 best_b: -0.27694352744013, and the loss is: 1013.4810475915453\n",
      "When time is : 690, get best_k: -1.0907660262416643 best_b: -0.37694352744013004, and the loss is: 980.733217347202\n",
      "When time is : 691, get best_k: -0.9907660262416643 best_b: -0.47694352744013, and the loss is: 948.553788219339\n",
      "When time is : 692, get best_k: -0.8907660262416643 best_b: -0.57694352744013, and the loss is: 916.9427602079594\n",
      "When time is : 693, get best_k: -0.7907660262416644 best_b: -0.67694352744013, and the loss is: 885.900133313063\n",
      "When time is : 694, get best_k: -0.6907660262416644 best_b: -0.77694352744013, and the loss is: 855.4259075346478\n",
      "When time is : 695, get best_k: -0.5907660262416644 best_b: -0.8769435274401299, and the loss is: 825.5200828727135\n",
      "When time is : 696, get best_k: -0.49076602624166443 best_b: -0.9769435274401299, and the loss is: 796.1826593272623\n",
      "When time is : 697, get best_k: -0.39076602624166445 best_b: -1.07694352744013, and the loss is: 767.4136368982944\n",
      "When time is : 698, get best_k: -0.2907660262416645 best_b: -1.17694352744013, and the loss is: 739.2130155858077\n",
      "When time is : 699, get best_k: -0.19076602624166447 best_b: -1.2769435274401302, and the loss is: 711.5807953898036\n",
      "When time is : 700, get best_k: -0.09076602624166447 best_b: -1.3769435274401303, and the loss is: 684.5169763102826\n",
      "When time is : 701, get best_k: 0.00923397375833554 best_b: -1.4769435274401304, and the loss is: 658.0215583472424\n",
      "When time is : 702, get best_k: 0.10923397375833555 best_b: -1.5769435274401304, and the loss is: 632.094541500684\n",
      "When time is : 703, get best_k: 0.20923397375833555 best_b: -1.6769435274401305, and the loss is: 606.7359257706094\n",
      "When time is : 704, get best_k: 0.30923397375833556 best_b: -1.7769435274401306, and the loss is: 581.9457111570156\n",
      "When time is : 705, get best_k: 0.4092339737583356 best_b: -1.8769435274401307, and the loss is: 557.7238976599056\n",
      "When time is : 706, get best_k: 0.5092339737583356 best_b: -1.9769435274401308, and the loss is: 534.0704852792759\n",
      "When time is : 707, get best_k: 0.6092339737583355 best_b: -2.0769435274401307, and the loss is: 510.98547401512974\n",
      "When time is : 708, get best_k: 0.7092339737583355 best_b: -2.1769435274401308, and the loss is: 488.46886386746564\n",
      "When time is : 709, get best_k: 0.8092339737583355 best_b: -2.276943527440131, and the loss is: 466.5206548362838\n",
      "When time is : 710, get best_k: 0.9092339737583355 best_b: -2.376943527440131, and the loss is: 445.14084692158394\n",
      "When time is : 711, get best_k: 1.0092339737583356 best_b: -2.476943527440131, and the loss is: 424.32944012336577\n",
      "When time is : 712, get best_k: 1.1092339737583357 best_b: -2.576943527440131, and the loss is: 404.08643444163084\n",
      "When time is : 713, get best_k: 1.2092339737583357 best_b: -2.676943527440131, and the loss is: 384.411829876377\n",
      "When time is : 714, get best_k: 1.3092339737583358 best_b: -2.7769435274401313, and the loss is: 365.3056264276061\n",
      "When time is : 715, get best_k: 1.409233973758336 best_b: -2.8769435274401314, and the loss is: 346.7678240953174\n",
      "When time is : 716, get best_k: 1.509233973758336 best_b: -2.9769435274401315, and the loss is: 328.79842287951095\n",
      "When time is : 717, get best_k: 1.609233973758336 best_b: -3.0769435274401316, and the loss is: 311.3974227801863\n",
      "When time is : 718, get best_k: 1.7092339737583362 best_b: -3.1769435274401316, and the loss is: 294.5648237973446\n",
      "When time is : 719, get best_k: 1.8092339737583363 best_b: -3.2769435274401317, and the loss is: 278.3006259309844\n",
      "When time is : 720, get best_k: 1.9092339737583364 best_b: -3.376943527440132, and the loss is: 262.6048291811066\n",
      "When time is : 721, get best_k: 2.0092339737583362 best_b: -3.476943527440132, and the loss is: 247.4774335477108\n",
      "When time is : 722, get best_k: 2.1092339737583363 best_b: -3.576943527440132, and the loss is: 232.91843903079774\n",
      "When time is : 723, get best_k: 2.2092339737583364 best_b: -3.676943527440132, and the loss is: 218.92784563036648\n",
      "When time is : 724, get best_k: 2.3092339737583365 best_b: -3.776943527440132, and the loss is: 205.5056533464178\n",
      "When time is : 725, get best_k: 2.4092339737583366 best_b: -3.8769435274401323, and the loss is: 192.65186217895086\n",
      "When time is : 726, get best_k: 2.5092339737583367 best_b: -3.9769435274401324, and the loss is: 180.36647212796652\n",
      "When time is : 727, get best_k: 2.6092339737583368 best_b: -4.076943527440132, and the loss is: 168.64948319346448\n",
      "When time is : 728, get best_k: 2.709233973758337 best_b: -4.176943527440132, and the loss is: 157.50089537544446\n",
      "When time is : 729, get best_k: 2.809233973758337 best_b: -4.276943527440132, and the loss is: 146.92070867390655\n",
      "When time is : 730, get best_k: 2.909233973758337 best_b: -4.376943527440131, and the loss is: 136.9089230888508\n",
      "When time is : 731, get best_k: 3.009233973758337 best_b: -4.476943527440131, and the loss is: 127.46553862027746\n",
      "When time is : 732, get best_k: 3.109233973758337 best_b: -4.576943527440131, and the loss is: 118.59055526818612\n",
      "When time is : 733, get best_k: 3.2092339737583373 best_b: -4.67694352744013, and the loss is: 110.28397303257725\n",
      "When time is : 734, get best_k: 3.3092339737583374 best_b: -4.77694352744013, and the loss is: 102.54579191345061\n",
      "When time is : 735, get best_k: 3.4092339737583375 best_b: -4.87694352744013, and the loss is: 95.37601191080603\n",
      "When time is : 736, get best_k: 3.5092339737583376 best_b: -4.976943527440129, and the loss is: 88.77463302464366\n",
      "When time is : 737, get best_k: 3.6092339737583377 best_b: -5.076943527440129, and the loss is: 82.74165525496359\n",
      "When time is : 738, get best_k: 3.7092339737583377 best_b: -5.1769435274401285, and the loss is: 77.2770786017656\n",
      "When time is : 739, get best_k: 3.809233973758338 best_b: -5.276943527440128, and the loss is: 72.38090306505005\n",
      "When time is : 740, get best_k: 3.909233973758338 best_b: -5.376943527440128, and the loss is: 68.05312864481648\n",
      "When time is : 741, get best_k: 4.009233973758338 best_b: -5.4769435274401275, and the loss is: 64.29375534106528\n",
      "When time is : 742, get best_k: 4.109233973758338 best_b: -5.576943527440127, and the loss is: 61.10278315379624\n",
      "When time is : 743, get best_k: 4.209233973758337 best_b: -5.676943527440127, and the loss is: 58.480212083009405\n",
      "When time is : 744, get best_k: 4.309233973758337 best_b: -5.776943527440126, and the loss is: 56.426042128704815\n",
      "When time is : 745, get best_k: 4.409233973758337 best_b: -5.876943527440126, and the loss is: 54.94027329088244\n",
      "When time is : 746, get best_k: 4.509233973758336 best_b: -5.976943527440126, and the loss is: 54.02290556954229\n",
      "When time is : 747, get best_k: 4.609233973758336 best_b: -6.076943527440125, and the loss is: 53.6739389646843\n"
     ]
    }
   ],
   "source": [
    "# 2nd-Method： direction adjusting\n",
    "trying_times = 2000\n",
    "\n",
    "min_loss = float('inf')\n",
    "\n",
    "best_k = random.random() * 200 - 100\n",
    "best_b = random.random() * 200 - 100\n",
    "\n",
    "direction = [\n",
    "    (+1, -1),  # first element: k's change direction, second element: b's change direction\n",
    "    (+1, +1), \n",
    "    (-1, -1), \n",
    "    (-1, +1),\n",
    "]\n",
    "\n",
    "next_direction = random.choice(direction)\n",
    "\n",
    "scalar = 0.1\n",
    "\n",
    "for i in range(trying_times):\n",
    "    \n",
    "    k_direction, b_direction = next_direction\n",
    "    \n",
    "    current_k, current_b = best_k + k_direction * scalar, best_b + b_direction * scalar\n",
    "    \n",
    "    price_by_k_and_b = [price(r, current_k, current_b) for r in X_rm]\n",
    "\n",
    "    current_loss = loss(Y, price_by_k_and_b)\n",
    "    \n",
    "    if current_loss < min_loss: # performance became better\n",
    "        min_loss = current_loss\n",
    "        best_k, best_b = current_k, current_b\n",
    "        \n",
    "        next_direction = next_direction\n",
    "        print('When time is : {}, get best_k: {} best_b: {}, and the loss is: {}'.format(i, best_k, best_b, min_loss))\n",
    "    else:\n",
    "        next_direction = random.choice(direction)"
   ]
  },
  {
   "cell_type": "code",
   "execution_count": 66,
   "metadata": {},
   "outputs": [
    {
     "data": {
      "text/plain": [
       "2.0"
      ]
     },
     "execution_count": 66,
     "metadata": {},
     "output_type": "execute_result"
    }
   ],
   "source": [
    "loss([1, 1, 1], [2, 2, 3])"
   ]
  },
  {
   "cell_type": "code",
   "execution_count": null,
   "metadata": {
    "collapsed": true
   },
   "outputs": [],
   "source": []
  }
 ],
 "metadata": {
  "kernelspec": {
   "display_name": "Python 3",
   "language": "python",
   "name": "python3"
  },
  "language_info": {
   "codemirror_mode": {
    "name": "ipython",
    "version": 3
   },
   "file_extension": ".py",
   "mimetype": "text/x-python",
   "name": "python",
   "nbconvert_exporter": "python",
   "pygments_lexer": "ipython3",
   "version": "3.6.1"
  }
 },
 "nbformat": 4,
 "nbformat_minor": 2
}
