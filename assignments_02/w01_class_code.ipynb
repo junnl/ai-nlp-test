{
 "cells": [
  {
   "cell_type": "code",
   "execution_count": 1,
   "metadata": {
    "collapsed": true
   },
   "outputs": [],
   "source": [
    "coordination_source = \"\"\"\n",
    "{name:'兰州', geoCoord:[103.73, 36.03]},\n",
    "{name:'嘉峪关', geoCoord:[98.17, 39.47]},\n",
    "{name:'西宁', geoCoord:[101.74, 36.56]},\n",
    "{name:'成都', geoCoord:[104.06, 30.67]},\n",
    "{name:'石家庄', geoCoord:[114.48, 38.03]},\n",
    "{name:'拉萨', geoCoord:[102.73, 25.04]},\n",
    "{name:'贵阳', geoCoord:[106.71, 26.57]},\n",
    "{name:'武汉', geoCoord:[114.31, 30.52]},\n",
    "{name:'郑州', geoCoord:[113.65, 34.76]},\n",
    "{name:'济南', geoCoord:[117, 36.65]},\n",
    "{name:'南京', geoCoord:[118.78, 32.04]},\n",
    "{name:'合肥', geoCoord:[117.27, 31.86]},\n",
    "{name:'杭州', geoCoord:[120.19, 30.26]},\n",
    "{name:'南昌', geoCoord:[115.89, 28.68]},\n",
    "{name:'福州', geoCoord:[119.3, 26.08]},\n",
    "{name:'广州', geoCoord:[113.23, 23.16]},\n",
    "{name:'长沙', geoCoord:[113, 28.21]},\n",
    "//{name:'海口', geoCoord:[110.35, 20.02]},\n",
    "{name:'沈阳', geoCoord:[123.38, 41.8]},\n",
    "{name:'长春', geoCoord:[125.35, 43.88]},\n",
    "{name:'哈尔滨', geoCoord:[126.63, 45.75]},\n",
    "{name:'太原', geoCoord:[112.53, 37.87]},\n",
    "{name:'西安', geoCoord:[108.95, 34.27]},\n",
    "//{name:'台湾', geoCoord:[121.30, 25.03]},\n",
    "{name:'北京', geoCoord:[116.46, 39.92]},\n",
    "{name:'上海', geoCoord:[121.48, 31.22]},\n",
    "{name:'重庆', geoCoord:[106.54, 29.59]},\n",
    "{name:'天津', geoCoord:[117.2, 39.13]},\n",
    "{name:'呼和浩特', geoCoord:[111.65, 40.82]},\n",
    "{name:'南宁', geoCoord:[108.33, 22.84]},\n",
    "//{name:'西藏', geoCoord:[91.11, 29.97]},\n",
    "{name:'银川', geoCoord:[106.27, 38.47]},\n",
    "{name:'乌鲁木齐', geoCoord:[87.68, 43.77]},\n",
    "{name:'香港', geoCoord:[114.17, 22.28]},\n",
    "{name:'澳门', geoCoord:[113.54, 22.19]}\n",
    "\"\"\""
   ]
  },
  {
   "cell_type": "code",
   "execution_count": 2,
   "metadata": {
    "collapsed": true
   },
   "outputs": [],
   "source": [
    "import re"
   ]
  },
  {
   "cell_type": "code",
   "execution_count": 3,
   "metadata": {
    "collapsed": true
   },
   "outputs": [],
   "source": [
    "pattern = re.compile(r\"name:'(.*?)',\\s+geoCoord:\\[(.*?),\\s(.*?)\\]\")"
   ]
  },
  {
   "cell_type": "code",
   "execution_count": 4,
   "metadata": {
    "collapsed": true
   },
   "outputs": [],
   "source": [
    "city_location = {}\n",
    "for line in coordination_source.split('\\n'):\n",
    "    city_info = pattern.findall(line)\n",
    "    if not city_info: continue\n",
    "    \n",
    "    # following: we find the city info\n",
    "    \n",
    "    city, long, lat = city_info[0]\n",
    "    \n",
    "    long, lat = float(long), float(lat)\n",
    "    \n",
    "    city_location[city] = (long, lat)"
   ]
  },
  {
   "cell_type": "code",
   "execution_count": 5,
   "metadata": {},
   "outputs": [
    {
     "data": {
      "text/plain": [
       "{'上海': (121.48, 31.22),\n",
       " '乌鲁木齐': (87.68, 43.77),\n",
       " '兰州': (103.73, 36.03),\n",
       " '北京': (116.46, 39.92),\n",
       " '南京': (118.78, 32.04),\n",
       " '南宁': (108.33, 22.84),\n",
       " '南昌': (115.89, 28.68),\n",
       " '台湾': (121.3, 25.03),\n",
       " '合肥': (117.27, 31.86),\n",
       " '呼和浩特': (111.65, 40.82),\n",
       " '哈尔滨': (126.63, 45.75),\n",
       " '嘉峪关': (98.17, 39.47),\n",
       " '天津': (117.2, 39.13),\n",
       " '太原': (112.53, 37.87),\n",
       " '广州': (113.23, 23.16),\n",
       " '成都': (104.06, 30.67),\n",
       " '拉萨': (102.73, 25.04),\n",
       " '杭州': (120.19, 30.26),\n",
       " '武汉': (114.31, 30.52),\n",
       " '沈阳': (123.38, 41.8),\n",
       " '济南': (117.0, 36.65),\n",
       " '海口': (110.35, 20.02),\n",
       " '澳门': (113.54, 22.19),\n",
       " '石家庄': (114.48, 38.03),\n",
       " '福州': (119.3, 26.08),\n",
       " '西宁': (101.74, 36.56),\n",
       " '西安': (108.95, 34.27),\n",
       " '西藏': (91.11, 29.97),\n",
       " '贵阳': (106.71, 26.57),\n",
       " '郑州': (113.65, 34.76),\n",
       " '重庆': (106.54, 29.59),\n",
       " '银川': (106.27, 38.47),\n",
       " '长春': (125.35, 43.88),\n",
       " '长沙': (113.0, 28.21),\n",
       " '香港': (114.17, 22.28)}"
      ]
     },
     "execution_count": 5,
     "metadata": {},
     "output_type": "execute_result"
    }
   ],
   "source": [
    "city_location"
   ]
  },
  {
   "cell_type": "code",
   "execution_count": 6,
   "metadata": {
    "collapsed": true
   },
   "outputs": [],
   "source": [
    "import math \n",
    "def geo_distance(origin, destination):\n",
    "    \n",
    "    lat1, lon1 = origin\n",
    "    lat2, lon2 = destination\n",
    "    radius = 6371  # km\n",
    "\n",
    "    dlat = math.radians(lat2 - lat1)\n",
    "    dlon = math.radians(lon2 - lon1)\n",
    "    a = (math.sin(dlat / 2) * math.sin(dlat / 2) +\n",
    "         math.cos(math.radians(lat1)) * math.cos(math.radians(lat2)) *\n",
    "         math.sin(dlon / 2) * math.sin(dlon / 2))\n",
    "    c = 2 * math.atan2(math.sqrt(a), math.sqrt(1 - a))\n",
    "    d = radius * c\n",
    "\n",
    "    return d"
   ]
  },
  {
   "cell_type": "code",
   "execution_count": 7,
   "metadata": {
    "collapsed": true
   },
   "outputs": [],
   "source": [
    "def get_geo_distance(city1, city2):\n",
    "    return geo_distance(city_location[city1], city_location[city2])"
   ]
  },
  {
   "cell_type": "code",
   "execution_count": 8,
   "metadata": {},
   "outputs": [
    {
     "data": {
      "text/plain": [
       "868.6681437311302"
      ]
     },
     "execution_count": 8,
     "metadata": {},
     "output_type": "execute_result"
    }
   ],
   "source": [
    "get_geo_distance('北京', '西安')"
   ]
  },
  {
   "cell_type": "code",
   "execution_count": 11,
   "metadata": {
    "collapsed": true
   },
   "outputs": [],
   "source": [
    "import networkx as nx\n",
    "city_graph = nx.Graph()\n",
    "city_graph.add_nodes_from(list(city_location.keys()))"
   ]
  },
  {
   "cell_type": "code",
   "execution_count": 15,
   "metadata": {
    "collapsed": true
   },
   "outputs": [],
   "source": [
    "%matplotlib inline\n",
    "import matplotlib"
   ]
  },
  {
   "cell_type": "code",
   "execution_count": 16,
   "metadata": {
    "collapsed": true
   },
   "outputs": [],
   "source": [
    "import matplotlib.pyplot as plt"
   ]
  },
  {
   "cell_type": "code",
   "execution_count": 17,
   "metadata": {
    "collapsed": true
   },
   "outputs": [],
   "source": [
    "matplotlib.rcParams['font.family'] = 'Arial Unicode MS'\n",
    "matplotlib.rcParams['font.serif'] = 'Arial Unicode MS'\n",
    "matplotlib.rcParams['font.sans-serif'] = 'Arial Unicode MS'\n",
    "matplotlib.rcParams['axes.unicode_minus'] = False\n"
   ]
  },
  {
   "cell_type": "code",
   "execution_count": 21,
   "metadata": {},
   "outputs": [
    {
     "name": "stderr",
     "output_type": "stream",
     "text": [
      "/Users/junl/anaconda/lib/python3.6/site-packages/networkx/drawing/nx_pylab.py:126: MatplotlibDeprecationWarning: pyplot.hold is deprecated.\n",
      "    Future behavior will be consistent with the long-time default:\n",
      "    plot commands add elements without first clearing the\n",
      "    Axes and/or Figure.\n",
      "  b = plt.ishold()\n",
      "/Users/junl/anaconda/lib/python3.6/site-packages/networkx/drawing/nx_pylab.py:138: MatplotlibDeprecationWarning: pyplot.hold is deprecated.\n",
      "    Future behavior will be consistent with the long-time default:\n",
      "    plot commands add elements without first clearing the\n",
      "    Axes and/or Figure.\n",
      "  plt.hold(b)\n",
      "/Users/junl/anaconda/lib/python3.6/site-packages/matplotlib/__init__.py:917: UserWarning: axes.hold is deprecated. Please remove it from your matplotlibrc and/or style files.\n",
      "  warnings.warn(self.msg_depr_set % key)\n",
      "/Users/junl/anaconda/lib/python3.6/site-packages/matplotlib/rcsetup.py:152: UserWarning: axes.hold is deprecated, will be removed in 3.0\n",
      "  warnings.warn(\"axes.hold is deprecated, will be removed in 3.0\")\n"
     ]
    },
    {
     "data": {
      "image/png": "[encoded data removed]",
      "text/plain": [
       "<matplotlib.figure.Figure at 0x11380e6d8>"
      ]
     },
     "metadata": {},
     "output_type": "display_data"
    }
   ],
   "source": [
    "nx.draw(city_graph, city_location, with_labels=True, node_size=20)"
   ]
  },
  {
   "cell_type": "code",
   "execution_count": 23,
   "metadata": {
    "collapsed": true
   },
   "outputs": [],
   "source": [
    "from collections import defaultdict\n",
    "city_connection = defaultdict(list)\n",
    "threshold = 300\n",
    "for c1 in city_location:\n",
    "    for c2 in city_location:\n",
    "        if c1 == c2: continue\n",
    "        \n",
    "        distance = get_geo_distance(c1, c2)\n",
    "        \n",
    "        if distance < threshold:\n",
    "            city_connection[c1].append(c2)\n",
    "            city_connection[c2].append(c1)"
   ]
  },
  {
   "cell_type": "code",
   "execution_count": 24,
   "metadata": {},
   "outputs": [
    {
     "data": {
      "text/plain": [
       "defaultdict(list,\n",
       "            {'上海': ['杭州', '杭州'],\n",
       "             '兰州': ['西宁', '成都', '银川', '西宁', '成都', '银川'],\n",
       "             '北京': ['石家庄', '济南', '石家庄', '济南', '天津', '天津'],\n",
       "             '南京': ['合肥', '杭州', '合肥', '杭州'],\n",
       "             '南宁': ['贵阳', '海口', '贵阳', '海口'],\n",
       "             '南昌': ['武汉', '合肥', '武汉', '合肥'],\n",
       "             '台湾': ['福州', '福州'],\n",
       "             '合肥': ['济南', '南京', '济南', '南京', '南昌', '南昌'],\n",
       "             '呼和浩特': ['太原', '太原'],\n",
       "             '哈尔滨': ['长春', '长春'],\n",
       "             '天津': ['济南', '北京', '济南', '北京'],\n",
       "             '太原': ['石家庄', '郑州', '石家庄', '郑州', '呼和浩特', '呼和浩特'],\n",
       "             '广州': ['长沙', '香港', '澳门', '长沙', '香港', '澳门'],\n",
       "             '成都': ['兰州', '西宁', '兰州', '西宁', '拉萨', '重庆', '拉萨', '重庆'],\n",
       "             '拉萨': ['西宁', '成都', '西宁', '成都'],\n",
       "             '杭州': ['南京', '南京', '福州', '上海', '福州', '上海'],\n",
       "             '武汉': ['郑州', '南昌', '长沙', '郑州', '南昌', '长沙'],\n",
       "             '沈阳': ['长春', '长春'],\n",
       "             '济南': ['石家庄', '石家庄', '合肥', '北京', '天津', '合肥', '北京', '天津'],\n",
       "             '海口': ['南宁', '南宁'],\n",
       "             '澳门': ['广州', '长沙', '香港', '广州', '长沙', '香港'],\n",
       "             '石家庄': ['郑州', '济南', '太原', '北京', '郑州', '济南', '太原', '北京'],\n",
       "             '福州': ['杭州', '杭州', '台湾', '台湾'],\n",
       "             '西宁': ['兰州', '兰州', '成都', '拉萨', '成都', '拉萨'],\n",
       "             '贵阳': ['重庆', '南宁', '重庆', '南宁'],\n",
       "             '郑州': ['石家庄', '武汉', '石家庄', '武汉', '长沙', '太原', '长沙', '太原'],\n",
       "             '重庆': ['成都', '贵阳', '成都', '贵阳', '银川', '银川'],\n",
       "             '银川': ['兰州', '重庆', '兰州', '重庆'],\n",
       "             '长春': ['沈阳', '沈阳', '哈尔滨', '哈尔滨'],\n",
       "             '长沙': ['武汉',\n",
       "              '郑州',\n",
       "              '广州',\n",
       "              '武汉',\n",
       "              '郑州',\n",
       "              '广州',\n",
       "              '香港',\n",
       "              '澳门',\n",
       "              '香港',\n",
       "              '澳门'],\n",
       "             '香港': ['广州', '长沙', '广州', '长沙', '澳门', '澳门']})"
      ]
     },
     "execution_count": 24,
     "metadata": {},
     "output_type": "execute_result"
    }
   ],
   "source": [
    "city_connection"
   ]
  },
  {
   "cell_type": "code",
   "execution_count": 25,
   "metadata": {
    "collapsed": true
   },
   "outputs": [],
   "source": [
    "city_with_road = nx.Graph(city_connection)"
   ]
  },
  {
   "cell_type": "code",
   "execution_count": 26,
   "metadata": {},
   "outputs": [
    {
     "name": "stderr",
     "output_type": "stream",
     "text": [
      "/Users/junl/anaconda/lib/python3.6/site-packages/networkx/drawing/nx_pylab.py:126: MatplotlibDeprecationWarning: pyplot.hold is deprecated.\n",
      "    Future behavior will be consistent with the long-time default:\n",
      "    plot commands add elements without first clearing the\n",
      "    Axes and/or Figure.\n",
      "  b = plt.ishold()\n",
      "/Users/junl/anaconda/lib/python3.6/site-packages/networkx/drawing/nx_pylab.py:138: MatplotlibDeprecationWarning: pyplot.hold is deprecated.\n",
      "    Future behavior will be consistent with the long-time default:\n",
      "    plot commands add elements without first clearing the\n",
      "    Axes and/or Figure.\n",
      "  plt.hold(b)\n",
      "/Users/junl/anaconda/lib/python3.6/site-packages/matplotlib/__init__.py:917: UserWarning: axes.hold is deprecated. Please remove it from your matplotlibrc and/or style files.\n",
      "  warnings.warn(self.msg_depr_set % key)\n",
      "/Users/junl/anaconda/lib/python3.6/site-packages/matplotlib/rcsetup.py:152: UserWarning: axes.hold is deprecated, will be removed in 3.0\n",
      "  warnings.warn(\"axes.hold is deprecated, will be removed in 3.0\")\n"
     ]
    },
    {
     "data": {
      "image/png": "[encoded data removed]",
      "text/plain": [
       "<matplotlib.figure.Figure at 0x1136e9588>"
      ]
     },
     "metadata": {},
     "output_type": "display_data"
    }
   ],
   "source": [
    "nx.draw(city_with_road, city_location, with_labels=True, node_size=30)"
   ]
  },
  {
   "cell_type": "code",
   "execution_count": 27,
   "metadata": {
    "collapsed": true
   },
   "outputs": [],
   "source": [
    "simple_connection_info = defaultdict(list)"
   ]
  },
  {
   "cell_type": "code",
   "execution_count": 29,
   "metadata": {
    "collapsed": true
   },
   "outputs": [],
   "source": [
    "simple_connection_info_src = {\n",
    "    '北京': ['太原', '沈阳'],\n",
    "    '太原': ['北京', '西安', '郑州'],\n",
    "    '兰州': ['西安'],\n",
    "    '郑州': ['太原'],\n",
    "    '西安': ['兰州', '长沙'],\n",
    "    '长沙': ['福州', '南宁'],\n",
    "    '沈阳': ['北京']\n",
    "}"
   ]
  },
  {
   "cell_type": "code",
   "execution_count": 30,
   "metadata": {
    "collapsed": true
   },
   "outputs": [],
   "source": [
    "simple_connection_info.update(simple_connection_info_src)"
   ]
  },
  {
   "cell_type": "code",
   "execution_count": 31,
   "metadata": {
    "collapsed": true
   },
   "outputs": [],
   "source": [
    "def bfs(graph, start):\n",
    "    \"\"\"\n",
    "    breath first search\n",
    "    \"\"\"\n",
    "    visited = [start]\n",
    "    \n",
    "    seen = set()\n",
    "    \n",
    "    while visited:\n",
    "        froninter = visited.pop() #\n",
    "        \n",
    "        if froninter in seen: continue\n",
    "        \n",
    "        for successor in graph[froninter]:\n",
    "            if successor in seen: continue\n",
    "            print(successor)\n",
    "            \n",
    "            #visited = visited + [successor] \n",
    "            visited = [successor] + visited \n",
    "            \n",
    "            # 顺序决定深度还是广度，后来pop的\n",
    "    \n",
    "        d.add(froninter)\n",
    "    \n",
    "    return seen"
   ]
  },
  {
   "cell_type": "code",
   "execution_count": 36,
   "metadata": {},
   "outputs": [
    {
     "name": "stdout",
     "output_type": "stream",
     "text": [
      "2\n",
      "3\n",
      "4\n",
      "5\n",
      "6\n",
      "7\n",
      "8\n"
     ]
    },
    {
     "data": {
      "text/plain": [
       "{1, 2, 3, 4, 5, 6, 7, 8}"
      ]
     },
     "execution_count": 36,
     "metadata": {},
     "output_type": "execute_result"
    }
   ],
   "source": [
    "number_grpah = defaultdict(list)\n",
    "\n",
    "number_grpah.update({\n",
    "    1: [2, 3],\n",
    "    2: [1, 4], \n",
    "    3: [1, 5],\n",
    "    4: [2, 6], \n",
    "    5: [3, 7],\n",
    "    7: [5, 8]\n",
    "})\n",
    "bfs(number_grpah, 1)"
   ]
  },
  {
   "cell_type": "code",
   "execution_count": 33,
   "metadata": {},
   "outputs": [
    {
     "data": {
      "text/plain": [
       "['兰州', '长沙']"
      ]
     },
     "execution_count": 33,
     "metadata": {},
     "output_type": "execute_result"
    }
   ],
   "source": [
    "simple_connection_info['西安']"
   ]
  },
  {
   "cell_type": "code",
   "execution_count": 34,
   "metadata": {},
   "outputs": [
    {
     "name": "stderr",
     "output_type": "stream",
     "text": [
      "/Users/junl/anaconda/lib/python3.6/site-packages/networkx/drawing/nx_pylab.py:126: MatplotlibDeprecationWarning: pyplot.hold is deprecated.\n",
      "    Future behavior will be consistent with the long-time default:\n",
      "    plot commands add elements without first clearing the\n",
      "    Axes and/or Figure.\n",
      "  b = plt.ishold()\n",
      "/Users/junl/anaconda/lib/python3.6/site-packages/networkx/drawing/nx_pylab.py:138: MatplotlibDeprecationWarning: pyplot.hold is deprecated.\n",
      "    Future behavior will be consistent with the long-time default:\n",
      "    plot commands add elements without first clearing the\n",
      "    Axes and/or Figure.\n",
      "  plt.hold(b)\n",
      "/Users/junl/anaconda/lib/python3.6/site-packages/matplotlib/__init__.py:917: UserWarning: axes.hold is deprecated. Please remove it from your matplotlibrc and/or style files.\n",
      "  warnings.warn(self.msg_depr_set % key)\n",
      "/Users/junl/anaconda/lib/python3.6/site-packages/matplotlib/rcsetup.py:152: UserWarning: axes.hold is deprecated, will be removed in 3.0\n",
      "  warnings.warn(\"axes.hold is deprecated, will be removed in 3.0\")\n"
     ]
    },
    {
     "data": {
      "image/png": "[encoded data removed]",
      "text/plain": [
       "<matplotlib.figure.Figure at 0x10feec080>"
      ]
     },
     "metadata": {},
     "output_type": "display_data"
    }
   ],
   "source": [
    "nx.draw(nx.Graph(simple_connection_info), city_location, with_labels=True, node_size=10)"
   ]
  },
  {
   "cell_type": "code",
   "execution_count": 39,
   "metadata": {
    "collapsed": true
   },
   "outputs": [],
   "source": [
    "def search(start, destination, connection_grpah, sort_candidate):\n",
    "    pathes = [[start]]\n",
    "    visitied = set()\n",
    "    \n",
    "    while pathes:\n",
    "        path = pathes.pop(0)\n",
    "        froninter = path[-1]\n",
    "        \n",
    "        if froninter in visitied: continue\n",
    "            \n",
    "        successors = connection_grpah[froninter]\n",
    "        for city in successors:\n",
    "            if city in path: continue\n",
    "            new_path = path + [city]\n",
    "            pathes.append(new_path)\n",
    "            if city == destination: return new_path\n",
    "        \n",
    "        visitied.add(froninter)\n",
    "        \n",
    "        pathes = sort_candidate(pathes)        \n",
    "            \n",
    "        "
   ]
  },
  {
   "cell_type": "code",
   "execution_count": 40,
   "metadata": {
    "collapsed": true
   },
   "outputs": [],
   "source": [
    "def transfer_stations_first(pathes): \n",
    "    return sorted(pathes, key=len)"
   ]
  },
  {
   "cell_type": "code",
   "execution_count": 41,
   "metadata": {
    "collapsed": true
   },
   "outputs": [],
   "source": [
    "def transfer_as_much_possible(pathes):\n",
    "    return sorted(pathes, key=len, reverse=True)"
   ]
  },
  {
   "cell_type": "code",
   "execution_count": 42,
   "metadata": {
    "collapsed": true
   },
   "outputs": [],
   "source": [
    "def shortest_path_first(pathes):\n",
    "    \n",
    "    if len(pathes) <= 1: return pathes\n",
    "    \n",
    "    def get_path_distnace(path):\n",
    "        distance = 0\n",
    "        for station in path[:-1]:\n",
    "            distance += get_geo_distance(station, path[-1])\n",
    "            \n",
    "        return distance\n",
    "\n",
    "    return sorted(pathes, key=get_path_distnace)"
   ]
  },
  {
   "cell_type": "code",
   "execution_count": 43,
   "metadata": {},
   "outputs": [
    {
     "data": {
      "text/plain": [
       "['兰州', '西安', '长沙', '福州']"
      ]
     },
     "execution_count": 43,
     "metadata": {},
     "output_type": "execute_result"
    }
   ],
   "source": [
    "search('兰州', '福州', simple_connection_info, sort_candidate=shortest_path_first)"
   ]
  },
  {
   "cell_type": "code",
   "execution_count": 45,
   "metadata": {},
   "outputs": [
    {
     "data": {
      "text/plain": [
       "['北京', '济南', '合肥', '南京']"
      ]
     },
     "execution_count": 45,
     "metadata": {},
     "output_type": "execute_result"
    }
   ],
   "source": [
    "search('北京', '南京', city_connection, transfer_stations_first)"
   ]
  },
  {
   "cell_type": "code",
   "execution_count": 46,
   "metadata": {},
   "outputs": [
    {
     "data": {
      "text/plain": [
       "['北京', '石家庄', '郑州', '武汉', '南昌', '合肥', '南京']"
      ]
     },
     "execution_count": 46,
     "metadata": {},
     "output_type": "execute_result"
    }
   ],
   "source": [
    "search('北京', '南京', city_connection, transfer_as_much_possible)"
   ]
  },
  {
   "cell_type": "code",
   "execution_count": 47,
   "metadata": {},
   "outputs": [
    {
     "data": {
      "text/plain": [
       "['北京', '济南', '合肥', '南京']"
      ]
     },
     "execution_count": 47,
     "metadata": {},
     "output_type": "execute_result"
    }
   ],
   "source": [
    "search('北京', '南京', city_connection, shortest_path_first)"
   ]
  },
  {
   "cell_type": "markdown",
   "metadata": {},
   "source": [
    "# Machine Learning"
   ]
  },
  {
   "cell_type": "code",
   "execution_count": 48,
   "metadata": {
    "collapsed": true
   },
   "outputs": [],
   "source": [
    "from sklearn.datasets import load_boston\n",
    "data = load_boston()\n",
    "X, Y = data['data'], data['target']"
   ]
  },
  {
   "cell_type": "code",
   "execution_count": 49,
   "metadata": {},
   "outputs": [
    {
     "data": {
      "text/plain": [
       "array([  2.73100000e-02,   0.00000000e+00,   7.07000000e+00,\n",
       "         0.00000000e+00,   4.69000000e-01,   6.42100000e+00,\n",
       "         7.89000000e+01,   4.96710000e+00,   2.00000000e+00,\n",
       "         2.42000000e+02,   1.78000000e+01,   3.96900000e+02,\n",
       "         9.14000000e+00])"
      ]
     },
     "execution_count": 49,
     "metadata": {},
     "output_type": "execute_result"
    }
   ],
   "source": [
    "X[1]"
   ]
  },
  {
   "cell_type": "code",
   "execution_count": 50,
   "metadata": {},
   "outputs": [
    {
     "data": {
      "text/plain": [
       "21.600000000000001"
      ]
     },
     "execution_count": 50,
     "metadata": {},
     "output_type": "execute_result"
    }
   ],
   "source": [
    "Y[1]"
   ]
  },
  {
   "cell_type": "code",
   "execution_count": 53,
   "metadata": {
    "collapsed": true
   },
   "outputs": [],
   "source": [
    "def draw_rm_and_price():\n",
    "    plt.scatter(X[:, 5], Y)"
   ]
  },
  {
   "cell_type": "code",
   "execution_count": 54,
   "metadata": {},
   "outputs": [
    {
     "data": {
      "image/png": "[encoded data removed]",
      "text/plain": [
       "<matplotlib.figure.Figure at 0x1143fa208>"
      ]
     },
     "metadata": {},
     "output_type": "display_data"
    }
   ],
   "source": [
    "draw_rm_and_price()"
   ]
  },
  {
   "cell_type": "code",
   "execution_count": 55,
   "metadata": {
    "collapsed": true
   },
   "outputs": [],
   "source": [
    "def price(rm, k, b):\n",
    "    \"\"\"f(x) = k * x + b\"\"\"\n",
    "    return k * rm + b"
   ]
  },
  {
   "cell_type": "code",
   "execution_count": 56,
   "metadata": {
    "collapsed": true
   },
   "outputs": [],
   "source": [
    "import random"
   ]
  },
  {
   "cell_type": "code",
   "execution_count": 59,
   "metadata": {},
   "outputs": [
    {
     "data": {
      "text/plain": [
       "<matplotlib.collections.PathCollection at 0x11322d7b8>"
      ]
     },
     "execution_count": 59,
     "metadata": {},
     "output_type": "execute_result"
    },
    {
     "data": {
      "image/png": "[encoded data removed]",
      "text/plain": [
       "<matplotlib.figure.Figure at 0x1143fa160>"
      ]
     },
     "metadata": {},
     "output_type": "display_data"
    }
   ],
   "source": [
    "X_rm = X[:, 5]\n",
    "k = random.randint(-100, 100)\n",
    "b = random.randint(-100, 100)\n",
    "price_by_random_k_and_b = [price(r, k, b) for r in X_rm]\n",
    "\n",
    "draw_rm_and_price()\n",
    "plt.scatter(X_rm, price_by_random_k_and_b)"
   ]
  },
  {
   "cell_type": "code",
   "execution_count": 60,
   "metadata": {
    "collapsed": true
   },
   "outputs": [],
   "source": [
    "def loss(y, y_hat): # to evaluate the performance \n",
    "    return sum((y_i - y_hat_i)**2 for y_i, y_hat_i in zip(list(y), list(y_hat))) / len(list(y))"
   ]
  },
  {
   "cell_type": "code",
   "execution_count": 62,
   "metadata": {},
   "outputs": [
    {
     "name": "stdout",
     "output_type": "stream",
     "text": [
      "When time is : 0, get best_k: -73.58414891947334 best_b: -50.703835800842015, and the loss is: 290371.7798182535\n",
      "When time is : 1, get best_k: 17.68369483227967 best_b: 47.61965395982162, and the loss is: 18636.427835148617\n",
      "When time is : 3, get best_k: -14.551292834258447 best_b: -14.4089759420158, and the loss is: 16803.59092390012\n",
      "When time is : 14, get best_k: -11.795113996978344 best_b: 0.22481549186900907, and the loss is: 9558.65384402096\n",
      "When time is : 28, get best_k: 13.396928861826126 best_b: 6.004153912171262, and the loss is: 4631.3960541336655\n",
      "When time is : 31, get best_k: 3.310896822697032 best_b: -55.615906364371085, and the loss is: 3348.1076495094253\n",
      "When time is : 39, get best_k: 5.753709036523745 best_b: 19.3018883913942, and the loss is: 1133.4462009601152\n",
      "When time is : 44, get best_k: 18.435819812832463 best_b: -78.60582413307597, and the loss is: 303.3122626900556\n",
      "When time is : 53, get best_k: 16.269470551212677 best_b: -87.99391627570535, and the loss is: 137.45347735699042\n",
      "When time is : 246, get best_k: 15.308600798162402 best_b: -72.60492683556821, and the loss is: 63.72696268159666\n",
      "When time is : 316, get best_k: 4.371352899067588 best_b: -4.827514147840532, and the loss is: 54.63964855360456\n",
      "When time is : 456, get best_k: 7.849435878352267 best_b: -29.921061095476958, and the loss is: 54.12701785670868\n",
      "When time is : 1401, get best_k: 9.920109686349846 best_b: -39.2397829566681, and the loss is: 44.2570367585083\n"
     ]
    }
   ],
   "source": [
    "trying_times = 2000\n",
    "\n",
    "min_loss = float('inf')\n",
    "best_k, best_b = None, None\n",
    "\n",
    "for i in range(trying_times):\n",
    "    k = random.random() * 200 - 100\n",
    "    b = random.random() * 200 - 100\n",
    "    price_by_random_k_and_b = [price(r, k, b) for r in X_rm]\n",
    "\n",
    "    current_loss = loss(Y, price_by_random_k_and_b)\n",
    "    \n",
    "    if current_loss < min_loss:\n",
    "        min_loss = current_loss\n",
    "        best_k, best_b = k, b\n",
    "        print('When time is : {}, get best_k: {} best_b: {}, and the loss is: {}'.format(i, best_k, best_b, min_loss))"
   ]
  },
  {
   "cell_type": "code",
   "execution_count": 67,
   "metadata": {},
   "outputs": [
    {
     "data": {
      "text/plain": [
       "<matplotlib.collections.PathCollection at 0x11396f860>"
      ]
     },
     "execution_count": 67,
     "metadata": {},
     "output_type": "execute_result"
    },
    {
     "data": {
      "image/png": "[encoded data removed]",
      "text/plain": [
       "<matplotlib.figure.Figure at 0x10fee4898>"
      ]
     },
     "metadata": {},
     "output_type": "display_data"
    }
   ],
   "source": [
    "X_rm = X[:, 5]\n",
    "k = 10\n",
    "b = -39\n",
    "price_by_random_k_and_b = [price(r, k, b) for r in X_rm]\n",
    "\n",
    "draw_rm_and_price()\n",
    "plt.scatter(X_rm, price_by_random_k_and_b)"
   ]
  },
  {
   "cell_type": "code",
   "execution_count": 72,
   "metadata": {},
   "outputs": [
    {
     "name": "stdout",
     "output_type": "stream",
     "text": [
      "When time is : 0, get best_k: -45.3904495317634 best_b: -67.91342046225532, and the loss is: 142663.58611062804\n",
      "When time is : 1, get best_k: -45.2904495317634 best_b: -67.81342046225532, and the loss is: 142111.37208468144\n",
      "When time is : 2, get best_k: -45.1904495317634 best_b: -67.71342046225533, and the loss is: 141560.22923060218\n",
      "When time is : 3, get best_k: -45.0904495317634 best_b: -67.61342046225533, and the loss is: 141010.15754839047\n",
      "When time is : 4, get best_k: -44.990449531763396 best_b: -67.51342046225534, and the loss is: 140461.15703804602\n",
      "When time is : 5, get best_k: -44.890449531763394 best_b: -67.41342046225535, and the loss is: 139913.22769956928\n",
      "When time is : 6, get best_k: -44.79044953176339 best_b: -67.31342046225535, and the loss is: 139366.3695329597\n",
      "When time is : 7, get best_k: -44.69044953176339 best_b: -67.21342046225536, and the loss is: 138820.5825382178\n",
      "When time is : 8, get best_k: -44.59044953176339 best_b: -67.11342046225536, and the loss is: 138275.8667153434\n",
      "When time is : 9, get best_k: -44.49044953176339 best_b: -67.01342046225537, and the loss is: 137732.22206433647\n",
      "When time is : 10, get best_k: -44.39044953176339 best_b: -66.91342046225537, and the loss is: 137189.648585197\n",
      "When time is : 11, get best_k: -44.290449531763386 best_b: -66.81342046225538, and the loss is: 136648.14627792488\n",
      "When time is : 12, get best_k: -44.190449531763385 best_b: -66.71342046225539, and the loss is: 136107.71514252055\n",
      "When time is : 13, get best_k: -44.09044953176338 best_b: -66.61342046225539, and the loss is: 135568.3551789834\n",
      "When time is : 14, get best_k: -43.99044953176338 best_b: -66.5134204622554, and the loss is: 135030.06638731368\n",
      "When time is : 15, get best_k: -43.89044953176338 best_b: -66.4134204622554, and the loss is: 134492.84876751155\n",
      "When time is : 16, get best_k: -43.79044953176338 best_b: -66.31342046225541, and the loss is: 133956.7023195768\n",
      "When time is : 17, get best_k: -43.69044953176338 best_b: -66.21342046225541, and the loss is: 133421.62704350962\n",
      "When time is : 18, get best_k: -43.590449531763376 best_b: -66.11342046225542, and the loss is: 132887.62293930983\n",
      "When time is : 19, get best_k: -43.490449531763375 best_b: -66.01342046225543, and the loss is: 132354.69000697765\n",
      "When time is : 20, get best_k: -43.39044953176337 best_b: -65.91342046225543, and the loss is: 131822.82824651274\n",
      "When time is : 21, get best_k: -43.29044953176337 best_b: -65.81342046225544, and the loss is: 131292.03765791547\n",
      "When time is : 22, get best_k: -43.19044953176337 best_b: -65.71342046225544, and the loss is: 130762.31824118568\n",
      "When time is : 23, get best_k: -43.09044953176337 best_b: -65.61342046225545, and the loss is: 130233.66999632324\n",
      "When time is : 24, get best_k: -42.99044953176337 best_b: -65.51342046225545, and the loss is: 129706.09292332827\n",
      "When time is : 25, get best_k: -42.890449531763366 best_b: -65.41342046225546, and the loss is: 129179.58702220072\n",
      "When time is : 26, get best_k: -42.790449531763365 best_b: -65.31342046225546, and the loss is: 128654.15229294075\n",
      "When time is : 27, get best_k: -42.69044953176336 best_b: -65.21342046225547, and the loss is: 128129.78873554833\n",
      "When time is : 28, get best_k: -42.59044953176336 best_b: -65.11342046225548, and the loss is: 127606.4963500232\n",
      "When time is : 29, get best_k: -42.49044953176336 best_b: -65.01342046225548, and the loss is: 127084.27513636574\n",
      "When time is : 30, get best_k: -42.39044953176336 best_b: -64.91342046225549, and the loss is: 126563.12509457563\n",
      "When time is : 31, get best_k: -42.29044953176336 best_b: -64.8134204622555, and the loss is: 126043.04622465315\n",
      "When time is : 32, get best_k: -42.190449531763356 best_b: -64.7134204622555, and the loss is: 125524.03852659784\n",
      "When time is : 33, get best_k: -42.090449531763355 best_b: -64.6134204622555, and the loss is: 125006.1020004102\n",
      "When time is : 34, get best_k: -41.99044953176335 best_b: -64.51342046225551, and the loss is: 124489.23664609002\n",
      "When time is : 35, get best_k: -41.89044953176335 best_b: -64.41342046225552, and the loss is: 123973.44246363734\n",
      "When time is : 36, get best_k: -41.79044953176335 best_b: -64.31342046225552, and the loss is: 123458.71945305195\n",
      "When time is : 37, get best_k: -41.69044953176335 best_b: -64.21342046225553, and the loss is: 122945.0676143342\n",
      "When time is : 38, get best_k: -41.59044953176335 best_b: -64.11342046225553, and the loss is: 122432.48694748378\n",
      "When time is : 39, get best_k: -41.490449531763346 best_b: -64.01342046225554, and the loss is: 121920.97745250087\n",
      "When time is : 40, get best_k: -41.390449531763345 best_b: -63.91342046225554, and the loss is: 121410.53912938542\n",
      "When time is : 41, get best_k: -41.29044953176334 best_b: -63.813420462255536, and the loss is: 120901.17197813762\n",
      "When time is : 42, get best_k: -41.19044953176334 best_b: -63.713420462255534, and the loss is: 120392.87599875714\n",
      "When time is : 43, get best_k: -41.09044953176334 best_b: -63.61342046225553, and the loss is: 119885.65119124412\n",
      "When time is : 44, get best_k: -40.99044953176334 best_b: -63.51342046225553, and the loss is: 119379.49755559865\n",
      "When time is : 45, get best_k: -40.89044953176334 best_b: -63.41342046225553, and the loss is: 118874.41509182059\n",
      "When time is : 46, get best_k: -40.790449531763336 best_b: -63.31342046225553, and the loss is: 118370.40379990997\n",
      "When time is : 47, get best_k: -40.690449531763335 best_b: -63.21342046225553, and the loss is: 117867.4636798669\n",
      "When time is : 48, get best_k: -40.59044953176333 best_b: -63.113420462255526, and the loss is: 117365.5947316912\n",
      "When time is : 49, get best_k: -40.49044953176333 best_b: -63.013420462255525, and the loss is: 116864.7969553832\n",
      "When time is : 50, get best_k: -40.39044953176333 best_b: -62.91342046225552, and the loss is: 116365.07035094254\n",
      "When time is : 51, get best_k: -40.29044953176333 best_b: -62.81342046225552, and the loss is: 115866.41491836912\n",
      "When time is : 52, get best_k: -40.19044953176333 best_b: -62.71342046225552, and the loss is: 115368.83065766348\n",
      "When time is : 53, get best_k: -40.090449531763326 best_b: -62.61342046225552, and the loss is: 114872.31756882505\n",
      "When time is : 54, get best_k: -39.990449531763325 best_b: -62.51342046225552, and the loss is: 114376.87565185435\n",
      "When time is : 55, get best_k: -39.89044953176332 best_b: -62.413420462255516, and the loss is: 113882.50490675098\n",
      "When time is : 56, get best_k: -39.79044953176332 best_b: -62.313420462255515, and the loss is: 113389.20533351495\n",
      "When time is : 57, get best_k: -39.69044953176332 best_b: -62.21342046225551, and the loss is: 112896.97693214669\n",
      "When time is : 58, get best_k: -39.59044953176332 best_b: -62.11342046225551, and the loss is: 112405.81970264569\n",
      "When time is : 59, get best_k: -39.49044953176332 best_b: -62.01342046225551, and the loss is: 111915.73364501234\n",
      "When time is : 60, get best_k: -39.390449531763316 best_b: -61.91342046225551, and the loss is: 111426.71875924637\n",
      "When time is : 61, get best_k: -39.290449531763315 best_b: -61.81342046225551, and the loss is: 110938.7750453478\n",
      "When time is : 62, get best_k: -39.19044953176331 best_b: -61.713420462255506, and the loss is: 110451.90250331674\n",
      "When time is : 63, get best_k: -39.09044953176331 best_b: -61.613420462255505, and the loss is: 109966.10113315326\n",
      "When time is : 64, get best_k: -38.99044953176331 best_b: -61.5134204622555, and the loss is: 109481.37093485703\n",
      "When time is : 65, get best_k: -38.89044953176331 best_b: -61.4134204622555, and the loss is: 108997.71190842835\n",
      "When time is : 66, get best_k: -38.79044953176331 best_b: -61.3134204622555, and the loss is: 108515.1240538674\n",
      "When time is : 67, get best_k: -38.690449531763306 best_b: -61.2134204622555, and the loss is: 108033.60737117352\n",
      "When time is : 68, get best_k: -38.590449531763305 best_b: -61.1134204622555, and the loss is: 107553.16186034743\n",
      "When time is : 69, get best_k: -38.4904495317633 best_b: -61.013420462255496, and the loss is: 107073.78752138853\n",
      "When time is : 70, get best_k: -38.3904495317633 best_b: -60.913420462255495, and the loss is: 106595.4843542973\n",
      "When time is : 71, get best_k: -38.2904495317633 best_b: -60.81342046225549, and the loss is: 106118.25235907342\n",
      "When time is : 72, get best_k: -38.1904495317633 best_b: -60.71342046225549, and the loss is: 105642.09153571705\n",
      "When time is : 73, get best_k: -38.0904495317633 best_b: -60.61342046225549, and the loss is: 105167.00188422822\n",
      "When time is : 74, get best_k: -37.990449531763296 best_b: -60.51342046225549, and the loss is: 104692.98340460687\n",
      "When time is : 75, get best_k: -37.890449531763295 best_b: -60.41342046225549, and the loss is: 104220.03609685297\n",
      "When time is : 76, get best_k: -37.790449531763294 best_b: -60.313420462255486, and the loss is: 103748.15996096651\n",
      "When time is : 77, get best_k: -37.69044953176329 best_b: -60.213420462255485, and the loss is: 103277.35499694735\n",
      "When time is : 78, get best_k: -37.59044953176329 best_b: -60.11342046225548, and the loss is: 102807.62120479583\n",
      "When time is : 79, get best_k: -37.49044953176329 best_b: -60.01342046225548, and the loss is: 102338.95858451184\n",
      "When time is : 80, get best_k: -37.39044953176329 best_b: -59.91342046225548, and the loss is: 101871.36713609523\n",
      "When time is : 81, get best_k: -37.29044953176329 best_b: -59.81342046225548, and the loss is: 101404.84685954623\n",
      "When time is : 82, get best_k: -37.190449531763285 best_b: -59.71342046225548, and the loss is: 100939.39775486458\n",
      "When time is : 83, get best_k: -37.090449531763284 best_b: -59.613420462255476, and the loss is: 100475.01982205028\n",
      "When time is : 84, get best_k: -36.99044953176328 best_b: -59.513420462255475, and the loss is: 100011.71306110364\n",
      "When time is : 85, get best_k: -36.89044953176328 best_b: -59.41342046225547, and the loss is: 99549.4774720243\n",
      "When time is : 86, get best_k: -36.79044953176328 best_b: -59.31342046225547, and the loss is: 99088.31305481259\n",
      "When time is : 87, get best_k: -36.69044953176328 best_b: -59.21342046225547, and the loss is: 98628.21980946833\n",
      "When time is : 88, get best_k: -36.59044953176328 best_b: -59.11342046225547, and the loss is: 98169.19773599158\n",
      "When time is : 89, get best_k: -36.490449531763275 best_b: -59.01342046225547, and the loss is: 97711.24683438221\n",
      "When time is : 90, get best_k: -36.390449531763274 best_b: -58.913420462255466, and the loss is: 97254.36710464026\n",
      "When time is : 91, get best_k: -36.29044953176327 best_b: -58.813420462255465, and the loss is: 96798.55854676587\n",
      "When time is : 92, get best_k: -36.19044953176327 best_b: -58.71342046225546, and the loss is: 96343.82116075893\n",
      "When time is : 93, get best_k: -36.09044953176327 best_b: -58.61342046225546, and the loss is: 95890.15494661934\n",
      "When time is : 94, get best_k: -35.99044953176327 best_b: -58.51342046225546, and the loss is: 95437.55990434744\n",
      "When time is : 95, get best_k: -35.89044953176327 best_b: -58.41342046225546, and the loss is: 94986.03603394299\n",
      "When time is : 96, get best_k: -35.790449531763265 best_b: -58.31342046225546, and the loss is: 94535.58333540586\n",
      "When time is : 97, get best_k: -35.690449531763264 best_b: -58.213420462255456, and the loss is: 94086.20180873628\n",
      "When time is : 98, get best_k: -35.59044953176326 best_b: -58.113420462255455, and the loss is: 93637.8914539343\n",
      "When time is : 99, get best_k: -35.49044953176326 best_b: -58.01342046225545, and the loss is: 93190.6522709996\n",
      "When time is : 100, get best_k: -35.39044953176326 best_b: -57.91342046225545, and the loss is: 92744.48425993235\n",
      "When time is : 101, get best_k: -35.29044953176326 best_b: -57.81342046225545, and the loss is: 92299.38742073275\n",
      "When time is : 102, get best_k: -35.19044953176326 best_b: -57.71342046225545, and the loss is: 91855.36175340037\n",
      "When time is : 103, get best_k: -35.090449531763255 best_b: -57.61342046225545, and the loss is: 91412.40725793567\n",
      "When time is : 104, get best_k: -34.990449531763254 best_b: -57.513420462255446, and the loss is: 90970.52393433839\n",
      "When time is : 105, get best_k: -34.89044953176325 best_b: -57.413420462255445, and the loss is: 90529.71178260855\n",
      "When time is : 106, get best_k: -34.79044953176325 best_b: -57.31342046225544, and the loss is: 90089.97080274619\n",
      "When time is : 107, get best_k: -34.69044953176325 best_b: -57.21342046225544, and the loss is: 89651.30099475145\n",
      "When time is : 108, get best_k: -34.59044953176325 best_b: -57.11342046225544, and the loss is: 89213.70235862398\n",
      "When time is : 109, get best_k: -34.49044953176325 best_b: -57.01342046225544, and the loss is: 88777.17489436398\n",
      "When time is : 110, get best_k: -34.390449531763245 best_b: -56.91342046225544, and the loss is: 88341.7186019715\n",
      "When time is : 111, get best_k: -34.290449531763244 best_b: -56.813420462255436, and the loss is: 87907.33348144635\n",
      "When time is : 112, get best_k: -34.19044953176324 best_b: -56.713420462255435, and the loss is: 87474.0195327888\n",
      "When time is : 113, get best_k: -34.09044953176324 best_b: -56.613420462255434, and the loss is: 87041.77675599887\n",
      "When time is : 114, get best_k: -33.99044953176324 best_b: -56.51342046225543, and the loss is: 86610.60515107638\n",
      "When time is : 115, get best_k: -33.89044953176324 best_b: -56.41342046225543, and the loss is: 86180.50471802124\n",
      "When time is : 116, get best_k: -33.79044953176324 best_b: -56.31342046225543, and the loss is: 85751.47545683353\n",
      "When time is : 117, get best_k: -33.690449531763235 best_b: -56.21342046225543, and the loss is: 85323.5173675133\n",
      "When time is : 118, get best_k: -33.590449531763234 best_b: -56.11342046225543, and the loss is: 84896.63045006074\n",
      "When time is : 119, get best_k: -33.49044953176323 best_b: -56.013420462255425, and the loss is: 84470.81470447539\n",
      "When time is : 120, get best_k: -33.39044953176323 best_b: -55.913420462255424, and the loss is: 84046.07013075761\n",
      "When time is : 121, get best_k: -33.29044953176323 best_b: -55.81342046225542, and the loss is: 83622.39672890736\n",
      "When time is : 122, get best_k: -33.19044953176323 best_b: -55.71342046225542, and the loss is: 83199.7944989245\n",
      "When time is : 123, get best_k: -33.09044953176323 best_b: -55.61342046225542, and the loss is: 82778.26344080914\n",
      "When time is : 124, get best_k: -32.990449531763225 best_b: -55.51342046225542, and the loss is: 82357.8035545613\n",
      "When time is : 125, get best_k: -32.890449531763224 best_b: -55.41342046225542, and the loss is: 81938.4148401809\n",
      "When time is : 126, get best_k: -32.79044953176322 best_b: -55.313420462255415, and the loss is: 81520.0972976678\n",
      "When time is : 127, get best_k: -32.69044953176322 best_b: -55.213420462255414, and the loss is: 81102.85092702252\n",
      "When time is : 128, get best_k: -32.59044953176322 best_b: -55.11342046225541, and the loss is: 80686.67572824434\n",
      "When time is : 129, get best_k: -32.49044953176322 best_b: -55.01342046225541, and the loss is: 80271.57170133386\n",
      "When time is : 130, get best_k: -32.39044953176322 best_b: -54.91342046225541, and the loss is: 79857.53884629086\n",
      "When time is : 131, get best_k: -32.290449531763215 best_b: -54.81342046225541, and the loss is: 79444.57716311523\n",
      "When time is : 132, get best_k: -32.190449531763214 best_b: -54.71342046225541, and the loss is: 79032.68665180715\n",
      "When time is : 133, get best_k: -32.09044953176321 best_b: -54.613420462255405, and the loss is: 78621.86731236646\n",
      "When time is : 134, get best_k: -31.99044953176321 best_b: -54.513420462255404, and the loss is: 78212.1191447933\n",
      "When time is : 135, get best_k: -31.89044953176321 best_b: -54.4134204622554, and the loss is: 77803.44214908757\n",
      "When time is : 136, get best_k: -31.79044953176321 best_b: -54.3134204622554, and the loss is: 77395.83632524937\n",
      "When time is : 137, get best_k: -31.690449531763207 best_b: -54.2134204622554, and the loss is: 76989.3016732785\n",
      "When time is : 138, get best_k: -31.590449531763205 best_b: -54.1134204622554, and the loss is: 76583.83819317524\n",
      "When time is : 139, get best_k: -31.490449531763204 best_b: -54.0134204622554, and the loss is: 76179.44588493941\n",
      "When time is : 140, get best_k: -31.390449531763203 best_b: -53.913420462255395, and the loss is: 75776.12474857103\n",
      "When time is : 141, get best_k: -31.2904495317632 best_b: -53.813420462255394, and the loss is: 75373.87478407018\n",
      "When time is : 142, get best_k: -31.1904495317632 best_b: -53.71342046225539, and the loss is: 74972.69599143667\n",
      "When time is : 143, get best_k: -31.0904495317632 best_b: -53.61342046225539, and the loss is: 74572.58837067072\n",
      "When time is : 144, get best_k: -30.990449531763197 best_b: -53.51342046225539, and the loss is: 74173.55192177223\n",
      "When time is : 145, get best_k: -30.890449531763196 best_b: -53.41342046225539, and the loss is: 73775.58664474131\n",
      "When time is : 146, get best_k: -30.790449531763194 best_b: -53.31342046225539, and the loss is: 73378.69253957782\n",
      "When time is : 147, get best_k: -30.690449531763193 best_b: -53.213420462255385, and the loss is: 72982.86960628169\n",
      "When time is : 148, get best_k: -30.59044953176319 best_b: -53.113420462255384, and the loss is: 72588.11784485313\n",
      "When time is : 149, get best_k: -30.49044953176319 best_b: -53.01342046225538, and the loss is: 72194.437255292\n",
      "When time is : 150, get best_k: -30.39044953176319 best_b: -52.91342046225538, and the loss is: 71801.82783759835\n",
      "When time is : 151, get best_k: -30.290449531763187 best_b: -52.81342046225538, and the loss is: 71410.28959177218\n",
      "When time is : 152, get best_k: -30.190449531763186 best_b: -52.71342046225538, and the loss is: 71019.82251781337\n",
      "When time is : 153, get best_k: -30.090449531763184 best_b: -52.61342046225538, and the loss is: 70630.42661572208\n",
      "When time is : 154, get best_k: -29.990449531763183 best_b: -52.513420462255375, and the loss is: 70242.1018854984\n",
      "When time is : 155, get best_k: -29.89044953176318 best_b: -52.413420462255374, and the loss is: 69854.84832714211\n",
      "When time is : 156, get best_k: -29.79044953176318 best_b: -52.31342046225537, and the loss is: 69468.66594065323\n",
      "When time is : 157, get best_k: -29.69044953176318 best_b: -52.21342046225537, and the loss is: 69083.55472603186\n",
      "When time is : 158, get best_k: -29.590449531763177 best_b: -52.11342046225537, and the loss is: 68699.51468327796\n",
      "When time is : 159, get best_k: -29.490449531763176 best_b: -52.01342046225537, and the loss is: 68316.5458123916\n",
      "When time is : 160, get best_k: -29.390449531763174 best_b: -51.91342046225537, and the loss is: 67934.64811337266\n",
      "When time is : 161, get best_k: -29.290449531763173 best_b: -51.813420462255365, and the loss is: 67553.82158622121\n",
      "When time is : 162, get best_k: -29.19044953176317 best_b: -51.713420462255364, and the loss is: 67174.06623093714\n",
      "When time is : 163, get best_k: -29.09044953176317 best_b: -51.61342046225536, and the loss is: 66795.3820475206\n",
      "When time is : 164, get best_k: -28.99044953176317 best_b: -51.51342046225536, and the loss is: 66417.76903597148\n",
      "When time is : 165, get best_k: -28.890449531763167 best_b: -51.41342046225536, and the loss is: 66041.22719628987\n",
      "When time is : 166, get best_k: -28.790449531763166 best_b: -51.31342046225536, and the loss is: 65665.7565284758\n",
      "When time is : 167, get best_k: -28.690449531763164 best_b: -51.21342046225536, and the loss is: 65291.357032529166\n",
      "When time is : 168, get best_k: -28.590449531763163 best_b: -51.113420462255355, and the loss is: 64918.02870845002\n",
      "When time is : 169, get best_k: -28.49044953176316 best_b: -51.013420462255354, and the loss is: 64545.771556238265\n"
     ]
    },
    {
     "name": "stdout",
     "output_type": "stream",
     "text": [
      "When time is : 170, get best_k: -28.39044953176316 best_b: -50.91342046225535, and the loss is: 64174.585575894\n",
      "When time is : 171, get best_k: -28.29044953176316 best_b: -50.81342046225535, and the loss is: 63804.47076741717\n",
      "When time is : 172, get best_k: -28.190449531763157 best_b: -50.71342046225535, and the loss is: 63435.42713080786\n",
      "When time is : 173, get best_k: -28.090449531763156 best_b: -50.61342046225535, and the loss is: 63067.45466606602\n",
      "When time is : 174, get best_k: -27.990449531763154 best_b: -50.51342046225535, and the loss is: 62700.55337319172\n",
      "When time is : 175, get best_k: -27.890449531763153 best_b: -50.413420462255345, and the loss is: 62334.723252184725\n",
      "When time is : 176, get best_k: -27.79044953176315 best_b: -50.313420462255344, and the loss is: 61969.96430304538\n",
      "When time is : 177, get best_k: -27.69044953176315 best_b: -50.21342046225534, and the loss is: 61606.27652577332\n",
      "When time is : 178, get best_k: -27.59044953176315 best_b: -50.11342046225534, and the loss is: 61243.6599203689\n",
      "When time is : 179, get best_k: -27.490449531763147 best_b: -50.01342046225534, and the loss is: 60882.11448683188\n",
      "When time is : 180, get best_k: -27.390449531763146 best_b: -49.91342046225534, and the loss is: 60521.64022516232\n",
      "When time is : 181, get best_k: -27.290449531763144 best_b: -49.81342046225534, and the loss is: 60162.237135360214\n",
      "When time is : 182, get best_k: -27.190449531763143 best_b: -49.713420462255336, and the loss is: 59803.90521742565\n",
      "When time is : 183, get best_k: -27.09044953176314 best_b: -49.613420462255334, and the loss is: 59446.64447135847\n",
      "When time is : 184, get best_k: -26.99044953176314 best_b: -49.51342046225533, and the loss is: 59090.454897158896\n",
      "When time is : 185, get best_k: -26.89044953176314 best_b: -49.41342046225533, and the loss is: 58735.33649482667\n",
      "When time is : 186, get best_k: -26.790449531763137 best_b: -49.31342046225533, and the loss is: 58381.289264361985\n",
      "When time is : 187, get best_k: -26.690449531763136 best_b: -49.21342046225533, and the loss is: 58028.313205764665\n",
      "When time is : 188, get best_k: -26.590449531763134 best_b: -49.11342046225533, and the loss is: 57676.4083190349\n",
      "When time is : 189, get best_k: -26.490449531763133 best_b: -49.013420462255326, and the loss is: 57325.5746041726\n",
      "When time is : 190, get best_k: -26.39044953176313 best_b: -48.913420462255324, and the loss is: 56975.812061177705\n",
      "When time is : 191, get best_k: -26.29044953176313 best_b: -48.81342046225532, and the loss is: 56627.12069005043\n",
      "When time is : 192, get best_k: -26.19044953176313 best_b: -48.71342046225532, and the loss is: 56279.5004907905\n",
      "When time is : 193, get best_k: -26.090449531763127 best_b: -48.61342046225532, and the loss is: 55932.951463398065\n",
      "When time is : 194, get best_k: -25.990449531763126 best_b: -48.51342046225532, and the loss is: 55587.47360787309\n",
      "When time is : 195, get best_k: -25.890449531763124 best_b: -48.41342046225532, and the loss is: 55243.06692421557\n",
      "When time is : 196, get best_k: -25.790449531763123 best_b: -48.313420462255316, and the loss is: 54899.73141242559\n",
      "When time is : 197, get best_k: -25.69044953176312 best_b: -48.213420462255314, and the loss is: 54557.467072502994\n",
      "When time is : 198, get best_k: -25.59044953176312 best_b: -48.11342046225531, and the loss is: 54216.27390444795\n",
      "When time is : 199, get best_k: -25.49044953176312 best_b: -48.01342046225531, and the loss is: 53876.15190826032\n",
      "When time is : 200, get best_k: -25.390449531763117 best_b: -47.91342046225531, and the loss is: 53537.10108394026\n",
      "When time is : 201, get best_k: -25.290449531763116 best_b: -47.81342046225531, and the loss is: 53199.1214314876\n",
      "When time is : 202, get best_k: -25.190449531763115 best_b: -47.71342046225531, and the loss is: 52862.2129509023\n",
      "When time is : 203, get best_k: -25.090449531763113 best_b: -47.613420462255306, and the loss is: 52526.3756421847\n",
      "When time is : 204, get best_k: -24.99044953176311 best_b: -47.513420462255304, and the loss is: 52191.60950533438\n",
      "When time is : 205, get best_k: -24.89044953176311 best_b: -47.4134204622553, and the loss is: 51857.914540351645\n",
      "When time is : 206, get best_k: -24.79044953176311 best_b: -47.3134204622553, and the loss is: 51525.29074723629\n",
      "When time is : 207, get best_k: -24.690449531763107 best_b: -47.2134204622553, and the loss is: 51193.738125988406\n",
      "When time is : 208, get best_k: -24.590449531763106 best_b: -47.1134204622553, and the loss is: 50863.256676608115\n",
      "When time is : 209, get best_k: -24.490449531763105 best_b: -47.0134204622553, and the loss is: 50533.84639909514\n",
      "When time is : 210, get best_k: -24.390449531763103 best_b: -46.913420462255296, and the loss is: 50205.507293449715\n",
      "When time is : 211, get best_k: -24.2904495317631 best_b: -46.813420462255294, and the loss is: 49878.23935967176\n",
      "When time is : 212, get best_k: -24.1904495317631 best_b: -46.71342046225529, and the loss is: 49552.0425977613\n",
      "When time is : 213, get best_k: -24.0904495317631 best_b: -46.61342046225529, and the loss is: 49226.917007718286\n",
      "When time is : 214, get best_k: -23.990449531763097 best_b: -46.51342046225529, and the loss is: 48902.86258954273\n",
      "When time is : 215, get best_k: -23.890449531763096 best_b: -46.41342046225529, and the loss is: 48579.87934323459\n",
      "When time is : 216, get best_k: -23.790449531763095 best_b: -46.31342046225529, and the loss is: 48257.967268794004\n",
      "When time is : 217, get best_k: -23.690449531763093 best_b: -46.213420462255286, and the loss is: 47937.12636622083\n",
      "When time is : 218, get best_k: -23.590449531763092 best_b: -46.113420462255284, and the loss is: 47617.35663551516\n",
      "When time is : 219, get best_k: -23.49044953176309 best_b: -46.01342046225528, and the loss is: 47298.65807667702\n",
      "When time is : 220, get best_k: -23.39044953176309 best_b: -45.91342046225528, and the loss is: 46981.03068970618\n",
      "When time is : 221, get best_k: -23.290449531763088 best_b: -45.81342046225528, and the loss is: 46664.47447460301\n",
      "When time is : 222, get best_k: -23.190449531763086 best_b: -45.71342046225528, and the loss is: 46348.98943136718\n",
      "When time is : 223, get best_k: -23.090449531763085 best_b: -45.61342046225528, and the loss is: 46034.57555999883\n",
      "When time is : 224, get best_k: -22.990449531763083 best_b: -45.513420462255276, and the loss is: 45721.23286049804\n",
      "When time is : 225, get best_k: -22.890449531763082 best_b: -45.413420462255274, and the loss is: 45408.961332864645\n",
      "When time is : 226, get best_k: -22.79044953176308 best_b: -45.31342046225527, and the loss is: 45097.7609770987\n",
      "When time is : 227, get best_k: -22.69044953176308 best_b: -45.21342046225527, and the loss is: 44787.63179320033\n",
      "When time is : 228, get best_k: -22.590449531763078 best_b: -45.11342046225527, and the loss is: 44478.573781169354\n",
      "When time is : 229, get best_k: -22.490449531763076 best_b: -45.01342046225527, and the loss is: 44170.58694100588\n",
      "When time is : 230, get best_k: -22.390449531763075 best_b: -44.91342046225527, and the loss is: 43863.67127270984\n",
      "When time is : 231, get best_k: -22.290449531763073 best_b: -44.813420462255266, and the loss is: 43557.82677628128\n",
      "When time is : 232, get best_k: -22.190449531763072 best_b: -44.713420462255264, and the loss is: 43253.05345172022\n",
      "When time is : 233, get best_k: -22.09044953176307 best_b: -44.61342046225526, and the loss is: 42949.35129902656\n",
      "When time is : 234, get best_k: -21.99044953176307 best_b: -44.51342046225526, and the loss is: 42646.72031820044\n",
      "When time is : 235, get best_k: -21.890449531763068 best_b: -44.41342046225526, and the loss is: 42345.16050924173\n",
      "When time is : 236, get best_k: -21.790449531763066 best_b: -44.31342046225526, and the loss is: 42044.67187215057\n",
      "When time is : 237, get best_k: -21.690449531763065 best_b: -44.21342046225526, and the loss is: 41745.254406926826\n",
      "When time is : 238, get best_k: -21.590449531763063 best_b: -44.113420462255256, and the loss is: 41446.90811357051\n",
      "When time is : 239, get best_k: -21.490449531763062 best_b: -44.013420462255255, and the loss is: 41149.632992081766\n",
      "When time is : 240, get best_k: -21.39044953176306 best_b: -43.91342046225525, and the loss is: 40853.42904246044\n",
      "When time is : 241, get best_k: -21.29044953176306 best_b: -43.81342046225525, and the loss is: 40558.29626470657\n",
      "When time is : 242, get best_k: -21.190449531763058 best_b: -43.71342046225525, and the loss is: 40264.23465882023\n",
      "When time is : 243, get best_k: -21.090449531763056 best_b: -43.61342046225525, and the loss is: 39971.2442248013\n",
      "When time is : 244, get best_k: -20.990449531763055 best_b: -43.51342046225525, and the loss is: 39679.32496264987\n",
      "When time is : 245, get best_k: -20.890449531763053 best_b: -43.413420462255246, and the loss is: 39388.47687236589\n",
      "When time is : 246, get best_k: -20.790449531763052 best_b: -43.313420462255245, and the loss is: 39098.69995394941\n",
      "When time is : 247, get best_k: -20.69044953176305 best_b: -43.21342046225524, and the loss is: 38809.99420740031\n",
      "When time is : 248, get best_k: -20.59044953176305 best_b: -43.11342046225524, and the loss is: 38522.35963271877\n",
      "When time is : 249, get best_k: -20.490449531763048 best_b: -43.01342046225524, and the loss is: 38235.79622990469\n",
      "When time is : 250, get best_k: -20.390449531763046 best_b: -42.91342046225524, and the loss is: 37950.30399895806\n",
      "When time is : 251, get best_k: -20.290449531763045 best_b: -42.81342046225524, and the loss is: 37665.882939878924\n",
      "When time is : 252, get best_k: -20.190449531763043 best_b: -42.713420462255236, and the loss is: 37382.53305266726\n",
      "When time is : 253, get best_k: -20.090449531763042 best_b: -42.613420462255235, and the loss is: 37100.254337323044\n",
      "When time is : 254, get best_k: -19.99044953176304 best_b: -42.51342046225523, and the loss is: 36819.04679384627\n",
      "When time is : 255, get best_k: -19.89044953176304 best_b: -42.41342046225523, and the loss is: 36538.91042223703\n",
      "When time is : 256, get best_k: -19.790449531763038 best_b: -42.31342046225523, and the loss is: 36259.84522249525\n",
      "When time is : 257, get best_k: -19.690449531763036 best_b: -42.21342046225523, and the loss is: 35981.851194620904\n",
      "When time is : 258, get best_k: -19.590449531763035 best_b: -42.11342046225523, and the loss is: 35704.92833861405\n",
      "When time is : 259, get best_k: -19.490449531763034 best_b: -42.013420462255226, and the loss is: 35429.07665447467\n",
      "When time is : 260, get best_k: -19.390449531763032 best_b: -41.913420462255225, and the loss is: 35154.29614220278\n",
      "When time is : 261, get best_k: -19.29044953176303 best_b: -41.81342046225522, and the loss is: 34880.58680179833\n",
      "When time is : 262, get best_k: -19.19044953176303 best_b: -41.71342046225522, and the loss is: 34607.948633261345\n",
      "When time is : 263, get best_k: -19.090449531763028 best_b: -41.61342046225522, and the loss is: 34336.38163659185\n",
      "When time is : 264, get best_k: -18.990449531763026 best_b: -41.51342046225522, and the loss is: 34065.88581178981\n",
      "When time is : 265, get best_k: -18.890449531763025 best_b: -41.41342046225522, and the loss is: 33796.461158855294\n",
      "When time is : 266, get best_k: -18.790449531763024 best_b: -41.313420462255216, and the loss is: 33528.10767778816\n",
      "When time is : 267, get best_k: -18.690449531763022 best_b: -41.213420462255215, and the loss is: 33260.825368588536\n",
      "When time is : 268, get best_k: -18.59044953176302 best_b: -41.11342046225521, and the loss is: 32994.614231256375\n",
      "When time is : 269, get best_k: -18.49044953176302 best_b: -41.01342046225521, and the loss is: 32729.474265791687\n",
      "When time is : 270, get best_k: -18.390449531763018 best_b: -40.91342046225521, and the loss is: 32465.40547219449\n",
      "When time is : 271, get best_k: -18.290449531763016 best_b: -40.81342046225521, and the loss is: 32202.40785046473\n",
      "When time is : 272, get best_k: -18.190449531763015 best_b: -40.71342046225521, and the loss is: 31940.48140060247\n",
      "When time is : 273, get best_k: -18.090449531763014 best_b: -40.613420462255206, and the loss is: 31679.62612260769\n",
      "When time is : 274, get best_k: -17.990449531763012 best_b: -40.513420462255205, and the loss is: 31419.84201648039\n",
      "When time is : 275, get best_k: -17.89044953176301 best_b: -40.4134204622552, and the loss is: 31161.12908222053\n",
      "When time is : 276, get best_k: -17.79044953176301 best_b: -40.3134204622552, and the loss is: 30903.487319828128\n",
      "When time is : 277, get best_k: -17.690449531763008 best_b: -40.2134204622552, and the loss is: 30646.916729303204\n",
      "When time is : 278, get best_k: -17.590449531763007 best_b: -40.1134204622552, and the loss is: 30391.417310645753\n",
      "When time is : 279, get best_k: -17.490449531763005 best_b: -40.0134204622552, and the loss is: 30136.98906385577\n",
      "When time is : 280, get best_k: -17.390449531763004 best_b: -39.913420462255196, and the loss is: 29883.63198893322\n",
      "When time is : 281, get best_k: -17.290449531763002 best_b: -39.813420462255195, and the loss is: 29631.34608587824\n",
      "When time is : 282, get best_k: -17.190449531763 best_b: -39.71342046225519, and the loss is: 29380.13135469067\n",
      "When time is : 283, get best_k: -17.090449531763 best_b: -39.61342046225519, and the loss is: 29129.98779537058\n",
      "When time is : 284, get best_k: -16.990449531762998 best_b: -39.51342046225519, and the loss is: 28880.915407917943\n",
      "When time is : 285, get best_k: -16.890449531762997 best_b: -39.41342046225519, and the loss is: 28632.91419233281\n",
      "When time is : 286, get best_k: -16.790449531762995 best_b: -39.31342046225519, and the loss is: 28385.984148615134\n",
      "When time is : 287, get best_k: -16.690449531762994 best_b: -39.213420462255186, and the loss is: 28140.12527676492\n",
      "When time is : 288, get best_k: -16.590449531762992 best_b: -39.113420462255185, and the loss is: 27895.33757678217\n",
      "When time is : 289, get best_k: -16.49044953176299 best_b: -39.01342046225518, and the loss is: 27651.621048666882\n",
      "When time is : 290, get best_k: -16.39044953176299 best_b: -38.91342046225518, and the loss is: 27408.9756924191\n",
      "When time is : 291, get best_k: -16.290449531762988 best_b: -38.81342046225518, and the loss is: 27167.401508038736\n",
      "When time is : 292, get best_k: -16.190449531762987 best_b: -38.71342046225518, and the loss is: 26926.898495525882\n",
      "When time is : 293, get best_k: -16.090449531762985 best_b: -38.61342046225518, and the loss is: 26687.466654880496\n",
      "When time is : 294, get best_k: -15.990449531762986 best_b: -38.513420462255176, and the loss is: 26449.105986102553\n",
      "When time is : 295, get best_k: -15.890449531762986 best_b: -38.413420462255175, and the loss is: 26211.81648919215\n",
      "When time is : 296, get best_k: -15.790449531762986 best_b: -38.31342046225517, and the loss is: 25975.59816414915\n",
      "When time is : 297, get best_k: -15.690449531762987 best_b: -38.21342046225517, and the loss is: 25740.451010973644\n",
      "When time is : 298, get best_k: -15.590449531762987 best_b: -38.11342046225517, and the loss is: 25506.375029665607\n",
      "When time is : 299, get best_k: -15.490449531762987 best_b: -38.01342046225517, and the loss is: 25273.370220225064\n",
      "When time is : 300, get best_k: -15.390449531762988 best_b: -37.91342046225517, and the loss is: 25041.43658265194\n",
      "When time is : 301, get best_k: -15.290449531762988 best_b: -37.813420462255166, and the loss is: 24810.574116946307\n",
      "When time is : 302, get best_k: -15.190449531762988 best_b: -37.713420462255165, and the loss is: 24580.78282310817\n",
      "When time is : 303, get best_k: -15.090449531762989 best_b: -37.613420462255164, and the loss is: 24352.062701137453\n",
      "When time is : 304, get best_k: -14.990449531762989 best_b: -37.51342046225516, and the loss is: 24124.4137510343\n",
      "When time is : 305, get best_k: -14.89044953176299 best_b: -37.41342046225516, and the loss is: 23897.83597279849\n",
      "When time is : 306, get best_k: -14.79044953176299 best_b: -37.31342046225516, and the loss is: 23672.329366430255\n",
      "When time is : 307, get best_k: -14.69044953176299 best_b: -37.21342046225516, and the loss is: 23447.89393192941\n",
      "When time is : 308, get best_k: -14.59044953176299 best_b: -37.11342046225516, and the loss is: 23224.529669296135\n",
      "When time is : 309, get best_k: -14.49044953176299 best_b: -37.013420462255155, and the loss is: 23002.23657853024\n",
      "When time is : 310, get best_k: -14.390449531762991 best_b: -36.913420462255154, and the loss is: 22781.01465963185\n",
      "When time is : 311, get best_k: -14.290449531762992 best_b: -36.81342046225515, and the loss is: 22560.86391260096\n",
      "When time is : 312, get best_k: -14.190449531762992 best_b: -36.71342046225515, and the loss is: 22341.784337437482\n",
      "When time is : 313, get best_k: -14.090449531762992 best_b: -36.61342046225515, and the loss is: 22123.775934141486\n",
      "When time is : 314, get best_k: -13.990449531762993 best_b: -36.51342046225515, and the loss is: 21906.838702712997\n",
      "When time is : 315, get best_k: -13.890449531762993 best_b: -36.41342046225515, and the loss is: 21690.972643151952\n",
      "When time is : 316, get best_k: -13.790449531762993 best_b: -36.313420462255145, and the loss is: 21476.1777554584\n",
      "When time is : 317, get best_k: -13.690449531762994 best_b: -36.213420462255144, and the loss is: 21262.454039632285\n",
      "When time is : 318, get best_k: -13.590449531762994 best_b: -36.11342046225514, and the loss is: 21049.801495673655\n",
      "When time is : 319, get best_k: -13.490449531762994 best_b: -36.01342046225514, and the loss is: 20838.220123582476\n",
      "When time is : 320, get best_k: -13.390449531762995 best_b: -35.91342046225514, and the loss is: 20627.709923358794\n",
      "When time is : 321, get best_k: -13.290449531762995 best_b: -35.81342046225514, and the loss is: 20418.27089500258\n",
      "When time is : 322, get best_k: -13.190449531762996 best_b: -35.71342046225514, and the loss is: 20209.90303851387\n",
      "When time is : 323, get best_k: -13.090449531762996 best_b: -35.613420462255135, and the loss is: 20002.60635389258\n",
      "When time is : 324, get best_k: -12.990449531762996 best_b: -35.513420462255134, and the loss is: 19796.380841138744\n",
      "When time is : 325, get best_k: -12.890449531762997 best_b: -35.41342046225513, and the loss is: 19591.226500252455\n",
      "When time is : 326, get best_k: -12.790449531762997 best_b: -35.31342046225513, and the loss is: 19387.143331233587\n",
      "When time is : 327, get best_k: -12.690449531762997 best_b: -35.21342046225513, and the loss is: 19184.131334082176\n",
      "When time is : 328, get best_k: -12.590449531762998 best_b: -35.11342046225513, and the loss is: 18982.190508798252\n",
      "When time is : 329, get best_k: -12.490449531762998 best_b: -35.01342046225513, and the loss is: 18781.320855381764\n",
      "When time is : 330, get best_k: -12.390449531762998 best_b: -34.913420462255125, and the loss is: 18581.522373832788\n",
      "When time is : 331, get best_k: -12.290449531762999 best_b: -34.813420462255124, and the loss is: 18382.795064151283\n",
      "When time is : 332, get best_k: -12.190449531762999 best_b: -34.71342046225512, and the loss is: 18185.13892633722\n",
      "When time is : 333, get best_k: -12.090449531763 best_b: -34.61342046225512, and the loss is: 17988.55396039066\n",
      "When time is : 334, get best_k: -11.990449531763 best_b: -34.51342046225512, and the loss is: 17793.04016631156\n",
      "When time is : 335, get best_k: -11.890449531763 best_b: -34.41342046225512, and the loss is: 17598.597544099943\n",
      "When time is : 336, get best_k: -11.790449531763 best_b: -34.31342046225512, and the loss is: 17405.22609375575\n",
      "When time is : 337, get best_k: -11.690449531763 best_b: -34.213420462255115, and the loss is: 17212.92581527904\n",
      "When time is : 338, get best_k: -11.590449531763001 best_b: -34.113420462255114, and the loss is: 17021.696708669835\n",
      "When time is : 339, get best_k: -11.490449531763002 best_b: -34.01342046225511, and the loss is: 16831.5387739281\n",
      "When time is : 340, get best_k: -11.390449531763002 best_b: -33.91342046225511, and the loss is: 16642.452011053814\n",
      "When time is : 341, get best_k: -11.290449531763002 best_b: -33.81342046225511, and the loss is: 16454.436420046997\n",
      "When time is : 342, get best_k: -11.190449531763003 best_b: -33.71342046225511, and the loss is: 16267.492000907681\n",
      "When time is : 343, get best_k: -11.090449531763003 best_b: -33.61342046225511, and the loss is: 16081.618753635797\n",
      "When time is : 344, get best_k: -10.990449531763003 best_b: -33.513420462255105, and the loss is: 15896.816678231384\n",
      "When time is : 345, get best_k: -10.890449531763004 best_b: -33.413420462255104, and the loss is: 15713.085774694462\n",
      "When time is : 346, get best_k: -10.790449531763004 best_b: -33.3134204622551, and the loss is: 15530.426043025014\n",
      "When time is : 347, get best_k: -10.690449531763004 best_b: -33.2134204622551, and the loss is: 15348.837483223002\n",
      "When time is : 348, get best_k: -10.590449531763005 best_b: -33.1134204622551, and the loss is: 15168.320095288485\n",
      "When time is : 349, get best_k: -10.490449531763005 best_b: -33.0134204622551, and the loss is: 14988.87387922146\n",
      "When time is : 350, get best_k: -10.390449531763005 best_b: -32.9134204622551, and the loss is: 14810.49883502187\n",
      "When time is : 351, get best_k: -10.290449531763006 best_b: -32.813420462255095, and the loss is: 14633.194962689773\n",
      "When time is : 352, get best_k: -10.190449531763006 best_b: -32.713420462255094, and the loss is: 14456.962262225125\n",
      "When time is : 353, get best_k: -10.090449531763007 best_b: -32.61342046225509, and the loss is: 14281.800733627962\n",
      "When time is : 354, get best_k: -9.990449531763007 best_b: -32.51342046225509, and the loss is: 14107.710376898285\n",
      "When time is : 355, get best_k: -9.890449531763007 best_b: -32.41342046225509, and the loss is: 13934.691192036053\n",
      "When time is : 356, get best_k: -9.790449531763008 best_b: -32.31342046225509, and the loss is: 13762.743179041292\n",
      "When time is : 357, get best_k: -9.690449531763008 best_b: -32.21342046225509, and the loss is: 13591.866337914005\n",
      "When time is : 358, get best_k: -9.590449531763008 best_b: -32.113420462255085, and the loss is: 13422.06066865419\n",
      "When time is : 359, get best_k: -9.490449531763009 best_b: -32.013420462255084, and the loss is: 13253.326171261844\n",
      "When time is : 360, get best_k: -9.390449531763009 best_b: -31.913420462255083, and the loss is: 13085.662845736979\n",
      "When time is : 361, get best_k: -9.29044953176301 best_b: -31.81342046225508, and the loss is: 12919.070692079567\n",
      "When time is : 362, get best_k: -9.19044953176301 best_b: -31.71342046225508, and the loss is: 12753.549710289635\n",
      "When time is : 363, get best_k: -9.09044953176301 best_b: -31.61342046225508, and the loss is: 12589.099900367164\n",
      "When time is : 364, get best_k: -8.99044953176301 best_b: -31.513420462255077, and the loss is: 12425.72126231217\n",
      "When time is : 365, get best_k: -8.89044953176301 best_b: -31.413420462255075, and the loss is: 12263.413796124645\n",
      "When time is : 366, get best_k: -8.790449531763011 best_b: -31.313420462255074, and the loss is: 12102.177501804606\n",
      "When time is : 367, get best_k: -8.690449531763011 best_b: -31.213420462255073, and the loss is: 11942.012379352018\n",
      "When time is : 368, get best_k: -8.590449531763012 best_b: -31.11342046225507, and the loss is: 11782.918428766889\n",
      "When time is : 369, get best_k: -8.490449531763012 best_b: -31.01342046225507, and the loss is: 11624.895650049264\n",
      "When time is : 370, get best_k: -8.390449531763013 best_b: -30.91342046225507, and the loss is: 11467.944043199072\n",
      "When time is : 371, get best_k: -8.290449531763013 best_b: -30.813420462255067, and the loss is: 11312.063608216396\n",
      "When time is : 372, get best_k: -8.190449531763013 best_b: -30.713420462255066, and the loss is: 11157.25434510116\n",
      "When time is : 373, get best_k: -8.090449531763014 best_b: -30.613420462255064, and the loss is: 11003.516253853408\n",
      "When time is : 374, get best_k: -7.990449531763014 best_b: -30.513420462255063, and the loss is: 10850.849334473112\n",
      "When time is : 375, get best_k: -7.890449531763014 best_b: -30.41342046225506, and the loss is: 10699.253586960293\n",
      "When time is : 376, get best_k: -7.790449531763015 best_b: -30.31342046225506, and the loss is: 10548.729011314947\n",
      "When time is : 377, get best_k: -7.690449531763015 best_b: -30.21342046225506, and the loss is: 10399.275607537067\n",
      "When time is : 378, get best_k: -7.590449531763015 best_b: -30.113420462255057, and the loss is: 10250.893375626649\n",
      "When time is : 379, get best_k: -7.490449531763016 best_b: -30.013420462255056, and the loss is: 10103.582315583719\n",
      "When time is : 380, get best_k: -7.390449531763016 best_b: -29.913420462255054, and the loss is: 9957.342427408259\n",
      "When time is : 381, get best_k: -7.2904495317630165 best_b: -29.813420462255053, and the loss is: 9812.173711100251\n",
      "When time is : 382, get best_k: -7.190449531763017 best_b: -29.71342046225505, and the loss is: 9668.07616665973\n",
      "When time is : 383, get best_k: -7.090449531763017 best_b: -29.61342046225505, and the loss is: 9525.049794086664\n",
      "When time is : 384, get best_k: -6.9904495317630175 best_b: -29.51342046225505, and the loss is: 9383.094593381073\n",
      "When time is : 385, get best_k: -6.890449531763018 best_b: -29.413420462255047, and the loss is: 9242.210564542982\n",
      "When time is : 386, get best_k: -6.790449531763018 best_b: -29.313420462255046, and the loss is: 9102.397707572338\n",
      "When time is : 387, get best_k: -6.690449531763019 best_b: -29.213420462255044, and the loss is: 8963.656022469157\n",
      "When time is : 388, get best_k: -6.590449531763019 best_b: -29.113420462255043, and the loss is: 8825.985509233455\n",
      "When time is : 389, get best_k: -6.490449531763019 best_b: -29.01342046225504, and the loss is: 8689.386167865227\n",
      "When time is : 390, get best_k: -6.39044953176302 best_b: -28.91342046225504, and the loss is: 8553.85799836446\n",
      "When time is : 391, get best_k: -6.29044953176302 best_b: -28.81342046225504, and the loss is: 8419.401000731159\n",
      "When time is : 392, get best_k: -6.19044953176302 best_b: -28.713420462255037, and the loss is: 8286.015174965329\n",
      "When time is : 393, get best_k: -6.090449531763021 best_b: -28.613420462255036, and the loss is: 8153.700521066974\n",
      "When time is : 394, get best_k: -5.990449531763021 best_b: -28.513420462255034, and the loss is: 8022.457039036107\n",
      "When time is : 395, get best_k: -5.890449531763021 best_b: -28.413420462255033, and the loss is: 7892.284728872693\n",
      "When time is : 396, get best_k: -5.790449531763022 best_b: -28.31342046225503, and the loss is: 7763.183590576753\n",
      "When time is : 397, get best_k: -5.690449531763022 best_b: -28.21342046225503, and the loss is: 7635.153624148281\n",
      "When time is : 398, get best_k: -5.5904495317630225 best_b: -28.11342046225503, and the loss is: 7508.19482958728\n",
      "When time is : 399, get best_k: -5.490449531763023 best_b: -28.013420462255027, and the loss is: 7382.307206893747\n",
      "When time is : 400, get best_k: -5.390449531763023 best_b: -27.913420462255026, and the loss is: 7257.490756067688\n",
      "When time is : 401, get best_k: -5.290449531763024 best_b: -27.813420462255024, and the loss is: 7133.745477109092\n",
      "When time is : 402, get best_k: -5.190449531763024 best_b: -27.713420462255023, and the loss is: 7011.071370017973\n",
      "When time is : 403, get best_k: -5.090449531763024 best_b: -27.61342046225502, and the loss is: 6889.468434794334\n",
      "When time is : 404, get best_k: -4.990449531763025 best_b: -27.51342046225502, and the loss is: 6768.936671438153\n",
      "When time is : 405, get best_k: -4.890449531763025 best_b: -27.41342046225502, and the loss is: 6649.476079949441\n",
      "When time is : 406, get best_k: -4.790449531763025 best_b: -27.313420462255017, and the loss is: 6531.086660328203\n",
      "When time is : 407, get best_k: -4.690449531763026 best_b: -27.213420462255016, and the loss is: 6413.768412574443\n",
      "When time is : 408, get best_k: -4.590449531763026 best_b: -27.113420462255014, and the loss is: 6297.521336688139\n",
      "When time is : 409, get best_k: -4.490449531763026 best_b: -27.013420462255013, and the loss is: 6182.345432669311\n",
      "When time is : 410, get best_k: -4.390449531763027 best_b: -26.91342046225501, and the loss is: 6068.240700517953\n",
      "When time is : 411, get best_k: -4.290449531763027 best_b: -26.81342046225501, and the loss is: 5955.207140234072\n",
      "When time is : 412, get best_k: -4.1904495317630275 best_b: -26.71342046225501, and the loss is: 5843.244751817657\n",
      "When time is : 413, get best_k: -4.090449531763028 best_b: -26.613420462255007, and the loss is: 5732.353535268715\n",
      "When time is : 414, get best_k: -3.9904495317630277 best_b: -26.513420462255006, and the loss is: 5622.53349058723\n"
     ]
    },
    {
     "name": "stdout",
     "output_type": "stream",
     "text": [
      "When time is : 415, get best_k: -3.8904495317630277 best_b: -26.413420462255004, and the loss is: 5513.7846177732235\n",
      "When time is : 416, get best_k: -3.7904495317630276 best_b: -26.313420462255003, and the loss is: 5406.10691682669\n",
      "When time is : 417, get best_k: -3.6904495317630275 best_b: -26.213420462255, and the loss is: 5299.500387747632\n",
      "When time is : 418, get best_k: -3.5904495317630274 best_b: -26.113420462255, and the loss is: 5193.965030536039\n",
      "When time is : 419, get best_k: -3.4904495317630273 best_b: -26.013420462255, and the loss is: 5089.500845191908\n",
      "When time is : 420, get best_k: -3.390449531763027 best_b: -25.913420462254997, and the loss is: 4986.107831715252\n",
      "When time is : 421, get best_k: -3.290449531763027 best_b: -25.813420462254996, and the loss is: 4883.785990106076\n",
      "When time is : 422, get best_k: -3.190449531763027 best_b: -25.713420462254994, and the loss is: 4782.535320364369\n",
      "When time is : 423, get best_k: -3.090449531763027 best_b: -25.613420462254993, and the loss is: 4682.35582249012\n",
      "When time is : 424, get best_k: -2.990449531763027 best_b: -25.51342046225499, and the loss is: 4583.247496483345\n",
      "When time is : 425, get best_k: -2.8904495317630268 best_b: -25.41342046225499, and the loss is: 4485.21034234404\n",
      "When time is : 426, get best_k: -2.7904495317630267 best_b: -25.31342046225499, and the loss is: 4388.244360072219\n",
      "When time is : 427, get best_k: -2.6904495317630266 best_b: -25.213420462254987, and the loss is: 4292.349549667851\n",
      "When time is : 428, get best_k: -2.5904495317630265 best_b: -25.113420462254986, and the loss is: 4197.525911130959\n",
      "When time is : 429, get best_k: -2.4904495317630264 best_b: -25.013420462254984, and the loss is: 4103.773444461543\n",
      "When time is : 430, get best_k: -2.3904495317630263 best_b: -24.913420462254983, and the loss is: 4011.0921496595934\n",
      "When time is : 431, get best_k: -2.2904495317630262 best_b: -24.81342046225498, and the loss is: 3919.482026725115\n",
      "When time is : 432, get best_k: -2.190449531763026 best_b: -24.71342046225498, and the loss is: 3828.9430756581055\n",
      "When time is : 433, get best_k: -2.090449531763026 best_b: -24.61342046225498, and the loss is: 3739.4752964585646\n",
      "When time is : 434, get best_k: -1.990449531763026 best_b: -24.513420462254977, and the loss is: 3651.0786891264966\n",
      "When time is : 435, get best_k: -1.8904495317630259 best_b: -24.413420462254976, and the loss is: 3563.7532536619005\n",
      "When time is : 436, get best_k: -1.7904495317630258 best_b: -24.313420462254975, and the loss is: 3477.4989900647734\n",
      "When time is : 437, get best_k: -1.6904495317630257 best_b: -24.213420462254973, and the loss is: 3392.3158983351145\n",
      "When time is : 438, get best_k: -1.5904495317630256 best_b: -24.11342046225497, and the loss is: 3308.2039784729295\n",
      "When time is : 439, get best_k: -1.4904495317630255 best_b: -24.01342046225497, and the loss is: 3225.163230478211\n",
      "When time is : 440, get best_k: -1.3904495317630254 best_b: -23.91342046225497, and the loss is: 3143.1936543509682\n",
      "When time is : 441, get best_k: -1.2904495317630253 best_b: -23.813420462254967, and the loss is: 3062.2952500911924\n",
      "When time is : 442, get best_k: -1.1904495317630253 best_b: -23.713420462254966, and the loss is: 2982.468017698886\n",
      "When time is : 443, get best_k: -1.0904495317630252 best_b: -23.613420462254965, and the loss is: 2903.7119571740477\n",
      "When time is : 444, get best_k: -0.9904495317630252 best_b: -23.513420462254963, and the loss is: 2826.0270685166847\n",
      "When time is : 445, get best_k: -0.8904495317630252 best_b: -23.41342046225496, and the loss is: 2749.4133517267915\n",
      "When time is : 446, get best_k: -0.7904495317630252 best_b: -23.31342046225496, and the loss is: 2673.870806804364\n",
      "When time is : 447, get best_k: -0.6904495317630253 best_b: -23.21342046225496, and the loss is: 2599.3994337494155\n",
      "When time is : 448, get best_k: -0.5904495317630253 best_b: -23.113420462254957, and the loss is: 2525.9992325619305\n",
      "When time is : 449, get best_k: -0.4904495317630253 best_b: -23.013420462254956, and the loss is: 2453.6702032419166\n",
      "When time is : 450, get best_k: -0.3904495317630253 best_b: -22.913420462254955, and the loss is: 2382.412345789378\n",
      "When time is : 451, get best_k: -0.29044953176302535 best_b: -22.813420462254953, and the loss is: 2312.2256602043035\n",
      "When time is : 452, get best_k: -0.19044953176302534 best_b: -22.713420462254952, and the loss is: 2243.1101464867\n",
      "When time is : 453, get best_k: -0.09044953176302534 best_b: -22.61342046225495, and the loss is: 2175.0658046365706\n",
      "When time is : 454, get best_k: 0.009550468236974669 best_b: -22.51342046225495, and the loss is: 2108.0926346539077\n",
      "When time is : 455, get best_k: 0.10955046823697467 best_b: -22.413420462254948, and the loss is: 2042.1906365387158\n",
      "When time is : 456, get best_k: 0.20955046823697468 best_b: -22.313420462254946, and the loss is: 1977.359810290997\n",
      "When time is : 457, get best_k: 0.3095504682369747 best_b: -22.213420462254945, and the loss is: 1913.6001559107467\n",
      "When time is : 458, get best_k: 0.4095504682369747 best_b: -22.113420462254943, and the loss is: 1850.9116733979693\n",
      "When time is : 459, get best_k: 0.5095504682369747 best_b: -22.013420462254942, and the loss is: 1789.294362752658\n",
      "When time is : 460, get best_k: 0.6095504682369747 best_b: -21.91342046225494, and the loss is: 1728.7482239748188\n",
      "When time is : 461, get best_k: 0.7095504682369747 best_b: -21.81342046225494, and the loss is: 1669.273257064451\n",
      "When time is : 462, get best_k: 0.8095504682369746 best_b: -21.713420462254938, and the loss is: 1610.869462021553\n",
      "When time is : 463, get best_k: 0.9095504682369746 best_b: -21.613420462254936, and the loss is: 1553.536838846125\n",
      "When time is : 464, get best_k: 1.0095504682369747 best_b: -21.513420462254935, and the loss is: 1497.2753875381686\n",
      "When time is : 465, get best_k: 1.1095504682369748 best_b: -21.413420462254933, and the loss is: 1442.0851080976802\n",
      "When time is : 466, get best_k: 1.2095504682369749 best_b: -21.313420462254932, and the loss is: 1387.9660005246637\n",
      "When time is : 467, get best_k: 1.309550468236975 best_b: -21.21342046225493, and the loss is: 1334.9180648191168\n",
      "When time is : 468, get best_k: 1.409550468236975 best_b: -21.11342046225493, and the loss is: 1282.9413009810414\n",
      "When time is : 469, get best_k: 1.5095504682369751 best_b: -21.013420462254928, and the loss is: 1232.0357090104349\n",
      "When time is : 470, get best_k: 1.6095504682369752 best_b: -20.913420462254926, and the loss is: 1182.2012889073005\n",
      "When time is : 471, get best_k: 1.7095504682369753 best_b: -20.813420462254925, and the loss is: 1133.4380406716357\n",
      "When time is : 472, get best_k: 1.8095504682369754 best_b: -20.713420462254923, and the loss is: 1085.7459643034417\n",
      "When time is : 473, get best_k: 1.9095504682369755 best_b: -20.613420462254922, and the loss is: 1039.125059802716\n",
      "When time is : 474, get best_k: 2.0095504682369754 best_b: -20.51342046225492, and the loss is: 993.5753271694632\n",
      "When time is : 475, get best_k: 2.1095504682369755 best_b: -20.41342046225492, and the loss is: 949.0967664036796\n",
      "When time is : 476, get best_k: 2.2095504682369755 best_b: -20.313420462254918, and the loss is: 905.6893775053654\n",
      "When time is : 477, get best_k: 2.3095504682369756 best_b: -20.213420462254916, and the loss is: 863.3531604745231\n",
      "When time is : 478, get best_k: 2.4095504682369757 best_b: -20.113420462254915, and the loss is: 822.0881153111513\n",
      "When time is : 479, get best_k: 2.509550468236976 best_b: -20.013420462254913, and the loss is: 781.8942420152486\n",
      "When time is : 480, get best_k: 2.609550468236976 best_b: -19.913420462254912, and the loss is: 742.7715405868171\n",
      "When time is : 481, get best_k: 2.709550468236976 best_b: -19.81342046225491, and the loss is: 704.720011025856\n",
      "When time is : 482, get best_k: 2.809550468236976 best_b: -19.71342046225491, and the loss is: 667.7396533323645\n",
      "When time is : 483, get best_k: 2.909550468236976 best_b: -19.613420462254908, and the loss is: 631.8304675063442\n",
      "When time is : 484, get best_k: 3.0095504682369763 best_b: -19.513420462254906, and the loss is: 596.9924535477943\n",
      "When time is : 485, get best_k: 3.1095504682369763 best_b: -19.413420462254905, and the loss is: 563.225611456714\n",
      "When time is : 486, get best_k: 3.2095504682369764 best_b: -19.313420462254903, and the loss is: 530.5299412331053\n",
      "When time is : 487, get best_k: 3.3095504682369765 best_b: -19.213420462254902, and the loss is: 498.9054428769653\n",
      "When time is : 488, get best_k: 3.4095504682369766 best_b: -19.1134204622549, and the loss is: 468.35211638829696\n",
      "When time is : 489, get best_k: 3.5095504682369767 best_b: -19.0134204622549, and the loss is: 438.86996176709823\n",
      "When time is : 490, get best_k: 3.609550468236977 best_b: -18.913420462254898, and the loss is: 410.45897901337\n",
      "When time is : 491, get best_k: 3.709550468236977 best_b: -18.813420462254896, and the loss is: 383.1191681271125\n",
      "When time is : 492, get best_k: 3.809550468236977 best_b: -18.713420462254895, and the loss is: 356.85052910832485\n",
      "When time is : 493, get best_k: 3.909550468236977 best_b: -18.613420462254894, and the loss is: 331.65306195700765\n",
      "When time is : 494, get best_k: 4.009550468236977 best_b: -18.513420462254892, and the loss is: 307.52676667316126\n",
      "When time is : 495, get best_k: 4.109550468236977 best_b: -18.41342046225489, and the loss is: 284.47164325678506\n",
      "When time is : 496, get best_k: 4.209550468236976 best_b: -18.31342046225489, and the loss is: 262.4876917078795\n",
      "When time is : 497, get best_k: 4.309550468236976 best_b: -18.213420462254888, and the loss is: 241.5749120264439\n",
      "When time is : 498, get best_k: 4.409550468236976 best_b: -18.113420462254886, and the loss is: 221.73330421247874\n",
      "When time is : 499, get best_k: 4.509550468236975 best_b: -18.013420462254885, and the loss is: 202.962868265984\n",
      "When time is : 500, get best_k: 4.609550468236975 best_b: -17.913420462254884, and the loss is: 185.2636041869596\n",
      "When time is : 501, get best_k: 4.709550468236975 best_b: -17.813420462254882, and the loss is: 168.63551197540545\n",
      "When time is : 502, get best_k: 4.809550468236974 best_b: -17.71342046225488, and the loss is: 153.0785916313217\n",
      "When time is : 503, get best_k: 4.909550468236974 best_b: -17.61342046225488, and the loss is: 138.59284315470836\n",
      "When time is : 504, get best_k: 5.009550468236974 best_b: -17.513420462254878, and the loss is: 125.17826654556535\n",
      "When time is : 505, get best_k: 5.109550468236973 best_b: -17.413420462254876, and the loss is: 112.83486180389268\n",
      "When time is : 506, get best_k: 5.209550468236973 best_b: -17.313420462254875, and the loss is: 101.56262892969046\n",
      "When time is : 507, get best_k: 5.3095504682369725 best_b: -17.213420462254874, and the loss is: 91.36156792295853\n",
      "When time is : 508, get best_k: 5.409550468236972 best_b: -17.113420462254872, and the loss is: 82.23167878369692\n",
      "When time is : 509, get best_k: 5.509550468236972 best_b: -17.01342046225487, and the loss is: 74.17296151190554\n",
      "When time is : 510, get best_k: 5.6095504682369715 best_b: -16.91342046225487, and the loss is: 67.18541610758466\n",
      "When time is : 511, get best_k: 5.709550468236971 best_b: -16.813420462254868, and the loss is: 61.2690425707341\n",
      "When time is : 512, get best_k: 5.809550468236971 best_b: -16.713420462254867, and the loss is: 56.42384090135399\n",
      "When time is : 513, get best_k: 5.90955046823697 best_b: -16.613420462254865, and the loss is: 52.6498110994441\n",
      "When time is : 514, get best_k: 6.00955046823697 best_b: -16.513420462254864, and the loss is: 49.94695316500468\n",
      "When time is : 515, get best_k: 6.10955046823697 best_b: -16.413420462254862, and the loss is: 48.31526709803553\n",
      "When time is : 516, get best_k: 6.209550468236969 best_b: -16.31342046225486, and the loss is: 47.75475289853676\n"
     ]
    }
   ],
   "source": [
    "# 2nd-Method： direction adjusting\n",
    "trying_times = 5000\n",
    "\n",
    "min_loss = float('inf')\n",
    "\n",
    "best_k = random.random() * 200 - 100\n",
    "best_b = random.random() * 200 - 100\n",
    "\n",
    "direction = [\n",
    "    (+1, -1),  # first element: k's change direction, second element: b's change direction\n",
    "    (+1, +1), \n",
    "    (-1, -1), \n",
    "    (-1, +1),\n",
    "]\n",
    "\n",
    "next_direction = random.choice(direction)\n",
    "\n",
    "scalar = 0.1\n",
    "\n",
    "for i in range(trying_times):\n",
    "    \n",
    "    k_direction, b_direction = next_direction\n",
    "    \n",
    "    current_k, current_b = best_k + k_direction * scalar, best_b + b_direction * scalar\n",
    "    \n",
    "    price_by_k_and_b = [price(r, current_k, current_b) for r in X_rm]\n",
    "\n",
    "    current_loss = loss(Y, price_by_k_and_b)\n",
    "    \n",
    "    if current_loss < min_loss: # performance became better\n",
    "        min_loss = current_loss\n",
    "        best_k, best_b = current_k, current_b\n",
    "        \n",
    "        next_direction = next_direction\n",
    "        print('When time is : {}, get best_k: {} best_b: {}, and the loss is: {}'.format(i, best_k, best_b, min_loss))\n",
    "    else:\n",
    "        next_direction = random.choice(direction)"
   ]
  },
  {
   "cell_type": "code",
   "execution_count": 66,
   "metadata": {},
   "outputs": [
    {
     "data": {
      "text/plain": [
       "2.0"
      ]
     },
     "execution_count": 66,
     "metadata": {},
     "output_type": "execute_result"
    }
   ],
   "source": [
    "loss([1, 1, 1], [2, 2, 3])"
   ]
  },
  {
   "cell_type": "code",
   "execution_count": 73,
   "metadata": {},
   "outputs": [
    {
     "data": {
      "text/plain": [
       "<matplotlib.collections.PathCollection at 0x11391c438>"
      ]
     },
     "execution_count": 73,
     "metadata": {},
     "output_type": "execute_result"
    },
    {
     "data": {
      "image/png": "[encoded data removed]",
      "text/plain": [
       "<matplotlib.figure.Figure at 0x1138d6978>"
      ]
     },
     "metadata": {},
     "output_type": "display_data"
    }
   ],
   "source": [
    "X_rm = X[:, 5]\n",
    "k = 6\n",
    "b = -16\n",
    "price_by_random_k_and_b = [price(r, k, b) for r in X_rm]\n",
    "\n",
    "draw_rm_and_price()\n",
    "plt.scatter(X_rm, price_by_random_k_and_b)"
   ]
  },
  {
   "cell_type": "markdown",
   "metadata": {
    "collapsed": true
   },
   "source": [
    "$$ loss = \\frac{1}{n} \\sum{(y_i - \\hat{y_i})}$$"
   ]
  },
  {
   "cell_type": "code",
   "execution_count": null,
   "metadata": {
    "collapsed": true
   },
   "outputs": [],
   "source": []
  }
 ],
 "metadata": {
  "kernelspec": {
   "display_name": "Python 3",
   "language": "python",
   "name": "python3"
  },
  "language_info": {
   "codemirror_mode": {
    "name": "ipython",
    "version": 3
   },
   "file_extension": ".py",
   "mimetype": "text/x-python",
   "name": "python",
   "nbconvert_exporter": "python",
   "pygments_lexer": "ipython3",
   "version": "3.6.1"
  }
 },
 "nbformat": 4,
 "nbformat_minor": 2
}
