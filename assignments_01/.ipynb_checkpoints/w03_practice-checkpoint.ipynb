{
 "cells": [
  {
   "cell_type": "code",
   "execution_count": 3,
   "metadata": {
    "collapsed": true
   },
   "outputs": [],
   "source": [
    "human = \"\"\"\n",
    "human = 自己 寻找 活动\n",
    "自己 = 我 | 俺 | 我们 \n",
    "寻找 = 看看 | 找找 | 想找点\n",
    "活动 = 乐子 | 玩的\n",
    "\"\"\""
   ]
  },
  {
   "cell_type": "code",
   "execution_count": 4,
   "metadata": {
    "collapsed": true
   },
   "outputs": [],
   "source": [
    "host = \"\"\"\n",
    "host = 寒暄 报数 询问 业务相关 结尾 \n",
    "报数 = 我是 数字 号 ,\n",
    "数字 = 单个数字 | 数字 单个数字 \n",
    "单个数字 = 1 | 2 | 3 | 4 | 5 | 6 | 7 | 8 | 9 \n",
    "寒暄 = 称谓 打招呼 | 打招呼\n",
    "称谓 = 人称 ,\n",
    "人称 = 先生 | 女士 | 小朋友\n",
    "打招呼 = 你好 | 您好 \n",
    "询问 = 请问你要 | 您需要\n",
    "业务相关 = 玩玩 具体业务\n",
    "玩玩 = 耍一耍 | 玩一玩\n",
    "具体业务 = 喝酒 | 打牌 | 打猎 | 赌博\n",
    "结尾 = 吗？\"\"\""
   ]
  },
  {
   "cell_type": "code",
   "execution_count": 5,
   "metadata": {
    "collapsed": true
   },
   "outputs": [],
   "source": [
    "def create_grammar(grammar_str, split='=>', line_split='\\n'):\n",
    "    grammar = {}\n",
    "    for line in grammar_str.split(line_split):\n",
    "        if not line.strip(): continue\n",
    "        exp, stmt = line.split(split)\n",
    "        grammar[exp.strip()] = [s.split() for s in stmt.split('|')]\n",
    "    return grammar"
   ]
  },
  {
   "cell_type": "code",
   "execution_count": 7,
   "metadata": {},
   "outputs": [],
   "source": [
    "import random\n",
    "choice = random.choice\n",
    "\n",
    "def generate(gram, target):\n",
    "    if target not in gram: return target # means target is a terminal expression\n",
    "    \n",
    "    expaned = [generate(gram, t) for t in choice(gram[target])]\n",
    "    return ''.join([e if e != '/n' else '\\n' for e in expaned if e != 'null'])"
   ]
  },
  {
   "cell_type": "code",
   "execution_count": 8,
   "metadata": {},
   "outputs": [
    {
     "data": {
      "text/plain": [
       "{'human': [['自己', '寻找', '活动']],\n",
       " '寻找': [['看看'], ['找找'], ['想找点']],\n",
       " '活动': [['乐子'], ['玩的']],\n",
       " '自己': [['我'], ['俺'], ['我们']]}"
      ]
     },
     "execution_count": 8,
     "metadata": {},
     "output_type": "execute_result"
    }
   ],
   "source": [
    "create_grammar(human, '=', '\\n')"
   ]
  },
  {
   "cell_type": "code",
   "execution_count": 9,
   "metadata": {},
   "outputs": [
    {
     "data": {
      "text/plain": [
       "{'host': [['寒暄', '报数', '询问', '业务相关', '结尾']],\n",
       " '业务相关': [['玩玩', '具体业务']],\n",
       " '人称': [['先生'], ['女士'], ['小朋友']],\n",
       " '具体业务': [['喝酒'], ['打牌'], ['打猎'], ['赌博']],\n",
       " '单个数字': [['1'], ['2'], ['3'], ['4'], ['5'], ['6'], ['7'], ['8'], ['9']],\n",
       " '寒暄': [['称谓', '打招呼'], ['打招呼']],\n",
       " '打招呼': [['你好'], ['您好']],\n",
       " '报数': [['我是', '数字', '号', ',']],\n",
       " '数字': [['单个数字'], ['数字', '单个数字']],\n",
       " '玩玩': [['耍一耍'], ['玩一玩']],\n",
       " '称谓': [['人称', ',']],\n",
       " '结尾': [['吗？']],\n",
       " '询问': [['请问你要'], ['您需要']]}"
      ]
     },
     "execution_count": 9,
     "metadata": {},
     "output_type": "execute_result"
    }
   ],
   "source": [
    "create_grammar(host, '=', '\\n')"
   ]
  },
  {
   "cell_type": "code",
   "execution_count": 12,
   "metadata": {},
   "outputs": [
    {
     "data": {
      "text/plain": [
       "'您好我是7号,您需要耍一耍喝酒吗？'"
      ]
     },
     "execution_count": 12,
     "metadata": {},
     "output_type": "execute_result"
    }
   ],
   "source": [
    "generate(create_grammar(host, '=', '\\n'), 'host')"
   ]
  },
  {
   "cell_type": "code",
   "execution_count": 47,
   "metadata": {},
   "outputs": [
    {
     "data": {
      "text/plain": [
       "'我想找点玩的'"
      ]
     },
     "execution_count": 47,
     "metadata": {},
     "output_type": "execute_result"
    }
   ],
   "source": [
    "generate(create_grammar(human, '=', '\\n'), 'human')"
   ]
  },
  {
   "cell_type": "code",
   "execution_count": 13,
   "metadata": {
    "collapsed": true
   },
   "outputs": [],
   "source": [
    "def cut(string): return list(jieba.cut(string))"
   ]
  },
  {
   "cell_type": "code",
   "execution_count": 14,
   "metadata": {},
   "outputs": [
    {
     "name": "stdout",
     "output_type": "stream",
     "text": [
      "article_9k.txt                 w03_practice.ipynb\r\n",
      "moive_comments.csv             w04_option_pattern_match.ipynb\r\n",
      "train.txt                      ~$论文阅读笔记.docx\r\n",
      "w01_ans.ipynb                  论文阅读笔记.docx\r\n",
      "w02_class_code.ipynb\r\n"
     ]
    }
   ],
   "source": [
    "!ls"
   ]
  },
  {
   "cell_type": "code",
   "execution_count": 38,
   "metadata": {},
   "outputs": [
    {
     "name": "stdout",
     "output_type": "stream",
     "text": [
      "0\n",
      "100\n",
      "200\n",
      "300\n",
      "400\n",
      "500\n",
      "600\n",
      "700\n",
      "800\n",
      "900\n",
      "1000\n",
      "1100\n",
      "1200\n",
      "1300\n",
      "1400\n",
      "1500\n",
      "1600\n",
      "1700\n",
      "1800\n",
      "1900\n",
      "2000\n",
      "2100\n",
      "2200\n",
      "2300\n",
      "2400\n",
      "2500\n",
      "2600\n",
      "2700\n",
      "2800\n",
      "2900\n",
      "3000\n",
      "3100\n",
      "3200\n",
      "3300\n",
      "3400\n",
      "3500\n",
      "3600\n",
      "3700\n",
      "3800\n",
      "3900\n",
      "4000\n",
      "4100\n",
      "4200\n",
      "4300\n",
      "4400\n",
      "4500\n",
      "4600\n",
      "4700\n",
      "4800\n",
      "4900\n",
      "5000\n",
      "5100\n",
      "5200\n",
      "5300\n",
      "5400\n",
      "5500\n",
      "5600\n",
      "5700\n",
      "5800\n",
      "5900\n",
      "6000\n",
      "6100\n",
      "6200\n",
      "6300\n",
      "6400\n",
      "6500\n",
      "6600\n",
      "6700\n",
      "6800\n",
      "6900\n",
      "7000\n",
      "7100\n",
      "7200\n",
      "7300\n",
      "7400\n",
      "7500\n",
      "7600\n",
      "7700\n",
      "7800\n",
      "7900\n",
      "8000\n",
      "8100\n",
      "8200\n",
      "8300\n",
      "8400\n",
      "8500\n",
      "8600\n",
      "8700\n",
      "8800\n",
      "8900\n",
      "9000\n",
      "9100\n",
      "9200\n",
      "9300\n",
      "9400\n",
      "9500\n",
      "9600\n",
      "9700\n",
      "9800\n",
      "9900\n",
      "10000\n",
      "10100\n",
      "10200\n",
      "10300\n",
      "10400\n",
      "10500\n",
      "10600\n",
      "10700\n",
      "10800\n",
      "10900\n",
      "11000\n",
      "11100\n",
      "11200\n",
      "11300\n",
      "11400\n",
      "11500\n",
      "11600\n",
      "11700\n",
      "11800\n",
      "11900\n",
      "12000\n",
      "12100\n",
      "12200\n",
      "12300\n",
      "12400\n",
      "12500\n",
      "12600\n",
      "12700\n",
      "12800\n"
     ]
    }
   ],
   "source": [
    "from functools import reduce\n",
    "from operator import add, mul\n",
    "from collections import Counter\n",
    "import jieba\n",
    "import re\n",
    "\n",
    "TOKEN = []\n",
    "for i, line in enumerate(open('train.txt')):\n",
    "    if i % 100 == 0: print(i)\n",
    "    if i > 50000: break    \n",
    "    line = re.sub(r'[^\\w\\s]','',line)\n",
    "    line = line.replace('\\n', '')\n",
    "    TOKEN += cut(line)"
   ]
  },
  {
   "cell_type": "code",
   "execution_count": 39,
   "metadata": {
    "collapsed": true
   },
   "outputs": [],
   "source": [
    "words_count = Counter(TOKEN)"
   ]
  },
  {
   "cell_type": "code",
   "execution_count": 40,
   "metadata": {
    "scrolled": false
   },
   "outputs": [
    {
     "data": {
      "text/plain": [
       "[(' ', 241272),\n",
       " ('Insurance', 10011),\n",
       " ('保险', 5013),\n",
       " ('Is', 3554),\n",
       " ('Life', 3358),\n",
       " ('Does', 3330),\n",
       " ('lifeinsurance', 3328),\n",
       " ('的', 3220),\n",
       " ('人寿保险', 2962),\n",
       " ('What', 2857),\n",
       " ('How', 2679),\n",
       " ('什么', 2677),\n",
       " ('A', 2603),\n",
       " ('吗', 2479),\n",
       " ('是', 2347),\n",
       " ('Can', 2113),\n",
       " ('我', 2054),\n",
       " ('是否', 1862),\n",
       " ('I', 1787),\n",
       " ('medicareinsurance', 1770),\n",
       " ('To', 1736),\n",
       " ('For', 1708),\n",
       " ('可以', 1704),\n",
       " ('autoinsurance', 1659),\n",
       " ('Medicare', 1659),\n",
       " ('Health', 1543),\n",
       " ('healthinsurance', 1542),\n",
       " ('健康', 1513),\n",
       " ('Cover', 1378),\n",
       " ('homeinsurance', 1340),\n",
       " ('如何', 1294),\n",
       " ('医疗保险', 1269),\n",
       " ('多少', 1252),\n",
       " ('The', 1243),\n",
       " ('汽车保险', 1189),\n",
       " ('Much', 1050),\n",
       " ('You', 1043),\n",
       " ('Car', 1023),\n",
       " ('Get', 985),\n",
       " ('In', 924),\n",
       " ('Term', 914),\n",
       " ('在', 913),\n",
       " ('覆盖', 848),\n",
       " ('Do', 837),\n",
       " ('你', 827),\n",
       " ('Renters', 803),\n",
       " ('rentersinsurance', 800),\n",
       " ('When', 781),\n",
       " ('My', 776),\n",
       " ('有', 775),\n",
       " ('Disability', 772),\n",
       " ('Homeowners', 770),\n",
       " ('disabilityinsurance', 751),\n",
       " ('Long', 729),\n",
       " ('残疾', 724),\n",
       " ('房主', 714),\n",
       " ('Auto', 639),\n",
       " ('Home', 620),\n",
       " ('需要', 612),\n",
       " ('annuities', 611),\n",
       " ('Of', 600),\n",
       " ('计划', 594),\n",
       " ('获得', 578),\n",
       " ('Why', 576),\n",
       " ('年', 572),\n",
       " ('为什么', 572),\n",
       " ('Have', 561),\n",
       " ('家庭', 561),\n",
       " ('Who', 558),\n",
       " ('On', 556),\n",
       " ('谁', 554),\n",
       " ('Will', 538),\n",
       " ('长期', 536),\n",
       " ('支付', 532),\n",
       " ('retirementplans', 525),\n",
       " ('Medigap', 521),\n",
       " ('Pay', 518),\n",
       " ('Plan', 507),\n",
       " ('金', 494),\n",
       " ('Care', 493),\n",
       " ('Are', 489),\n",
       " ('Annuities', 480),\n",
       " ('护理', 479),\n",
       " ('Should', 478),\n",
       " ('Policy', 465),\n",
       " ('Cost', 458),\n",
       " ('涵盖', 449),\n",
       " ('longtermcareinsurance', 427),\n",
       " ('Best', 418),\n",
       " ('Buy', 407),\n",
       " ('退休', 394),\n",
       " ('Retirement', 386),\n",
       " ('Be', 383),\n",
       " ('Need', 357),\n",
       " ('购买', 357),\n",
       " ('应该', 344),\n",
       " ('An', 338),\n",
       " ('It', 333),\n",
       " ('得到', 304),\n",
       " ('租客', 287)]"
      ]
     },
     "execution_count": 40,
     "metadata": {},
     "output_type": "execute_result"
    }
   ],
   "source": [
    "words_count.most_common(100)"
   ]
  },
  {
   "cell_type": "code",
   "execution_count": 51,
   "metadata": {
    "collapsed": true
   },
   "outputs": [],
   "source": [
    "TOKEN = [str(t) for t in TOKEN]"
   ]
  },
  {
   "cell_type": "code",
   "execution_count": 52,
   "metadata": {
    "collapsed": true
   },
   "outputs": [],
   "source": [
    "TOKEN_2_GRAM = [''.join(TOKEN[i:i+2]) for i in range(len(TOKEN[:-2]))]"
   ]
  },
  {
   "cell_type": "code",
   "execution_count": 53,
   "metadata": {
    "collapsed": true
   },
   "outputs": [],
   "source": [
    "words_count_2 = Counter(TOKEN_2_GRAM)"
   ]
  },
  {
   "cell_type": "code",
   "execution_count": 54,
   "metadata": {
    "collapsed": true
   },
   "outputs": [],
   "source": [
    "def prob_word(word):\n",
    "    return words_count[word] / len(TOKEN)"
   ]
  },
  {
   "cell_type": "code",
   "execution_count": 55,
   "metadata": {
    "collapsed": true
   },
   "outputs": [],
   "source": [
    "def prob_2_word(word1, word2):\n",
    "    if word1 + word2 in words_count_2: \n",
    "        return words_count_2[word1+word2] / len(TOKEN_2_GRAM)\n",
    "    else:\n",
    "        return 1 / len(TOKEN_2_GRAM)"
   ]
  },
  {
   "cell_type": "code",
   "execution_count": 56,
   "metadata": {
    "collapsed": true
   },
   "outputs": [],
   "source": [
    "def get_probablity(sentence):\n",
    "    words = cut(sentence)\n",
    "    \n",
    "    sentence_pro = 1\n",
    "    \n",
    "    for i, word in enumerate(words[:-1]):\n",
    "        next_ = words[i+1]\n",
    "        \n",
    "        probability = prob_2_word(word, next_)\n",
    "        \n",
    "        sentence_pro *= probability\n",
    "    \n",
    "    return sentence_pro"
   ]
  },
  {
   "cell_type": "code",
   "execution_count": 63,
   "metadata": {
    "collapsed": true
   },
   "outputs": [],
   "source": [
    "def generate_n(n):\n",
    "    hosts = []\n",
    "    for i in range(n):\n",
    "        sentence = generate(create_grammar(host, '=', '\\n'), 'host')\n",
    "        hosts.append((get_probablity(sentence), sentence))\n",
    "    hosts = sorted(hosts, key=lambda x: x[0])\n",
    "    return hosts"
   ]
  },
  {
   "cell_type": "code",
   "execution_count": 64,
   "metadata": {},
   "outputs": [
    {
     "data": {
      "text/plain": [
       "[(1.1386700305498358e-77, '女士,您好我是9号,您需要耍一耍喝酒吗？'),\n",
       " (1.8148909664378932e-72, '你好我是27号,请问你要玩一玩打猎吗？'),\n",
       " (1.8148909664378932e-72, '您好我是12161号,请问你要玩一玩喝酒吗？'),\n",
       " (1.8148909664378932e-72, '你好我是797号,请问你要耍一耍喝酒吗？'),\n",
       " (4.990950157704207e-72, '女士,您好我是587262号,您需要玩一玩打猎吗？'),\n",
       " (4.990950157704207e-72, '女士,您好我是18号,您需要玩一玩打牌吗？'),\n",
       " (2.1876033274239619e-66, '你好我是565号,您需要耍一耍打牌吗？'),\n",
       " (2.1876033274239619e-66, '您好我是9号,您需要耍一耍喝酒吗？'),\n",
       " (2.1876033274239619e-66, '您好我是3号,您需要耍一耍赌博吗？'),\n",
       " (2.1876033274239619e-66, '你好我是6号,您需要耍一耍打牌吗？')]"
      ]
     },
     "execution_count": 64,
     "metadata": {},
     "output_type": "execute_result"
    }
   ],
   "source": [
    "generate_n(10)"
   ]
  },
  {
   "cell_type": "code",
   "execution_count": null,
   "metadata": {
    "collapsed": true
   },
   "outputs": [],
   "source": []
  }
 ],
 "metadata": {
  "kernelspec": {
   "display_name": "Python 3",
   "language": "python",
   "name": "python3"
  },
  "language_info": {
   "codemirror_mode": {
    "name": "ipython",
    "version": 3
   },
   "file_extension": ".py",
   "mimetype": "text/x-python",
   "name": "python",
   "nbconvert_exporter": "python",
   "pygments_lexer": "ipython3",
   "version": "3.6.1"
  }
 },
 "nbformat": 4,
 "nbformat_minor": 2
}
