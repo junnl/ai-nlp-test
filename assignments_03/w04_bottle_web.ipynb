{
 "cells": [
  {
   "cell_type": "code",
   "execution_count": 1,
   "metadata": {},
   "outputs": [
    {
     "name": "stdout",
     "output_type": "stream",
     "text": [
      "Collecting bottle\n",
      "\u001b[?25l  Downloading https://files.pythonhosted.org/packages/69/d1/efdd0a5584169cdf791d726264089ce5d96846a8978c44ac6e13ae234327/bottle-0.12.17-py3-none-any.whl (89kB)\n",
      "\u001b[K    100% |████████████████████████████████| 92kB 71kB/s ta 0:00:0101\n",
      "\u001b[31mintervaltree 3.0.2 has requirement sortedcontainers<3.0,>=2.0, but you'll have sortedcontainers 1.5.7 which is incompatible.\u001b[0m\n",
      "\u001b[?25hInstalling collected packages: bottle\n",
      "Successfully installed bottle-0.12.17\n",
      "\u001b[33mYou are using pip version 10.0.1, however version 19.1.1 is available.\n",
      "You should consider upgrading via the 'pip install --upgrade pip' command.\u001b[0m\n"
     ]
    }
   ],
   "source": [
    "!pip install bottle "
   ]
  },
  {
   "cell_type": "code",
   "execution_count": 4,
   "metadata": {},
   "outputs": [
    {
     "name": "stderr",
     "output_type": "stream",
     "text": [
      "Bottle v0.12.17 server starting up (using WSGIRefServer())...\n",
      "Listening on http://localhost:8080/\n",
      "Hit Ctrl-C to quit.\n",
      "\n",
      "127.0.0.1 - - [24/Jul/2019 08:59:19] \"GET / HTTP/1.1\" 404 720\n",
      "127.0.0.1 - - [24/Jul/2019 08:59:20] \"GET /favicon.ico HTTP/1.1\" 404 742\n",
      "127.0.0.1 - - [24/Jul/2019 08:59:33] \"GET / HTTP/1.1\" 404 720\n",
      "127.0.0.1 - - [24/Jul/2019 08:59:41] \"GET / HTTP/1.1\" 404 720\n",
      "127.0.0.1 - - [24/Jul/2019 09:00:05] \"GET / HTTP/1.1\" 404 720\n",
      "127.0.0.1 - - [24/Jul/2019 09:00:05] \"GET /favicon.ico HTTP/1.1\" 404 742\n",
      "127.0.0.1 - - [24/Jul/2019 09:00:18] \"GET / HTTP/1.1\" 404 720\n",
      "127.0.0.1 - - [24/Jul/2019 09:00:57] \"GET /hello/junl HTTP/1.1\" 200 18\n"
     ]
    }
   ],
   "source": [
    "from bottle import route, run, template\n",
    "\n",
    "@route('/hello/<name>')\n",
    "def index(name):\n",
    "    return template('<b>Hello {{name}}</b>!', name=name)\n",
    "\n",
    "run(host='localhost', port=8080)"
   ]
  },
  {
   "cell_type": "markdown",
   "metadata": {
    "collapsed": true
   },
   "source": [
    "点击访问http://localhost:8080/hello/junl"
   ]
  }
 ],
 "metadata": {
  "kernelspec": {
   "display_name": "Python 3",
   "language": "python",
   "name": "python3"
  },
  "language_info": {
   "codemirror_mode": {
    "name": "ipython",
    "version": 3
   },
   "file_extension": ".py",
   "mimetype": "text/x-python",
   "name": "python",
   "nbconvert_exporter": "python",
   "pygments_lexer": "ipython3",
   "version": "3.6.1"
  }
 },
 "nbformat": 4,
 "nbformat_minor": 2
}
