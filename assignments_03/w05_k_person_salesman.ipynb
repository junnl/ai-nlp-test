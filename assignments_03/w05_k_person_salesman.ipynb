{
 "cells": [
  {
   "cell_type": "code",
   "execution_count": 5,
   "metadata": {
    "collapsed": true
   },
   "outputs": [],
   "source": [
    "%matplotlib inline\n",
    "import random\n",
    "import matplotlib.pylab as plt"
   ]
  },
  {
   "cell_type": "code",
   "execution_count": 46,
   "metadata": {
    "collapsed": true
   },
   "outputs": [],
   "source": [
    "latitudes = [random.randint(-100, 100) for _ in range(5)]\n",
    "longitude = [random.randint(-100, 100) for _ in range(5)]"
   ]
  },
  {
   "cell_type": "code",
   "execution_count": 73,
   "metadata": {
    "scrolled": true
   },
   "outputs": [
    {
     "data": {
      "text/plain": [
       "<matplotlib.collections.PathCollection at 0x117e5df60>"
      ]
     },
     "execution_count": 73,
     "metadata": {},
     "output_type": "execute_result"
    },
    {
     "data": {
      "image/png": "[encoded data removed]",
      "text/plain": [
       "<matplotlib.figure.Figure at 0x117eb44e0>"
      ]
     },
     "metadata": {},
     "output_type": "display_data"
    }
   ],
   "source": [
    "plt.scatter(latitudes, longitude)"
   ]
  },
  {
   "cell_type": "code",
   "execution_count": 131,
   "metadata": {},
   "outputs": [
    {
     "data": {
      "text/plain": [
       "[(58, -35), (-17, 42), (45, -90), (65, 5), (-70, 12)]"
      ]
     },
     "execution_count": 131,
     "metadata": {},
     "output_type": "execute_result"
    }
   ],
   "source": [
    "points = [(i, j) for i, j in zip(latitudes, longitude)]\n",
    "points "
   ]
  },
  {
   "cell_type": "code",
   "execution_count": 134,
   "metadata": {},
   "outputs": [
    {
     "data": {
      "text/plain": [
       "((58, -35), (-17, 42), (45, -90), (65, 5), (-70, 12))"
      ]
     },
     "execution_count": 134,
     "metadata": {},
     "output_type": "execute_result"
    }
   ],
   "source": [
    "points = tuple(points)\n",
    "points    "
   ]
  },
  {
   "cell_type": "code",
   "execution_count": 135,
   "metadata": {
    "collapsed": true
   },
   "outputs": [],
   "source": [
    "import numpy as np\n",
    "def dis(a, b):\n",
    "    return np.sqrt((a[0]-b[0])**2+(a[1]-b[1])**2)"
   ]
  },
  {
   "cell_type": "markdown",
   "metadata": {},
   "source": [
    "##  一、暴力法"
   ]
  },
  {
   "cell_type": "code",
   "execution_count": 136,
   "metadata": {},
   "outputs": [
    {
     "name": "stdout",
     "output_type": "stream",
     "text": [
      "生成排列\n"
     ]
    },
    {
     "data": {
      "text/plain": [
       "[((-17, 42), (45, -90), (65, 5), (-70, 12)),\n",
       " ((-17, 42), (45, -90), (-70, 12), (65, 5)),\n",
       " ((-17, 42), (65, 5), (45, -90), (-70, 12)),\n",
       " ((-17, 42), (65, 5), (-70, 12), (45, -90)),\n",
       " ((-17, 42), (-70, 12), (45, -90), (65, 5)),\n",
       " ((-17, 42), (-70, 12), (65, 5), (45, -90)),\n",
       " ((45, -90), (-17, 42), (65, 5), (-70, 12)),\n",
       " ((45, -90), (-17, 42), (-70, 12), (65, 5)),\n",
       " ((45, -90), (65, 5), (-17, 42), (-70, 12)),\n",
       " ((45, -90), (65, 5), (-70, 12), (-17, 42)),\n",
       " ((45, -90), (-70, 12), (-17, 42), (65, 5)),\n",
       " ((45, -90), (-70, 12), (65, 5), (-17, 42)),\n",
       " ((65, 5), (-17, 42), (45, -90), (-70, 12)),\n",
       " ((65, 5), (-17, 42), (-70, 12), (45, -90)),\n",
       " ((65, 5), (45, -90), (-17, 42), (-70, 12)),\n",
       " ((65, 5), (45, -90), (-70, 12), (-17, 42)),\n",
       " ((65, 5), (-70, 12), (-17, 42), (45, -90)),\n",
       " ((65, 5), (-70, 12), (45, -90), (-17, 42)),\n",
       " ((-70, 12), (-17, 42), (45, -90), (65, 5)),\n",
       " ((-70, 12), (-17, 42), (65, 5), (45, -90)),\n",
       " ((-70, 12), (45, -90), (-17, 42), (65, 5)),\n",
       " ((-70, 12), (45, -90), (65, 5), (-17, 42)),\n",
       " ((-70, 12), (65, 5), (-17, 42), (45, -90)),\n",
       " ((-70, 12), (65, 5), (45, -90), (-17, 42))]"
      ]
     },
     "execution_count": 136,
     "metadata": {},
     "output_type": "execute_result"
    }
   ],
   "source": [
    "\n",
    "import itertools\n",
    "print('生成排列')\n",
    "all = [i for i in itertools.permutations(points[1:], len(points[1:]))]\n",
    "all"
   ]
  },
  {
   "cell_type": "code",
   "execution_count": 137,
   "metadata": {},
   "outputs": [
    {
     "data": {
      "text/plain": [
       "[[(58, -35), (-17, 42), (45, -90), (65, 5), (-70, 12)],\n",
       " [(58, -35), (-17, 42), (45, -90), (-70, 12), (65, 5)],\n",
       " [(58, -35), (-17, 42), (65, 5), (45, -90), (-70, 12)],\n",
       " [(58, -35), (-17, 42), (65, 5), (-70, 12), (45, -90)],\n",
       " [(58, -35), (-17, 42), (-70, 12), (45, -90), (65, 5)],\n",
       " [(58, -35), (-17, 42), (-70, 12), (65, 5), (45, -90)],\n",
       " [(58, -35), (45, -90), (-17, 42), (65, 5), (-70, 12)],\n",
       " [(58, -35), (45, -90), (-17, 42), (-70, 12), (65, 5)],\n",
       " [(58, -35), (45, -90), (65, 5), (-17, 42), (-70, 12)],\n",
       " [(58, -35), (45, -90), (65, 5), (-70, 12), (-17, 42)],\n",
       " [(58, -35), (45, -90), (-70, 12), (-17, 42), (65, 5)],\n",
       " [(58, -35), (45, -90), (-70, 12), (65, 5), (-17, 42)],\n",
       " [(58, -35), (65, 5), (-17, 42), (45, -90), (-70, 12)],\n",
       " [(58, -35), (65, 5), (-17, 42), (-70, 12), (45, -90)],\n",
       " [(58, -35), (65, 5), (45, -90), (-17, 42), (-70, 12)],\n",
       " [(58, -35), (65, 5), (45, -90), (-70, 12), (-17, 42)],\n",
       " [(58, -35), (65, 5), (-70, 12), (-17, 42), (45, -90)],\n",
       " [(58, -35), (65, 5), (-70, 12), (45, -90), (-17, 42)],\n",
       " [(58, -35), (-70, 12), (-17, 42), (45, -90), (65, 5)],\n",
       " [(58, -35), (-70, 12), (-17, 42), (65, 5), (45, -90)],\n",
       " [(58, -35), (-70, 12), (45, -90), (-17, 42), (65, 5)],\n",
       " [(58, -35), (-70, 12), (45, -90), (65, 5), (-17, 42)],\n",
       " [(58, -35), (-70, 12), (65, 5), (-17, 42), (45, -90)],\n",
       " [(58, -35), (-70, 12), (65, 5), (45, -90), (-17, 42)]]"
      ]
     },
     "execution_count": 137,
     "metadata": {},
     "output_type": "execute_result"
    }
   ],
   "source": [
    "# 插入起始点\n",
    "all_l = []\n",
    "for i in all:\n",
    "    a = list(i)\n",
    "    a.insert(0, points[0])\n",
    "    all_l.append(a)\n",
    "all_l"
   ]
  },
  {
   "cell_type": "code",
   "execution_count": 138,
   "metadata": {},
   "outputs": [
    {
     "data": {
      "text/plain": [
       "[(58, -35), (45, -90), (65, 5), (-17, 42), (-70, 12)]"
      ]
     },
     "execution_count": 138,
     "metadata": {},
     "output_type": "execute_result"
    }
   ],
   "source": [
    "def get_distance(l):\n",
    "    if len(l) ==0:\n",
    "        return None\n",
    "    distance = 0\n",
    "    for i in range(len(l) - 1):\n",
    "        distance += dis(l[i], l[i + 1])\n",
    "    return distance\n",
    "ret = sorted(all_l, key=get_distance)[0]\n",
    "ret"
   ]
  },
  {
   "cell_type": "code",
   "execution_count": 139,
   "metadata": {},
   "outputs": [
    {
     "data": {
      "text/plain": [
       "[<matplotlib.lines.Line2D at 0x118597588>]"
      ]
     },
     "execution_count": 139,
     "metadata": {},
     "output_type": "execute_result"
    },
    {
     "data": {
      "image/png": "[encoded data removed]",
      "text/plain": [
       "<matplotlib.figure.Figure at 0x1185137b8>"
      ]
     },
     "metadata": {},
     "output_type": "display_data"
    }
   ],
   "source": [
    "fig = plt.figure()\n",
    "ax1 = fig.add_subplot(1, 1, 1)\n",
    "x = np.array([i for i,j in ret])\n",
    "y = np.array([j for i,j in ret])\n",
    "ax1.plot(x, y, 'm.-.', linewidth=1)"
   ]
  },
  {
   "cell_type": "code",
   "execution_count": 140,
   "metadata": {
    "collapsed": true
   },
   "outputs": [],
   "source": [
    "# 时间复杂度n!  问题：点多了就会死"
   ]
  },
  {
   "cell_type": "markdown",
   "metadata": {
    "collapsed": true
   },
   "source": [
    "## 二、动态规划法"
   ]
  },
  {
   "cell_type": "code",
   "execution_count": 191,
   "metadata": {
    "collapsed": true
   },
   "outputs": [],
   "source": [
    "from collections import defaultdict\n",
    "from functools import wraps\n",
    "def memo(f): \n",
    "    memo.already_computed = defaultdict(int)\n",
    "    @wraps(f)\n",
    "    def _wrap(arg1, arg2):\n",
    "        result = None\n",
    "        arg = arg1 + arg2\n",
    "        if arg in memo.already_computed: \n",
    "            result = memo.already_computed[arg]\n",
    "        else:\n",
    "            result = f(arg1, arg2)\n",
    "            memo.already_computed[arg] = result\n",
    "        \n",
    "        return result\n",
    "    \n",
    "    return _wrap"
   ]
  },
  {
   "cell_type": "code",
   "execution_count": 195,
   "metadata": {},
   "outputs": [],
   "source": [
    "solution = {}\n",
    "memo.already_computed = defaultdict(int)\n",
    "@memo\n",
    "def r(alr, lat):\n",
    "    if len(lat) == 1:\n",
    "        paths = [(get_distance(alr + lat), alr + lat)]\n",
    "    else:\n",
    "        # 分解为 当前已经计算 和 还未计算\n",
    "        paths = [(r(alr + (i,), tuple([j for j in lat if i != j])), alr + (i,)) for i in lat]\n",
    "    min_dis = min(paths, key=lambda x: x[0])\n",
    "    solution[min_dis[1]] = min_dis\n",
    "    \n",
    "    return min_dis[0]"
   ]
  },
  {
   "cell_type": "code",
   "execution_count": 196,
   "metadata": {},
   "outputs": [
    {
     "data": {
      "text/plain": [
       "304.46058641841586"
      ]
     },
     "execution_count": 196,
     "metadata": {},
     "output_type": "execute_result"
    }
   ],
   "source": [
    "r((points[0],), points[1:])"
   ]
  },
  {
   "cell_type": "code",
   "execution_count": 197,
   "metadata": {},
   "outputs": [
    {
     "data": {
      "text/plain": [
       "{((58, -35), (-70, 12), (-17, 42)): (384.30125312435945,\n",
       "  ((58, -35), (-70, 12), (-17, 42))),\n",
       " ((58, -35), (-70, 12), (-17, 42), (45, -90), (65, 5)): (440.17567421187431,\n",
       "  ((58, -35), (-70, 12), (-17, 42), (45, -90), (65, 5))),\n",
       " ((58, -35), (-70, 12), (-17, 42), (65, 5)): (384.30125312435945,\n",
       "  ((58, -35), (-70, 12), (-17, 42), (65, 5))),\n",
       " ((58, -35), (-70, 12), (-17, 42), (65, 5), (45, -90)): (384.30125312435945,\n",
       "  ((58, -35), (-70, 12), (-17, 42), (65, 5), (45, -90))),\n",
       " ((58, -35), (-70, 12), (45, -90), (-17, 42), (65, 5)): (525.87005074799481,\n",
       "  ((58, -35), (-70, 12), (45, -90), (-17, 42), (65, 5))),\n",
       " ((58, -35), (-70, 12), (45, -90), (65, 5)): (477.11696614965967,\n",
       "  ((58, -35), (-70, 12), (45, -90), (65, 5))),\n",
       " ((58, -35), (-70, 12), (45, -90), (65, 5), (-17, 42)): (477.11696614965967,\n",
       "  ((58, -35), (-70, 12), (45, -90), (65, 5), (-17, 42))),\n",
       " ((58, -35), (-70, 12), (65, 5), (-17, 42)): (507.33413747010627,\n",
       "  ((58, -35), (-70, 12), (65, 5), (-17, 42))),\n",
       " ((58, -35), (-70, 12), (65, 5), (-17, 42), (45, -90)): (507.33413747010627,\n",
       "  ((58, -35), (-70, 12), (65, 5), (-17, 42), (45, -90))),\n",
       " ((58, -35), (-70, 12), (65, 5), (45, -90), (-17, 42)): (514.455473959286,\n",
       "  ((58, -35), (-70, 12), (65, 5), (45, -90), (-17, 42))),\n",
       " ((58, -35), (-17, 42), (-70, 12)): (400.65489314511291,\n",
       "  ((58, -35), (-17, 42), (-70, 12))),\n",
       " ((58, -35), (-17, 42), (-70, 12), (45, -90), (65, 5)): (419.19080642300145,\n",
       "  ((58, -35), (-17, 42), (-70, 12), (45, -90), (65, 5))),\n",
       " ((58, -35), (-17, 42), (-70, 12), (65, 5)): (400.65489314511291,\n",
       "  ((58, -35), (-17, 42), (-70, 12), (65, 5))),\n",
       " ((58, -35), (-17, 42), (-70, 12), (65, 5), (45, -90)): (400.65489314511291,\n",
       "  ((58, -35), (-17, 42), (-70, 12), (65, 5), (45, -90))),\n",
       " ((58, -35), (-17, 42), (45, -90), (-70, 12), (65, 5)): (542.22369076874816,\n",
       "  ((58, -35), (-17, 42), (45, -90), (-70, 12), (65, 5))),\n",
       " ((58, -35), (-17, 42), (45, -90), (65, 5)): (485.58885702384555,\n",
       "  ((58, -35), (-17, 42), (45, -90), (65, 5))),\n",
       " ((58, -35), (-17, 42), (45, -90), (65, 5), (-70, 12)): (485.58885702384555,\n",
       "  ((58, -35), (-17, 42), (45, -90), (65, 5), (-70, 12))),\n",
       " ((58, -35), (-17, 42), (65, 5), (-70, 12), (45, -90)): (486.3492696812333,\n",
       "  ((58, -35), (-17, 42), (65, 5), (-70, 12), (45, -90))),\n",
       " ((58, -35), (-17, 42), (65, 5), (45, -90)): (448.25034921421923,\n",
       "  ((58, -35), (-17, 42), (65, 5), (45, -90))),\n",
       " ((58, -35), (-17, 42), (65, 5), (45, -90), (-70, 12)): (448.25034921421923,\n",
       "  ((58, -35), (-17, 42), (65, 5), (45, -90), (-70, 12))),\n",
       " ((58, -35), (45, -90)): (304.46058641841586, ((58, -35), (45, -90))),\n",
       " ((58, -35), (45, -90), (-70, 12), (-17, 42)): (361.09542016331852,\n",
       "  ((58, -35), (45, -90), (-70, 12), (-17, 42))),\n",
       " ((58, -35), (45, -90), (-70, 12), (-17, 42), (65, 5)): (361.09542016331852,\n",
       "  ((58, -35), (45, -90), (-70, 12), (-17, 42), (65, 5))),\n",
       " ((58, -35), (45, -90), (-70, 12), (65, 5), (-17, 42)): (435.37521991073027,\n",
       "  ((58, -35), (45, -90), (-70, 12), (65, 5), (-17, 42))),\n",
       " ((58, -35), (45, -90), (-17, 42), (-70, 12)): (398.43392797294484,\n",
       "  ((58, -35), (45, -90), (-17, 42), (-70, 12))),\n",
       " ((58, -35), (45, -90), (-17, 42), (-70, 12), (65, 5)): (398.43392797294484,\n",
       "  ((58, -35), (45, -90), (-17, 42), (-70, 12), (65, 5))),\n",
       " ((58, -35), (45, -90), (-17, 42), (65, 5), (-70, 12)): (427.49347076416268,\n",
       "  ((58, -35), (45, -90), (-17, 42), (65, 5), (-70, 12))),\n",
       " ((58, -35), (45, -90), (65, 5)): (304.46058641841586,\n",
       "  ((58, -35), (45, -90), (65, 5))),\n",
       " ((58, -35), (45, -90), (65, 5), (-70, 12), (-17, 42)): (349.68084337460976,\n",
       "  ((58, -35), (45, -90), (65, 5), (-70, 12), (-17, 42))),\n",
       " ((58, -35), (45, -90), (65, 5), (-17, 42)): (304.46058641841586,\n",
       "  ((58, -35), (45, -90), (65, 5), (-17, 42))),\n",
       " ((58, -35), (45, -90), (65, 5), (-17, 42), (-70, 12)): (304.46058641841586,\n",
       "  ((58, -35), (45, -90), (65, 5), (-17, 42), (-70, 12))),\n",
       " ((58, -35), (65, 5), (-70, 12), (-17, 42)): (382.52632437765965,\n",
       "  ((58, -35), (65, 5), (-70, 12), (-17, 42))),\n",
       " ((58, -35), (65, 5), (-70, 12), (-17, 42), (45, -90)): (382.52632437765965,\n",
       "  ((58, -35), (65, 5), (-70, 12), (-17, 42), (45, -90))),\n",
       " ((58, -35), (65, 5), (-70, 12), (45, -90), (-17, 42)): (475.34203740295993,\n",
       "  ((58, -35), (65, 5), (-70, 12), (45, -90), (-17, 42))),\n",
       " ((58, -35), (65, 5), (-17, 42), (-70, 12)): (345.18781656803333,\n",
       "  ((58, -35), (65, 5), (-17, 42), (-70, 12))),\n",
       " ((58, -35), (65, 5), (-17, 42), (-70, 12), (45, -90)): (345.18781656803333,\n",
       "  ((58, -35), (65, 5), (-17, 42), (-70, 12), (45, -90))),\n",
       " ((58, -35), (65, 5), (-17, 42), (45, -90), (-70, 12)): (430.12178044676591,\n",
       "  ((58, -35), (65, 5), (-17, 42), (45, -90), (-70, 12))),\n",
       " ((58, -35), (65, 5), (45, -90)): (344.42740391064552,\n",
       "  ((58, -35), (65, 5), (45, -90))),\n",
       " ((58, -35), (65, 5), (45, -90), (-70, 12), (-17, 42)): (352.30915305721311,\n",
       "  ((58, -35), (65, 5), (45, -90), (-70, 12), (-17, 42))),\n",
       " ((58, -35), (65, 5), (45, -90), (-17, 42)): (344.42740391064552,\n",
       "  ((58, -35), (65, 5), (45, -90), (-17, 42))),\n",
       " ((58, -35), (65, 5), (45, -90), (-17, 42), (-70, 12)): (344.42740391064552,\n",
       "  ((58, -35), (65, 5), (45, -90), (-17, 42), (-70, 12)))}"
      ]
     },
     "execution_count": 197,
     "metadata": {},
     "output_type": "execute_result"
    }
   ],
   "source": [
    "solution"
   ]
  },
  {
   "cell_type": "code",
   "execution_count": 207,
   "metadata": {},
   "outputs": [],
   "source": [
    "def parse_solution(data):\n",
    "    fine = filter(lambda x: len(x[1]) == len(data), solution.values())\n",
    "    return min(fine, key=lambda x : x[0])"
   ]
  },
  {
   "cell_type": "code",
   "execution_count": 208,
   "metadata": {},
   "outputs": [
    {
     "data": {
      "text/plain": [
       "(304.46058641841586, ((58, -35), (45, -90), (65, 5), (-17, 42), (-70, 12)))"
      ]
     },
     "execution_count": 208,
     "metadata": {},
     "output_type": "execute_result"
    }
   ],
   "source": [
    "parse_solution(tuple([(58, -35), (-17, 42), (45, -90), (65, 5), (-70, 12)]))"
   ]
  },
  {
   "cell_type": "code",
   "execution_count": 212,
   "metadata": {},
   "outputs": [
    {
     "data": {
      "text/plain": [
       "[<matplotlib.lines.Line2D at 0x118936748>]"
      ]
     },
     "execution_count": 212,
     "metadata": {},
     "output_type": "execute_result"
    },
    {
     "data": {
      "image/png": "[encoded data removed]",
      "text/plain": [
       "<matplotlib.figure.Figure at 0x1189fc320>"
      ]
     },
     "metadata": {},
     "output_type": "display_data"
    }
   ],
   "source": [
    "\n",
    "ret = parse_solution(tuple([(58, -35), (-17, 42), (45, -90), (65, 5), (-70, 12)]))[1]\n",
    "fig = plt.figure()\n",
    "ax1 = fig.add_subplot(1, 1, 1)\n",
    "x = np.array([i for i,j in ret])\n",
    "y = np.array([j for i,j in ret])\n",
    "ax1.plot(x, y, 'm.-.', linewidth=1)"
   ]
  },
  {
   "cell_type": "code",
   "execution_count": 213,
   "metadata": {
    "collapsed": true
   },
   "outputs": [],
   "source": [
    "## 试验更多的 点"
   ]
  },
  {
   "cell_type": "code",
   "execution_count": 219,
   "metadata": {},
   "outputs": [
    {
     "data": {
      "text/plain": [
       "<matplotlib.collections.PathCollection at 0x11836c978>"
      ]
     },
     "execution_count": 219,
     "metadata": {},
     "output_type": "execute_result"
    },
    {
     "data": {
      "image/png": "[encoded data removed]",
      "text/plain": [
       "<matplotlib.figure.Figure at 0x1186feda0>"
      ]
     },
     "metadata": {},
     "output_type": "display_data"
    }
   ],
   "source": [
    "latitudes = [random.randint(-100, 100) for _ in range(10)]\n",
    "longitude = [random.randint(-100, 100) for _ in range(10)]\n",
    "plt.scatter(latitudes, longitude)"
   ]
  },
  {
   "cell_type": "code",
   "execution_count": 220,
   "metadata": {},
   "outputs": [
    {
     "data": {
      "text/plain": [
       "((8, 55),\n",
       " (79, -14),\n",
       " (38, 9),\n",
       " (-54, 42),\n",
       " (100, 91),\n",
       " (-10, -95),\n",
       " (92, 67),\n",
       " (87, -13),\n",
       " (82, 32),\n",
       " (48, -98))"
      ]
     },
     "execution_count": 220,
     "metadata": {},
     "output_type": "execute_result"
    }
   ],
   "source": [
    "points = [(i, j) for i, j in zip(latitudes, longitude)]\n",
    "points = tuple(points)\n",
    "points"
   ]
  },
  {
   "cell_type": "code",
   "execution_count": 221,
   "metadata": {
    "collapsed": true
   },
   "outputs": [],
   "source": [
    "solution = {}\n",
    "memo.already_computed = defaultdict(int)\n",
    "@memo\n",
    "def r(alr, lat):\n",
    "    if len(lat) == 1:\n",
    "        paths = [(get_distance(alr + lat), alr + lat)]\n",
    "    else:\n",
    "        # 分解为 当前已经计算 和 还未计算\n",
    "        paths = [(r(alr + (i,), tuple([j for j in lat if i != j])), alr + (i,)) for i in lat]\n",
    "    min_dis = min(paths, key=lambda x: x[0])\n",
    "    solution[min_dis[1]] = min_dis\n",
    "    \n",
    "    return min_dis[0]"
   ]
  },
  {
   "cell_type": "code",
   "execution_count": 222,
   "metadata": {},
   "outputs": [
    {
     "data": {
      "text/plain": [
       "525.25858233851795"
      ]
     },
     "execution_count": 222,
     "metadata": {},
     "output_type": "execute_result"
    }
   ],
   "source": [
    "r((points[0],), points[1:])"
   ]
  },
  {
   "cell_type": "code",
   "execution_count": 223,
   "metadata": {},
   "outputs": [
    {
     "data": {
      "text/plain": [
       "(525.25858233851795,\n",
       " ((8, 55),\n",
       "  (-54, 42),\n",
       "  (-10, -95),\n",
       "  (48, -98),\n",
       "  (87, -13),\n",
       "  (79, -14),\n",
       "  (38, 9),\n",
       "  (82, 32),\n",
       "  (92, 67),\n",
       "  (100, 91)))"
      ]
     },
     "execution_count": 223,
     "metadata": {},
     "output_type": "execute_result"
    }
   ],
   "source": [
    "parse_solution(points)"
   ]
  },
  {
   "cell_type": "code",
   "execution_count": 224,
   "metadata": {},
   "outputs": [
    {
     "data": {
      "text/plain": [
       "[<matplotlib.lines.Line2D at 0x123766b70>]"
      ]
     },
     "execution_count": 224,
     "metadata": {},
     "output_type": "execute_result"
    },
    {
     "data": {
      "image/png": "[encoded data removed]",
      "text/plain": [
       "<matplotlib.figure.Figure at 0x118957fd0>"
      ]
     },
     "metadata": {},
     "output_type": "display_data"
    }
   ],
   "source": [
    "ret = parse_solution(points)[1]\n",
    "fig = plt.figure()\n",
    "ax1 = fig.add_subplot(1, 1, 1)\n",
    "x = np.array([i for i,j in ret])\n",
    "y = np.array([j for i,j in ret])\n",
    "ax1.plot(x, y, 'm.-.', linewidth=1)"
   ]
  },
  {
   "cell_type": "code",
   "execution_count": 225,
   "metadata": {
    "collapsed": true
   },
   "outputs": [],
   "source": [
    "# 比暴力算法 多了剪枝？"
   ]
  },
  {
   "cell_type": "code",
   "execution_count": null,
   "metadata": {
    "collapsed": true
   },
   "outputs": [],
   "source": []
  }
 ],
 "metadata": {
  "kernelspec": {
   "display_name": "Python 3",
   "language": "python",
   "name": "python3"
  }
 },
 "nbformat": 4,
 "nbformat_minor": 2
}
